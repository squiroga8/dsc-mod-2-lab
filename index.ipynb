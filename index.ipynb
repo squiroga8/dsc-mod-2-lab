{
 "cells": [
  {
   "cell_type": "markdown",
   "metadata": {},
   "source": [
    "# Module 2 Summative Lab\n",
    "\n",
    "## Introduction\n",
    "\n",
    "For today's section, we're going to work on a single big lab to apply everything we've learned in Module 2!\n",
    "\n",
    "## About This Lab\n",
    "\n",
    "A quick note before getting started--this lab isn't like other labs you seen so far. This lab is meant to take ~8 hours to complete, so it's much longer and more challenging than the average labs you've seen so far. If you feel like this lab is challenging or that you might be struggling a bit, don't fret--that's by design! With everything we've learned about Web Scraping, APIs, and Databases, the best way to test our knowledge of it is to build something substantial! \n",
    "\n",
    "## The Project\n",
    "\n",
    "In this lab, we're going to make use of everything we've learned about APIs, databases, and Object-Oriented Programming to **_Extract, Transform, and Load_** (or **_ETL_**, for short) some data from a SQL database into a MongoDB Database. \n",
    "\n",
    "You'll find a database containing information about soccer teams and the matches they've played in the file `database.sqlite`. For this project, our goal is to get the data we think is important from this SQL database, do some calculations and data transformation, and then store everything in a MongoDB database. \n",
    "\n",
    "Let's get into the specifics of this project.\n",
    "\n",
    "### The Goal\n",
    "\n",
    "Start by examining the data dictionary for the SQL database we'll be working with, which comes from this [kaggle page](https://www.kaggle.com/laudanum/footballdelphi).  Familiarize yourself with the tables it contains, and what each column means. We'll be using this database to get data on each soccer team, calculate some summary statistics, and then store each in a MongoDB database. \n",
    "\n",
    "Upon completion of this lab, each unique team in this dataset should have a record in the MongoDB instance containing the following information:\n",
    "\n",
    "* The name of the team\n",
    "* The total number of goals scored by the team during the 2011 season\n",
    "* The total number of wins the team earned during the 2011 season\n",
    "* A histogram visualization of the team's wins and losses for the 2011 season (store the visualization directly by assigning it to a variable)\n",
    "* The team's win percentage on days where it was raining during games in the 2011 season. \n",
    "\n",
    "#### Getting the Weather Data\n",
    "\n",
    "Note that for this last calculation, you'll need to figure out if it was raining or not during the game. The database itself does not contain this information, but it does contain the date on which the game was played. For this, you'll need to use the [DarkSky API](https://darksky.net/dev) to get the historical weather data for that day. Note that each game is played in a different location, and this information is not contained in our SQL database. However, the teams in this database are largely german, so go ahead and just use the weather in Berlin, Germany as a proxy for this information. If it was raining in Berlin on the day the game was played, count that as rain game--**_you do not need to try and figure out the actual weather at each game's location, because we don't have that information!_**\n",
    "\n",
    "#### NOTE: The DarkSky API is limited to 1000 free API calls a day, so be sure to test your model on very small samples. Otherwise, you'll hit the rate limit!\n",
    "\n",
    "## Project Architecture\n",
    "\n",
    "Unlike previous labs, this lab is more open-ended, and will require you to make design decisions and plan out your strategy for building a system with this many working parts. However, **_using Object-Oriented Programming is a requirement for this project--you must create at least 2 separate, well-structured classes in your solution!_** Although it may seem easier to \"just start coding\", this is a classic beginner's mistake. Instead, think about separating out the different functionalities you'll need to reach your goal, and then build classes to handle each. For instance, at a minimum, you'll need to:\n",
    "\n",
    "* Query the SQL database\n",
    "* Calculate summary statistics\n",
    "* Get the weather data from the DarkSky API\n",
    "* Load the data into MongoDB\n",
    "\n",
    "We **_strongly recommend_** you consider creating separate classes for handling at least some of these tasks.  Be sure to plan the inputs, outputs, and methods for each class before you begin coding! \n",
    "\n",
    "**_NOTE:_** We have provided some empty classes below. You are welcome to delete them and use a different architecture for this project if you so choose.  You do not have to use each of them, they are just there to give you an idea of what sorts of classes you may want to consider using.\n",
    "\n",
    "### Rapid Prototyping and Refactoring\n",
    "\n",
    "It's totally okay to try to get a task working without using OOP. For instance, when experimenting with the DarkSky API for getting historical weather data, it makes sense to just write the code in the cells and rapidly iterate until you get it all working. However, once you get it working, you're not done--you should then **_Refactor_** your code into functions or classes to make your code more modular, reusable, understandable, and maintainable! \n",
    "\n",
    "In short--do what you need to do to get each separate piece of functionality working, and then refactor it into a class after you've figured it out!\n",
    "\n",
    "### Some Final Advice\n",
    "\n",
    "You haven't built anything this big or complex thus far, so you may not yet fully realize how much trial and error goes into it. If your code keeps breaking, resist the urge to get frustrated, and just keep working. Software development is an iterative process!  No one writes perfect code that works the first time for something this involved. You're going to run into _a lot_ of small errors in this project, right up until the point where it just works, and then you're done! However, you can reduce these errors by planning out your code, and thinking about how all of the pieces fit together before you begin coding. Once you have some basic understanding of how it all will work, then you'll know what you need to build, and then all that is left is to build it!\n",
    "\n",
    "In short:\n",
    "\n",
    "* Plan ahead--you'll thank yourself later!\n",
    "* Errors and broken code aren't bad, they're normal. \n",
    "* Keep working, and stay confident--you can do this!\n",
    "\n",
    "Good luck--we look forward to seeing your completed project!"
   ]
  },
  {
   "cell_type": "markdown",
   "metadata": {},
   "source": [
    "# PROJECT PLAN"
   ]
  },
  {
   "cell_type": "markdown",
   "metadata": {},
   "source": [
    "### **The Goal**: _to get the data we think is important from this SQL database, do some calculations and data transformation, and then store everything in a MongoDB database._"
   ]
  },
  {
   "cell_type": "markdown",
   "metadata": {},
   "source": [
    "### Project Requirements:\n",
    "- [ ] **Query the SQL Database**\n",
    "    - figure out the tables schema\n",
    "    - describe each column - name, type of data, etc.\n",
    "    - extract the name of each team, number of goals scored AND wins during 2011 season\n",
    "    - visualizations - histogram of each team's wins and losses in 2011 season (_stored by directly assigning it to a variable_)\n",
    "- [ ] **Calculate Summary Stats**\n",
    "    - `total_goals_2011`\n",
    "    - `total_wins_2011`\n",
    "    - `total_losses_2011`\n",
    "- [ ] **Obtain weather data from DarkSky API**\n",
    "    - [ ] **Load the data into MongoDB**\n",
    "    - `wins_rainy_2011`: team's win percentage on days where it was raining during games in 2011\n",
    "        - _boolean var for whether or not it was raining during the game_ use date of game, weather from DarkSky, and assume game location in Berlin.\n",
    "        - `raining` : 1=Yes, 0=No\n",
    "- [ ] **Create multiple classes (OOP)**\n",
    "\n",
    "#### Upon completion of this lab, each unique team in this dataset should have a record in the MongoDB instance containing the following information:\n",
    "\n",
    "- [ ] The name of the team\n",
    "- [ ] The total number of goals scored by the team during the 2011 season\n",
    "- [ ] The total number of wins the team earned during the 2011 season\n",
    "- [ ] A histogram visualization of the team's wins and losses for the 2011 season (store the visualization directly by assigning it to a variable)\n",
    "- [ ] The team's win percentage on days where it was raining during games in the 2011 season."
   ]
  },
  {
   "cell_type": "markdown",
   "metadata": {},
   "source": [
    "# Initial Data Exploration\n",
    "We will begin by importing the SQL database and doing some initial exploration to understand the variables and data provided."
   ]
  },
  {
   "cell_type": "markdown",
   "metadata": {},
   "source": [
    "### Database Information\n",
    "_credit:_ [https://www.kaggle.com/laudanum/footballdelphi#]\n",
    "\n",
    "#### Table: Matches\n",
    "\n",
    "- `Match_ID` (int): unique ID per match\n",
    "- `Div` (str): identifies the division the match was played in (D1 = Bundesliga, D2 = Bundesliga 2, E0 = English Premier League)\n",
    "- `Season` (int): Season the match took place in (usually covering the period of August till May of the following year)\n",
    "- `Date` (str): Date of the match\n",
    "- `HomeTeam` (str): Name of the home team\n",
    "- `AwayTeam` (str): Name of the away team\n",
    "- `FTHG` (int) (Full Time Home Goals): Number of goals scored by the home team\n",
    "- `FTAG` (int) (Full Time Away Goals): Number of goals scored by the away team\n",
    "- `FTR` (str) (Full Time Result): 3-way result of the match (H = Home Win, D = Draw, A = Away Win)\n",
    "\n",
    "#### Table: Teams\n",
    "\n",
    "- `Season` (str): Football season for which the data is valid\n",
    "- `TeamName` (str): Name of the team the data concerns\n",
    "- `KaderHome` (str): Number of Players in the squad\n",
    "- `AvgAgeHome` (str): Average age of players\n",
    "- `ForeignPlayersHome` (str): Number of foreign players (non-German, non-English respectively) playing for the team\n",
    "- `OverallMarketValueHome` (str): Overall market value of the team pre-season in EUR (based on data from transfermarkt.de)\n",
    "- `AvgMarketValueHome` (str): Average market value (per player) of the team pre-season in EUR (based on data from transfermarkt.de)\n",
    "- `StadiumCapacity` (str): Maximum stadium capacity of the team's home stadium\n",
    "\n",
    "#### Table: Unique Teams\n",
    "\n",
    "- `TeamName` (str): Name of a team\n",
    "- `Unique_Team_ID` (int): Unique identifier for each team\n",
    "\n",
    "#### Table: Teams_in_Matches\n",
    "\n",
    "- `Match_ID` (int): Unique match ID\n",
    "- `Unique_Team_ID` (int): Unique team ID (This table is used to easily retrieve each match a given team has played in)\n",
    "\n",
    "**Based on these tables I created a couple of views which I used as input for my machine learning models:**\n",
    "#### View: FlatView\n",
    "\n",
    "Combination of all matches with the respective additional data from Teams table for both home and away team.\n",
    "\n",
    "#### View: FlatView_Advanced\n",
    "\n",
    "Same as Flatview but also includes Unique_Team_ID and Unique_Team in order to easily retrieve all matches played by a team in chronological order.\n",
    "\n",
    "#### View: FlatView_Chrono_TeamOrder_Reduced\n",
    "\n",
    "Similar to Flatview_Advanced, however missing the additional attributes from team in order to have a longer history including years 1993 - 2004. Especially interesting if one is only interested in analyzing winning/loosing streaks."
   ]
  },
  {
   "cell_type": "markdown",
   "metadata": {},
   "source": [
    "### Initial SQL Queries"
   ]
  },
  {
   "cell_type": "code",
   "execution_count": 1,
   "metadata": {
    "ExecuteTime": {
     "end_time": "2019-10-23T09:29:08.536976Z",
     "start_time": "2019-10-23T09:29:07.771314Z"
    }
   },
   "outputs": [],
   "source": [
    "import sqlite3\n",
    "import pandas as pd\n",
    "import numpy as np"
   ]
  },
  {
   "cell_type": "code",
   "execution_count": 2,
   "metadata": {
    "ExecuteTime": {
     "end_time": "2019-10-23T09:29:08.707862Z",
     "start_time": "2019-10-23T09:29:08.539709Z"
    }
   },
   "outputs": [],
   "source": [
    "import matplotlib.pyplot as plt\n",
    "%matplotlib inline\n",
    "plt.style.use('ggplot')"
   ]
  },
  {
   "cell_type": "code",
   "execution_count": 3,
   "metadata": {
    "ExecuteTime": {
     "end_time": "2019-10-23T09:29:08.713596Z",
     "start_time": "2019-10-23T09:29:08.710374Z"
    }
   },
   "outputs": [],
   "source": [
    "conn = sqlite3.Connection('database.sqlite')\n",
    "c = conn.cursor()"
   ]
  },
  {
   "cell_type": "code",
   "execution_count": 4,
   "metadata": {
    "ExecuteTime": {
     "end_time": "2019-10-23T09:29:08.734873Z",
     "start_time": "2019-10-23T09:29:08.715885Z"
    }
   },
   "outputs": [
    {
     "data": {
      "text/html": [
       "<div>\n",
       "<style scoped>\n",
       "    .dataframe tbody tr th:only-of-type {\n",
       "        vertical-align: middle;\n",
       "    }\n",
       "\n",
       "    .dataframe tbody tr th {\n",
       "        vertical-align: top;\n",
       "    }\n",
       "\n",
       "    .dataframe thead th {\n",
       "        text-align: right;\n",
       "    }\n",
       "</style>\n",
       "<table border=\"1\" class=\"dataframe\">\n",
       "  <thead>\n",
       "    <tr style=\"text-align: right;\">\n",
       "      <th></th>\n",
       "      <th>type</th>\n",
       "      <th>name</th>\n",
       "      <th>tbl_name</th>\n",
       "      <th>rootpage</th>\n",
       "      <th>sql</th>\n",
       "    </tr>\n",
       "  </thead>\n",
       "  <tbody>\n",
       "    <tr>\n",
       "      <td>0</td>\n",
       "      <td>table</td>\n",
       "      <td>sqlite_sequence</td>\n",
       "      <td>sqlite_sequence</td>\n",
       "      <td>1023</td>\n",
       "      <td>CREATE TABLE sqlite_sequence(name,seq)</td>\n",
       "    </tr>\n",
       "    <tr>\n",
       "      <td>1</td>\n",
       "      <td>table</td>\n",
       "      <td>Matches</td>\n",
       "      <td>Matches</td>\n",
       "      <td>810</td>\n",
       "      <td>CREATE TABLE \"Matches\" (\\n\\t`Match_ID`\\tINTEGE...</td>\n",
       "    </tr>\n",
       "    <tr>\n",
       "      <td>2</td>\n",
       "      <td>index</td>\n",
       "      <td>sqlite_autoindex_Matches_1</td>\n",
       "      <td>Matches</td>\n",
       "      <td>1502</td>\n",
       "      <td>None</td>\n",
       "    </tr>\n",
       "    <tr>\n",
       "      <td>3</td>\n",
       "      <td>table</td>\n",
       "      <td>Teams_in_Matches</td>\n",
       "      <td>Teams_in_Matches</td>\n",
       "      <td>4</td>\n",
       "      <td>CREATE TABLE Teams_in_Matches(\\n  Match_ID INT...</td>\n",
       "    </tr>\n",
       "    <tr>\n",
       "      <td>4</td>\n",
       "      <td>table</td>\n",
       "      <td>Teams</td>\n",
       "      <td>Teams</td>\n",
       "      <td>5</td>\n",
       "      <td>CREATE TABLE \"Teams\" (\\n\\t`Season`\\tTEXT,\\n\\t`...</td>\n",
       "    </tr>\n",
       "    <tr>\n",
       "      <td>5</td>\n",
       "      <td>table</td>\n",
       "      <td>Unique_Teams</td>\n",
       "      <td>Unique_Teams</td>\n",
       "      <td>7</td>\n",
       "      <td>CREATE TABLE \"Unique_Teams\" (\\n\\t`TeamName`\\tT...</td>\n",
       "    </tr>\n",
       "    <tr>\n",
       "      <td>6</td>\n",
       "      <td>view</td>\n",
       "      <td>FlatView_Chrono_TeamOrder_Reduced</td>\n",
       "      <td>FlatView_Chrono_TeamOrder_Reduced</td>\n",
       "      <td>0</td>\n",
       "      <td>CREATE VIEW FlatView_Chrono_TeamOrder_Reduced\\...</td>\n",
       "    </tr>\n",
       "    <tr>\n",
       "      <td>7</td>\n",
       "      <td>view</td>\n",
       "      <td>FlatView_Advanced</td>\n",
       "      <td>FlatView_Advanced</td>\n",
       "      <td>0</td>\n",
       "      <td>CREATE VIEW FlatView_Advanced AS SELECT Match_...</td>\n",
       "    </tr>\n",
       "    <tr>\n",
       "      <td>8</td>\n",
       "      <td>view</td>\n",
       "      <td>FlatView</td>\n",
       "      <td>FlatView</td>\n",
       "      <td>0</td>\n",
       "      <td>CREATE VIEW FlatView AS Select Matches.Match_I...</td>\n",
       "    </tr>\n",
       "  </tbody>\n",
       "</table>\n",
       "</div>"
      ],
      "text/plain": [
       "    type                               name  \\\n",
       "0  table                    sqlite_sequence   \n",
       "1  table                            Matches   \n",
       "2  index         sqlite_autoindex_Matches_1   \n",
       "3  table                   Teams_in_Matches   \n",
       "4  table                              Teams   \n",
       "5  table                       Unique_Teams   \n",
       "6   view  FlatView_Chrono_TeamOrder_Reduced   \n",
       "7   view                  FlatView_Advanced   \n",
       "8   view                           FlatView   \n",
       "\n",
       "                            tbl_name  rootpage  \\\n",
       "0                    sqlite_sequence      1023   \n",
       "1                            Matches       810   \n",
       "2                            Matches      1502   \n",
       "3                   Teams_in_Matches         4   \n",
       "4                              Teams         5   \n",
       "5                       Unique_Teams         7   \n",
       "6  FlatView_Chrono_TeamOrder_Reduced         0   \n",
       "7                  FlatView_Advanced         0   \n",
       "8                           FlatView         0   \n",
       "\n",
       "                                                 sql  \n",
       "0             CREATE TABLE sqlite_sequence(name,seq)  \n",
       "1  CREATE TABLE \"Matches\" (\\n\\t`Match_ID`\\tINTEGE...  \n",
       "2                                               None  \n",
       "3  CREATE TABLE Teams_in_Matches(\\n  Match_ID INT...  \n",
       "4  CREATE TABLE \"Teams\" (\\n\\t`Season`\\tTEXT,\\n\\t`...  \n",
       "5  CREATE TABLE \"Unique_Teams\" (\\n\\t`TeamName`\\tT...  \n",
       "6  CREATE VIEW FlatView_Chrono_TeamOrder_Reduced\\...  \n",
       "7  CREATE VIEW FlatView_Advanced AS SELECT Match_...  \n",
       "8  CREATE VIEW FlatView AS Select Matches.Match_I...  "
      ]
     },
     "execution_count": 4,
     "metadata": {},
     "output_type": "execute_result"
    }
   ],
   "source": [
    "# to see what tables are provided in the database\n",
    "c.execute(\"\"\"SELECT *FROM sqlite_master;\"\"\")\n",
    "df = pd.DataFrame(c.fetchall())\n",
    "df.columns = [x[0] for x in c.description]\n",
    "df"
   ]
  },
  {
   "cell_type": "code",
   "execution_count": 5,
   "metadata": {
    "ExecuteTime": {
     "end_time": "2019-10-23T09:29:08.740110Z",
     "start_time": "2019-10-23T09:29:08.736951Z"
    }
   },
   "outputs": [
    {
     "name": "stdout",
     "output_type": "stream",
     "text": [
      "9\n"
     ]
    }
   ],
   "source": [
    "print(len(df))"
   ]
  },
  {
   "cell_type": "code",
   "execution_count": 6,
   "metadata": {
    "ExecuteTime": {
     "end_time": "2019-10-23T09:29:08.869171Z",
     "start_time": "2019-10-23T09:29:08.742217Z"
    }
   },
   "outputs": [
    {
     "data": {
      "text/html": [
       "<div>\n",
       "<style scoped>\n",
       "    .dataframe tbody tr th:only-of-type {\n",
       "        vertical-align: middle;\n",
       "    }\n",
       "\n",
       "    .dataframe tbody tr th {\n",
       "        vertical-align: top;\n",
       "    }\n",
       "\n",
       "    .dataframe thead th {\n",
       "        text-align: right;\n",
       "    }\n",
       "</style>\n",
       "<table border=\"1\" class=\"dataframe\">\n",
       "  <thead>\n",
       "    <tr style=\"text-align: right;\">\n",
       "      <th></th>\n",
       "      <th>Match_ID</th>\n",
       "      <th>Unique_Team_ID</th>\n",
       "    </tr>\n",
       "  </thead>\n",
       "  <tbody>\n",
       "    <tr>\n",
       "      <td>0</td>\n",
       "      <td>1</td>\n",
       "      <td>26</td>\n",
       "    </tr>\n",
       "    <tr>\n",
       "      <td>1</td>\n",
       "      <td>1</td>\n",
       "      <td>46</td>\n",
       "    </tr>\n",
       "    <tr>\n",
       "      <td>2</td>\n",
       "      <td>2</td>\n",
       "      <td>26</td>\n",
       "    </tr>\n",
       "    <tr>\n",
       "      <td>3</td>\n",
       "      <td>2</td>\n",
       "      <td>42</td>\n",
       "    </tr>\n",
       "    <tr>\n",
       "      <td>4</td>\n",
       "      <td>3</td>\n",
       "      <td>26</td>\n",
       "    </tr>\n",
       "  </tbody>\n",
       "</table>\n",
       "</div>"
      ],
      "text/plain": [
       "   Match_ID  Unique_Team_ID\n",
       "0         1              26\n",
       "1         1              46\n",
       "2         2              26\n",
       "3         2              42\n",
       "4         3              26"
      ]
     },
     "execution_count": 6,
     "metadata": {},
     "output_type": "execute_result"
    }
   ],
   "source": [
    "# to quickly view what primary and foreign keys we have to act as an intermediary between matches and teams\n",
    "c.execute(\"\"\"SELECT * FROM teams_in_matches;\"\"\")\n",
    "teams_in_matches_df = pd.DataFrame(c.fetchall())\n",
    "teams_in_matches_df.columns = [x[0] for x in c.description]\n",
    "teams_in_matches_df.head()"
   ]
  },
  {
   "cell_type": "markdown",
   "metadata": {},
   "source": [
    "#### Matches and Teams tables"
   ]
  },
  {
   "cell_type": "markdown",
   "metadata": {},
   "source": [
    "First let's take a quick glance at the Teams table for the 2011 season only."
   ]
  },
  {
   "cell_type": "code",
   "execution_count": 7,
   "metadata": {
    "ExecuteTime": {
     "end_time": "2019-10-23T09:29:08.888135Z",
     "start_time": "2019-10-23T09:29:08.871172Z"
    }
   },
   "outputs": [
    {
     "data": {
      "text/html": [
       "<div>\n",
       "<style scoped>\n",
       "    .dataframe tbody tr th:only-of-type {\n",
       "        vertical-align: middle;\n",
       "    }\n",
       "\n",
       "    .dataframe tbody tr th {\n",
       "        vertical-align: top;\n",
       "    }\n",
       "\n",
       "    .dataframe thead th {\n",
       "        text-align: right;\n",
       "    }\n",
       "</style>\n",
       "<table border=\"1\" class=\"dataframe\">\n",
       "  <thead>\n",
       "    <tr style=\"text-align: right;\">\n",
       "      <th></th>\n",
       "      <th>Season</th>\n",
       "      <th>TeamName</th>\n",
       "      <th>KaderHome</th>\n",
       "      <th>AvgAgeHome</th>\n",
       "      <th>ForeignPlayersHome</th>\n",
       "      <th>OverallMarketValueHome</th>\n",
       "      <th>AvgMarketValueHome</th>\n",
       "      <th>StadiumCapacity</th>\n",
       "    </tr>\n",
       "  </thead>\n",
       "  <tbody>\n",
       "    <tr>\n",
       "      <td>0</td>\n",
       "      <td>2011</td>\n",
       "      <td>Bayern Munich</td>\n",
       "      <td>24</td>\n",
       "      <td>25</td>\n",
       "      <td>11</td>\n",
       "      <td>335600000</td>\n",
       "      <td>13980000</td>\n",
       "      <td>75000</td>\n",
       "    </tr>\n",
       "    <tr>\n",
       "      <td>1</td>\n",
       "      <td>2011</td>\n",
       "      <td>Dortmund</td>\n",
       "      <td>28</td>\n",
       "      <td>24</td>\n",
       "      <td>12</td>\n",
       "      <td>158200000</td>\n",
       "      <td>5650000</td>\n",
       "      <td>81359</td>\n",
       "    </tr>\n",
       "    <tr>\n",
       "      <td>2</td>\n",
       "      <td>2011</td>\n",
       "      <td>Leverkusen</td>\n",
       "      <td>29</td>\n",
       "      <td>23</td>\n",
       "      <td>9</td>\n",
       "      <td>151100000</td>\n",
       "      <td>5210000</td>\n",
       "      <td>30210</td>\n",
       "    </tr>\n",
       "    <tr>\n",
       "      <td>3</td>\n",
       "      <td>2011</td>\n",
       "      <td>Schalke 04</td>\n",
       "      <td>37</td>\n",
       "      <td>24</td>\n",
       "      <td>20</td>\n",
       "      <td>136730000</td>\n",
       "      <td>3700000</td>\n",
       "      <td>62271</td>\n",
       "    </tr>\n",
       "    <tr>\n",
       "      <td>4</td>\n",
       "      <td>2011</td>\n",
       "      <td>Werder Bremen</td>\n",
       "      <td>38</td>\n",
       "      <td>23</td>\n",
       "      <td>17</td>\n",
       "      <td>125350000</td>\n",
       "      <td>3300000</td>\n",
       "      <td>42100</td>\n",
       "    </tr>\n",
       "  </tbody>\n",
       "</table>\n",
       "</div>"
      ],
      "text/plain": [
       "  Season       TeamName KaderHome AvgAgeHome ForeignPlayersHome  \\\n",
       "0   2011  Bayern Munich        24         25                 11   \n",
       "1   2011       Dortmund        28         24                 12   \n",
       "2   2011     Leverkusen        29         23                  9   \n",
       "3   2011     Schalke 04        37         24                 20   \n",
       "4   2011  Werder Bremen        38         23                 17   \n",
       "\n",
       "  OverallMarketValueHome AvgMarketValueHome StadiumCapacity  \n",
       "0              335600000           13980000           75000  \n",
       "1              158200000            5650000           81359  \n",
       "2              151100000            5210000           30210  \n",
       "3              136730000            3700000           62271  \n",
       "4              125350000            3300000           42100  "
      ]
     },
     "execution_count": 7,
     "metadata": {},
     "output_type": "execute_result"
    }
   ],
   "source": [
    "c.execute(\"\"\"SELECT * FROM teams WHERE season = 2011;\"\"\")\n",
    "teams2011_df = pd.DataFrame(c.fetchall())\n",
    "teams2011_df.columns = [x[0] for x in c.description]\n",
    "teams2011_df.head()"
   ]
  },
  {
   "cell_type": "code",
   "execution_count": 8,
   "metadata": {
    "ExecuteTime": {
     "end_time": "2019-10-23T09:29:08.894683Z",
     "start_time": "2019-10-23T09:29:08.891692Z"
    }
   },
   "outputs": [
    {
     "name": "stdout",
     "output_type": "stream",
     "text": [
      "(36, 8)\n"
     ]
    }
   ],
   "source": [
    "print(teams2011_df.shape)"
   ]
  },
  {
   "cell_type": "code",
   "execution_count": 9,
   "metadata": {
    "ExecuteTime": {
     "end_time": "2019-10-23T09:29:08.904922Z",
     "start_time": "2019-10-23T09:29:08.897688Z"
    }
   },
   "outputs": [
    {
     "name": "stdout",
     "output_type": "stream",
     "text": [
      "<class 'pandas.core.frame.DataFrame'>\n",
      "RangeIndex: 36 entries, 0 to 35\n",
      "Data columns (total 8 columns):\n",
      "Season                    36 non-null object\n",
      "TeamName                  36 non-null object\n",
      "KaderHome                 36 non-null object\n",
      "AvgAgeHome                36 non-null object\n",
      "ForeignPlayersHome        36 non-null object\n",
      "OverallMarketValueHome    36 non-null object\n",
      "AvgMarketValueHome        36 non-null object\n",
      "StadiumCapacity           36 non-null object\n",
      "dtypes: object(8)\n",
      "memory usage: 2.4+ KB\n"
     ]
    }
   ],
   "source": [
    "teams2011_df.info()"
   ]
  },
  {
   "cell_type": "code",
   "execution_count": 10,
   "metadata": {
    "ExecuteTime": {
     "end_time": "2019-10-23T09:29:08.914647Z",
     "start_time": "2019-10-23T09:29:08.906807Z"
    },
    "scrolled": true
   },
   "outputs": [
    {
     "data": {
      "text/plain": [
       "count                36\n",
       "unique               36\n",
       "top       Werder Bremen\n",
       "freq                  1\n",
       "Name: TeamName, dtype: object"
      ]
     },
     "execution_count": 10,
     "metadata": {},
     "output_type": "execute_result"
    }
   ],
   "source": [
    "teams2011_df.TeamName.describe()"
   ]
  },
  {
   "cell_type": "code",
   "execution_count": 11,
   "metadata": {
    "ExecuteTime": {
     "end_time": "2019-10-23T09:29:08.921518Z",
     "start_time": "2019-10-23T09:29:08.916433Z"
    },
    "scrolled": true
   },
   "outputs": [
    {
     "data": {
      "text/plain": [
       "0          Bayern Munich\n",
       "1               Dortmund\n",
       "2             Leverkusen\n",
       "3             Schalke 04\n",
       "4          Werder Bremen\n",
       "5              Wolfsburg\n",
       "6                Hamburg\n",
       "7              Stuttgart\n",
       "8             Hoffenheim\n",
       "9                FC Koln\n",
       "10              Hannover\n",
       "11            M'gladbach\n",
       "12              Freiburg\n",
       "13                 Mainz\n",
       "14                Hertha\n",
       "15        Kaiserslautern\n",
       "16              Nurnberg\n",
       "17              Augsburg\n",
       "18         Ein Frankfurt\n",
       "19              St Pauli\n",
       "20               Cottbus\n",
       "21                Bochum\n",
       "22    Fortuna Dusseldorf\n",
       "23        Greuther Furth\n",
       "24           Munich 1860\n",
       "25                Aachen\n",
       "26            Ingolstadt\n",
       "27              Duisburg\n",
       "28             Karlsruhe\n",
       "29               Dresden\n",
       "30         Frankfurt FSV\n",
       "31        Erzgebirge Aue\n",
       "32         Hansa Rostock\n",
       "33          Union Berlin\n",
       "34             Paderborn\n",
       "35          Braunschweig\n",
       "Name: TeamName, dtype: object"
      ]
     },
     "execution_count": 11,
     "metadata": {},
     "output_type": "execute_result"
    }
   ],
   "source": [
    "teams2011_df.TeamName"
   ]
  },
  {
   "cell_type": "markdown",
   "metadata": {},
   "source": [
    "We have 36 teams represented as having played in the 2011 season according to the teams table."
   ]
  },
  {
   "cell_type": "markdown",
   "metadata": {},
   "source": [
    "Now let's first look at the matches table, selecting only the 2011 season."
   ]
  },
  {
   "cell_type": "code",
   "execution_count": 12,
   "metadata": {
    "ExecuteTime": {
     "end_time": "2019-10-23T09:29:08.968009Z",
     "start_time": "2019-10-23T09:29:08.923523Z"
    }
   },
   "outputs": [
    {
     "data": {
      "text/html": [
       "<div>\n",
       "<style scoped>\n",
       "    .dataframe tbody tr th:only-of-type {\n",
       "        vertical-align: middle;\n",
       "    }\n",
       "\n",
       "    .dataframe tbody tr th {\n",
       "        vertical-align: top;\n",
       "    }\n",
       "\n",
       "    .dataframe thead th {\n",
       "        text-align: right;\n",
       "    }\n",
       "</style>\n",
       "<table border=\"1\" class=\"dataframe\">\n",
       "  <thead>\n",
       "    <tr style=\"text-align: right;\">\n",
       "      <th></th>\n",
       "      <th>Match_ID</th>\n",
       "      <th>Div</th>\n",
       "      <th>Season</th>\n",
       "      <th>Date</th>\n",
       "      <th>HomeTeam</th>\n",
       "      <th>AwayTeam</th>\n",
       "      <th>FTHG</th>\n",
       "      <th>FTAG</th>\n",
       "      <th>FTR</th>\n",
       "    </tr>\n",
       "  </thead>\n",
       "  <tbody>\n",
       "    <tr>\n",
       "      <td>0</td>\n",
       "      <td>1092</td>\n",
       "      <td>D1</td>\n",
       "      <td>2011</td>\n",
       "      <td>2012-03-31</td>\n",
       "      <td>Nurnberg</td>\n",
       "      <td>Bayern Munich</td>\n",
       "      <td>0</td>\n",
       "      <td>1</td>\n",
       "      <td>A</td>\n",
       "    </tr>\n",
       "    <tr>\n",
       "      <td>1</td>\n",
       "      <td>1093</td>\n",
       "      <td>D1</td>\n",
       "      <td>2011</td>\n",
       "      <td>2011-12-11</td>\n",
       "      <td>Stuttgart</td>\n",
       "      <td>Bayern Munich</td>\n",
       "      <td>1</td>\n",
       "      <td>2</td>\n",
       "      <td>A</td>\n",
       "    </tr>\n",
       "    <tr>\n",
       "      <td>2</td>\n",
       "      <td>1094</td>\n",
       "      <td>D1</td>\n",
       "      <td>2011</td>\n",
       "      <td>2011-08-13</td>\n",
       "      <td>Wolfsburg</td>\n",
       "      <td>Bayern Munich</td>\n",
       "      <td>0</td>\n",
       "      <td>1</td>\n",
       "      <td>A</td>\n",
       "    </tr>\n",
       "    <tr>\n",
       "      <td>3</td>\n",
       "      <td>1095</td>\n",
       "      <td>D1</td>\n",
       "      <td>2011</td>\n",
       "      <td>2011-11-27</td>\n",
       "      <td>Mainz</td>\n",
       "      <td>Bayern Munich</td>\n",
       "      <td>3</td>\n",
       "      <td>2</td>\n",
       "      <td>H</td>\n",
       "    </tr>\n",
       "    <tr>\n",
       "      <td>4</td>\n",
       "      <td>1096</td>\n",
       "      <td>D1</td>\n",
       "      <td>2011</td>\n",
       "      <td>2012-02-18</td>\n",
       "      <td>Freiburg</td>\n",
       "      <td>Bayern Munich</td>\n",
       "      <td>0</td>\n",
       "      <td>0</td>\n",
       "      <td>D</td>\n",
       "    </tr>\n",
       "  </tbody>\n",
       "</table>\n",
       "</div>"
      ],
      "text/plain": [
       "   Match_ID Div  Season        Date   HomeTeam       AwayTeam  FTHG  FTAG FTR\n",
       "0      1092  D1    2011  2012-03-31   Nurnberg  Bayern Munich     0     1   A\n",
       "1      1093  D1    2011  2011-12-11  Stuttgart  Bayern Munich     1     2   A\n",
       "2      1094  D1    2011  2011-08-13  Wolfsburg  Bayern Munich     0     1   A\n",
       "3      1095  D1    2011  2011-11-27      Mainz  Bayern Munich     3     2   H\n",
       "4      1096  D1    2011  2012-02-18   Freiburg  Bayern Munich     0     0   D"
      ]
     },
     "execution_count": 12,
     "metadata": {},
     "output_type": "execute_result"
    }
   ],
   "source": [
    "c.execute(\"\"\"SELECT * FROM matches WHERE season = 2011;\"\"\")\n",
    "matches2011_df = pd.DataFrame(c.fetchall())\n",
    "matches2011_df.columns = [x[0] for x in c.description]\n",
    "matches2011_df.head()"
   ]
  },
  {
   "cell_type": "code",
   "execution_count": 13,
   "metadata": {
    "ExecuteTime": {
     "end_time": "2019-10-23T09:29:08.973145Z",
     "start_time": "2019-10-23T09:29:08.970111Z"
    }
   },
   "outputs": [
    {
     "name": "stdout",
     "output_type": "stream",
     "text": [
      "(992, 9)\n"
     ]
    }
   ],
   "source": [
    "print(matches2011_df.shape)"
   ]
  },
  {
   "cell_type": "code",
   "execution_count": 14,
   "metadata": {
    "ExecuteTime": {
     "end_time": "2019-10-23T09:29:08.980624Z",
     "start_time": "2019-10-23T09:29:08.975340Z"
    }
   },
   "outputs": [
    {
     "data": {
      "text/plain": [
       "Index(['Match_ID', 'Div', 'Season', 'Date', 'HomeTeam', 'AwayTeam', 'FTHG',\n",
       "       'FTAG', 'FTR'],\n",
       "      dtype='object')"
      ]
     },
     "execution_count": 14,
     "metadata": {},
     "output_type": "execute_result"
    }
   ],
   "source": [
    "matches2011_df.columns"
   ]
  },
  {
   "cell_type": "code",
   "execution_count": 15,
   "metadata": {
    "ExecuteTime": {
     "end_time": "2019-10-23T09:29:08.990851Z",
     "start_time": "2019-10-23T09:29:08.983371Z"
    }
   },
   "outputs": [
    {
     "name": "stdout",
     "output_type": "stream",
     "text": [
      "<class 'pandas.core.frame.DataFrame'>\n",
      "RangeIndex: 992 entries, 0 to 991\n",
      "Data columns (total 9 columns):\n",
      "Match_ID    992 non-null int64\n",
      "Div         992 non-null object\n",
      "Season      992 non-null int64\n",
      "Date        992 non-null object\n",
      "HomeTeam    992 non-null object\n",
      "AwayTeam    992 non-null object\n",
      "FTHG        992 non-null int64\n",
      "FTAG        992 non-null int64\n",
      "FTR         992 non-null object\n",
      "dtypes: int64(4), object(5)\n",
      "memory usage: 69.9+ KB\n"
     ]
    }
   ],
   "source": [
    "matches2011_df.info()"
   ]
  },
  {
   "cell_type": "code",
   "execution_count": 16,
   "metadata": {
    "ExecuteTime": {
     "end_time": "2019-10-23T09:29:08.999570Z",
     "start_time": "2019-10-23T09:29:08.992761Z"
    },
    "scrolled": true
   },
   "outputs": [
    {
     "data": {
      "text/plain": [
       "Chelsea               19\n",
       "West Brom             19\n",
       "Swansea               19\n",
       "Tottenham             19\n",
       "Wolves                19\n",
       "Liverpool             19\n",
       "Norwich               19\n",
       "Sunderland            19\n",
       "Fulham                19\n",
       "QPR                   19\n",
       "Man United            19\n",
       "Bolton                19\n",
       "Man City              19\n",
       "Everton               19\n",
       "Blackburn             19\n",
       "Aston Villa           19\n",
       "Stoke                 19\n",
       "Wigan                 19\n",
       "Newcastle             19\n",
       "Arsenal               19\n",
       "Hannover              17\n",
       "Schalke 04            17\n",
       "Hoffenheim            17\n",
       "Dortmund              17\n",
       "Bayern Munich         17\n",
       "Ingolstadt            17\n",
       "FC Koln               17\n",
       "Munich 1860           17\n",
       "Kaiserslautern        17\n",
       "Aachen                17\n",
       "Hertha                17\n",
       "Stuttgart             17\n",
       "Duisburg              17\n",
       "Nurnberg              17\n",
       "Cottbus               17\n",
       "Erzgebirge Aue        17\n",
       "Augsburg              17\n",
       "Braunschweig          17\n",
       "Frankfurt FSV         17\n",
       "Hamburg               17\n",
       "Mainz                 17\n",
       "Freiburg              17\n",
       "Union Berlin          17\n",
       "Karlsruhe             17\n",
       "Leverkusen            17\n",
       "Ein Frankfurt         17\n",
       "Bochum                17\n",
       "Greuther Furth        17\n",
       "Fortuna Dusseldorf    17\n",
       "St Pauli              17\n",
       "Hansa Rostock         17\n",
       "Wolfsburg             17\n",
       "Paderborn             17\n",
       "Dresden               17\n",
       "Werder Bremen         17\n",
       "M'gladbach            17\n",
       "Name: HomeTeam, dtype: int64"
      ]
     },
     "execution_count": 16,
     "metadata": {},
     "output_type": "execute_result"
    }
   ],
   "source": [
    "matches2011_df.HomeTeam.value_counts()"
   ]
  },
  {
   "cell_type": "code",
   "execution_count": 17,
   "metadata": {
    "ExecuteTime": {
     "end_time": "2019-10-23T09:29:09.009297Z",
     "start_time": "2019-10-23T09:29:09.001511Z"
    },
    "scrolled": true
   },
   "outputs": [
    {
     "data": {
      "text/plain": [
       "count         992\n",
       "unique         56\n",
       "top       Chelsea\n",
       "freq           19\n",
       "Name: AwayTeam, dtype: object"
      ]
     },
     "execution_count": 17,
     "metadata": {},
     "output_type": "execute_result"
    }
   ],
   "source": [
    "matches2011_df.AwayTeam.describe()"
   ]
  },
  {
   "cell_type": "code",
   "execution_count": 18,
   "metadata": {
    "ExecuteTime": {
     "end_time": "2019-10-23T09:29:09.018807Z",
     "start_time": "2019-10-23T09:29:09.011160Z"
    },
    "scrolled": true
   },
   "outputs": [
    {
     "data": {
      "text/plain": [
       "count         992\n",
       "unique         56\n",
       "top       Chelsea\n",
       "freq           19\n",
       "Name: HomeTeam, dtype: object"
      ]
     },
     "execution_count": 18,
     "metadata": {},
     "output_type": "execute_result"
    }
   ],
   "source": [
    "matches2011_df.HomeTeam.describe()"
   ]
  },
  {
   "cell_type": "markdown",
   "metadata": {},
   "source": [
    "It appears that there is a discrepancy in the number of unique teams between the matches and teams tables (both for 2011 season only). The teams table has 36 unique teams while the matches table has 56 unique teams - both for home and away teams. It's possible that the teams table is not as complete and is missing data for 20 teams. Given this, we will **use the matches table when creating a unique list of teams for our models.**"
   ]
  },
  {
   "cell_type": "code",
   "execution_count": 19,
   "metadata": {
    "ExecuteTime": {
     "end_time": "2019-10-23T09:29:09.034970Z",
     "start_time": "2019-10-23T09:29:09.020755Z"
    }
   },
   "outputs": [
    {
     "name": "stdout",
     "output_type": "stream",
     "text": [
      "(128, 2)\n",
      "count            128\n",
      "unique           128\n",
      "top       Babelsberg\n",
      "freq               1\n",
      "Name: TeamName, dtype: object\n"
     ]
    },
    {
     "data": {
      "text/html": [
       "<div>\n",
       "<style scoped>\n",
       "    .dataframe tbody tr th:only-of-type {\n",
       "        vertical-align: middle;\n",
       "    }\n",
       "\n",
       "    .dataframe tbody tr th {\n",
       "        vertical-align: top;\n",
       "    }\n",
       "\n",
       "    .dataframe thead th {\n",
       "        text-align: right;\n",
       "    }\n",
       "</style>\n",
       "<table border=\"1\" class=\"dataframe\">\n",
       "  <thead>\n",
       "    <tr style=\"text-align: right;\">\n",
       "      <th></th>\n",
       "      <th>TeamName</th>\n",
       "      <th>Unique_Team_ID</th>\n",
       "    </tr>\n",
       "  </thead>\n",
       "  <tbody>\n",
       "    <tr>\n",
       "      <td>0</td>\n",
       "      <td>Bayern Munich</td>\n",
       "      <td>1</td>\n",
       "    </tr>\n",
       "    <tr>\n",
       "      <td>1</td>\n",
       "      <td>Dortmund</td>\n",
       "      <td>2</td>\n",
       "    </tr>\n",
       "    <tr>\n",
       "      <td>2</td>\n",
       "      <td>Leverkusen</td>\n",
       "      <td>3</td>\n",
       "    </tr>\n",
       "    <tr>\n",
       "      <td>3</td>\n",
       "      <td>RB Leipzig</td>\n",
       "      <td>4</td>\n",
       "    </tr>\n",
       "    <tr>\n",
       "      <td>4</td>\n",
       "      <td>Schalke 04</td>\n",
       "      <td>5</td>\n",
       "    </tr>\n",
       "  </tbody>\n",
       "</table>\n",
       "</div>"
      ],
      "text/plain": [
       "        TeamName  Unique_Team_ID\n",
       "0  Bayern Munich               1\n",
       "1       Dortmund               2\n",
       "2     Leverkusen               3\n",
       "3     RB Leipzig               4\n",
       "4     Schalke 04               5"
      ]
     },
     "execution_count": 19,
     "metadata": {},
     "output_type": "execute_result"
    }
   ],
   "source": [
    "# for reference, checking the unique teams table to see number of teams (without distinction of season)\n",
    "c.execute(\"\"\"SELECT * FROM unique_teams;\"\"\")\n",
    "unique_teams_df = pd.DataFrame(c.fetchall())\n",
    "unique_teams_df.columns = [x[0] for x in c.description]\n",
    "print(unique_teams_df.shape)\n",
    "print(unique_teams_df.TeamName.describe())\n",
    "unique_teams_df.head()"
   ]
  },
  {
   "cell_type": "markdown",
   "metadata": {},
   "source": [
    "#### teams that are not represented in the `teams` table"
   ]
  },
  {
   "cell_type": "code",
   "execution_count": 20,
   "metadata": {
    "ExecuteTime": {
     "end_time": "2019-10-23T09:29:09.071443Z",
     "start_time": "2019-10-23T09:29:09.036741Z"
    }
   },
   "outputs": [
    {
     "data": {
      "text/html": [
       "<div>\n",
       "<style scoped>\n",
       "    .dataframe tbody tr th:only-of-type {\n",
       "        vertical-align: middle;\n",
       "    }\n",
       "\n",
       "    .dataframe tbody tr th {\n",
       "        vertical-align: top;\n",
       "    }\n",
       "\n",
       "    .dataframe thead th {\n",
       "        text-align: right;\n",
       "    }\n",
       "</style>\n",
       "<table border=\"1\" class=\"dataframe\">\n",
       "  <thead>\n",
       "    <tr style=\"text-align: right;\">\n",
       "      <th></th>\n",
       "      <th>Match_ID</th>\n",
       "      <th>Div</th>\n",
       "      <th>Season_x</th>\n",
       "      <th>Date</th>\n",
       "      <th>HomeTeam</th>\n",
       "      <th>AwayTeam</th>\n",
       "      <th>FTHG</th>\n",
       "      <th>FTAG</th>\n",
       "      <th>FTR</th>\n",
       "      <th>Season_y</th>\n",
       "      <th>TeamName</th>\n",
       "      <th>KaderHome</th>\n",
       "      <th>AvgAgeHome</th>\n",
       "      <th>ForeignPlayersHome</th>\n",
       "      <th>OverallMarketValueHome</th>\n",
       "      <th>AvgMarketValueHome</th>\n",
       "      <th>StadiumCapacity</th>\n",
       "      <th>_merge</th>\n",
       "    </tr>\n",
       "  </thead>\n",
       "  <tbody>\n",
       "    <tr>\n",
       "      <td>0</td>\n",
       "      <td>1092</td>\n",
       "      <td>D1</td>\n",
       "      <td>2011</td>\n",
       "      <td>2012-03-31</td>\n",
       "      <td>Nurnberg</td>\n",
       "      <td>Bayern Munich</td>\n",
       "      <td>0</td>\n",
       "      <td>1</td>\n",
       "      <td>A</td>\n",
       "      <td>2011</td>\n",
       "      <td>Nurnberg</td>\n",
       "      <td>30</td>\n",
       "      <td>23</td>\n",
       "      <td>12</td>\n",
       "      <td>43180000</td>\n",
       "      <td>1440000</td>\n",
       "      <td>50000</td>\n",
       "      <td>both</td>\n",
       "    </tr>\n",
       "    <tr>\n",
       "      <td>1</td>\n",
       "      <td>1112</td>\n",
       "      <td>D1</td>\n",
       "      <td>2011</td>\n",
       "      <td>2012-02-03</td>\n",
       "      <td>Nurnberg</td>\n",
       "      <td>Dortmund</td>\n",
       "      <td>0</td>\n",
       "      <td>2</td>\n",
       "      <td>A</td>\n",
       "      <td>2011</td>\n",
       "      <td>Nurnberg</td>\n",
       "      <td>30</td>\n",
       "      <td>23</td>\n",
       "      <td>12</td>\n",
       "      <td>43180000</td>\n",
       "      <td>1440000</td>\n",
       "      <td>50000</td>\n",
       "      <td>both</td>\n",
       "    </tr>\n",
       "    <tr>\n",
       "      <td>2</td>\n",
       "      <td>1185</td>\n",
       "      <td>D1</td>\n",
       "      <td>2011</td>\n",
       "      <td>2012-02-18</td>\n",
       "      <td>Nurnberg</td>\n",
       "      <td>FC Koln</td>\n",
       "      <td>2</td>\n",
       "      <td>1</td>\n",
       "      <td>H</td>\n",
       "      <td>2011</td>\n",
       "      <td>Nurnberg</td>\n",
       "      <td>30</td>\n",
       "      <td>23</td>\n",
       "      <td>12</td>\n",
       "      <td>43180000</td>\n",
       "      <td>1440000</td>\n",
       "      <td>50000</td>\n",
       "      <td>both</td>\n",
       "    </tr>\n",
       "    <tr>\n",
       "      <td>3</td>\n",
       "      <td>1210</td>\n",
       "      <td>D1</td>\n",
       "      <td>2011</td>\n",
       "      <td>2011-11-05</td>\n",
       "      <td>Nurnberg</td>\n",
       "      <td>Freiburg</td>\n",
       "      <td>1</td>\n",
       "      <td>2</td>\n",
       "      <td>A</td>\n",
       "      <td>2011</td>\n",
       "      <td>Nurnberg</td>\n",
       "      <td>30</td>\n",
       "      <td>23</td>\n",
       "      <td>12</td>\n",
       "      <td>43180000</td>\n",
       "      <td>1440000</td>\n",
       "      <td>50000</td>\n",
       "      <td>both</td>\n",
       "    </tr>\n",
       "    <tr>\n",
       "      <td>4</td>\n",
       "      <td>1217</td>\n",
       "      <td>D1</td>\n",
       "      <td>2011</td>\n",
       "      <td>2012-04-21</td>\n",
       "      <td>Nurnberg</td>\n",
       "      <td>Hamburg</td>\n",
       "      <td>1</td>\n",
       "      <td>1</td>\n",
       "      <td>D</td>\n",
       "      <td>2011</td>\n",
       "      <td>Nurnberg</td>\n",
       "      <td>30</td>\n",
       "      <td>23</td>\n",
       "      <td>12</td>\n",
       "      <td>43180000</td>\n",
       "      <td>1440000</td>\n",
       "      <td>50000</td>\n",
       "      <td>both</td>\n",
       "    </tr>\n",
       "  </tbody>\n",
       "</table>\n",
       "</div>"
      ],
      "text/plain": [
       "   Match_ID Div  Season_x        Date  HomeTeam       AwayTeam  FTHG  FTAG  \\\n",
       "0      1092  D1      2011  2012-03-31  Nurnberg  Bayern Munich     0     1   \n",
       "1      1112  D1      2011  2012-02-03  Nurnberg       Dortmund     0     2   \n",
       "2      1185  D1      2011  2012-02-18  Nurnberg        FC Koln     2     1   \n",
       "3      1210  D1      2011  2011-11-05  Nurnberg       Freiburg     1     2   \n",
       "4      1217  D1      2011  2012-04-21  Nurnberg        Hamburg     1     1   \n",
       "\n",
       "  FTR Season_y  TeamName KaderHome AvgAgeHome ForeignPlayersHome  \\\n",
       "0   A     2011  Nurnberg        30         23                 12   \n",
       "1   A     2011  Nurnberg        30         23                 12   \n",
       "2   H     2011  Nurnberg        30         23                 12   \n",
       "3   A     2011  Nurnberg        30         23                 12   \n",
       "4   D     2011  Nurnberg        30         23                 12   \n",
       "\n",
       "  OverallMarketValueHome AvgMarketValueHome StadiumCapacity _merge  \n",
       "0               43180000            1440000           50000   both  \n",
       "1               43180000            1440000           50000   both  \n",
       "2               43180000            1440000           50000   both  \n",
       "3               43180000            1440000           50000   both  \n",
       "4               43180000            1440000           50000   both  "
      ]
     },
     "execution_count": 20,
     "metadata": {},
     "output_type": "execute_result"
    }
   ],
   "source": [
    "outer_merge = pd.merge(matches2011_df, teams2011_df, left_on='HomeTeam', right_on='TeamName' , how=\"outer\", indicator=True)\n",
    "outer_merge.head()"
   ]
  },
  {
   "cell_type": "code",
   "execution_count": 21,
   "metadata": {
    "ExecuteTime": {
     "end_time": "2019-10-23T09:29:09.078566Z",
     "start_time": "2019-10-23T09:29:09.073289Z"
    },
    "scrolled": true
   },
   "outputs": [
    {
     "name": "stdout",
     "output_type": "stream",
     "text": [
      "380\n"
     ]
    }
   ],
   "source": [
    "# because we used an outer merge we should have NaN values for the TeamName \n",
    "# column where there are no matching values to HomeTam\n",
    "outer_merge.TeamName = outer_merge.TeamName.fillna('Missing')\n",
    "print(len(outer_merge.loc[outer_merge['TeamName'] == 'Missing', 'HomeTeam']))"
   ]
  },
  {
   "cell_type": "code",
   "execution_count": 22,
   "metadata": {
    "ExecuteTime": {
     "end_time": "2019-10-23T09:29:09.087887Z",
     "start_time": "2019-10-23T09:29:09.080441Z"
    },
    "scrolled": true
   },
   "outputs": [
    {
     "name": "stdout",
     "output_type": "stream",
     "text": [
      "20\n"
     ]
    },
    {
     "data": {
      "text/plain": [
       "array(['Blackburn', 'Fulham', 'Liverpool', 'Newcastle', 'QPR', 'Wigan',\n",
       "       'Stoke', 'West Brom', 'Man City', 'Arsenal', 'Aston Villa',\n",
       "       'Chelsea', 'Everton', 'Sunderland', 'Swansea', 'Bolton', 'Norwich',\n",
       "       'Wolves', 'Man United', 'Tottenham'], dtype=object)"
      ]
     },
     "execution_count": 22,
     "metadata": {},
     "output_type": "execute_result"
    }
   ],
   "source": [
    "# The 20 unaccounted for teams between the matches and the teams tables for season=2011\n",
    "print(len(outer_merge.loc[outer_merge['TeamName'] == 'Missing', 'HomeTeam'].unique()))\n",
    "missing_teams = outer_merge.loc[outer_merge['TeamName'] == 'Missing', 'HomeTeam'].unique()\n",
    "missing_teams"
   ]
  },
  {
   "cell_type": "code",
   "execution_count": 23,
   "metadata": {
    "ExecuteTime": {
     "end_time": "2019-10-23T09:29:09.097830Z",
     "start_time": "2019-10-23T09:29:09.094227Z"
    },
    "scrolled": false
   },
   "outputs": [
    {
     "data": {
      "text/plain": [
       "['Blackburn',\n",
       " 'Fulham',\n",
       " 'Liverpool',\n",
       " 'Newcastle',\n",
       " 'QPR',\n",
       " 'Wigan',\n",
       " 'Stoke',\n",
       " 'West Brom',\n",
       " 'Man City',\n",
       " 'Arsenal',\n",
       " 'Aston Villa',\n",
       " 'Chelsea',\n",
       " 'Everton',\n",
       " 'Sunderland',\n",
       " 'Swansea',\n",
       " 'Bolton',\n",
       " 'Norwich',\n",
       " 'Wolves',\n",
       " 'Man United',\n",
       " 'Tottenham']"
      ]
     },
     "execution_count": 23,
     "metadata": {},
     "output_type": "execute_result"
    }
   ],
   "source": [
    "missing_teams.tolist()"
   ]
  },
  {
   "cell_type": "code",
   "execution_count": 24,
   "metadata": {
    "ExecuteTime": {
     "end_time": "2019-10-23T09:29:09.104773Z",
     "start_time": "2019-10-23T09:29:09.101922Z"
    }
   },
   "outputs": [
    {
     "name": "stdout",
     "output_type": "stream",
     "text": [
      "<class 'pandas.core.series.Series'>\n"
     ]
    }
   ],
   "source": [
    "teams_teams = teams2011_df['TeamName']\n",
    "print(type(teams_teams))"
   ]
  },
  {
   "cell_type": "code",
   "execution_count": 25,
   "metadata": {
    "ExecuteTime": {
     "end_time": "2019-10-23T09:29:09.109531Z",
     "start_time": "2019-10-23T09:29:09.106690Z"
    }
   },
   "outputs": [],
   "source": [
    "teams_matches = matches2011_df['HomeTeam']"
   ]
  },
  {
   "cell_type": "code",
   "execution_count": 26,
   "metadata": {
    "ExecuteTime": {
     "end_time": "2019-10-23T09:29:09.114298Z",
     "start_time": "2019-10-23T09:29:09.111301Z"
    }
   },
   "outputs": [],
   "source": [
    "# Just to confirm that these teams are in fact missing from the teams2011 dataframe\n",
    "for team in teams_teams:\n",
    "    if team in missing_teams:\n",
    "        print(team)"
   ]
  },
  {
   "cell_type": "code",
   "execution_count": 27,
   "metadata": {
    "ExecuteTime": {
     "end_time": "2019-10-23T09:29:09.134035Z",
     "start_time": "2019-10-23T09:29:09.115981Z"
    },
    "scrolled": true
   },
   "outputs": [
    {
     "name": "stdout",
     "output_type": "stream",
     "text": [
      "Blackburn\n",
      "Fulham\n",
      "Liverpool\n",
      "Newcastle\n",
      "QPR\n",
      "Wigan\n",
      "Stoke\n",
      "West Brom\n",
      "Man City\n",
      "Arsenal\n",
      "Aston Villa\n",
      "Chelsea\n",
      "Everton\n",
      "Sunderland\n",
      "Swansea\n",
      "Bolton\n",
      "Norwich\n",
      "Wolves\n",
      "Man United\n",
      "Aston Villa\n",
      "Blackburn\n",
      "Chelsea\n",
      "Liverpool\n",
      "Swansea\n",
      "Wigan\n",
      "Man United\n",
      "Newcastle\n",
      "Tottenham\n",
      "West Brom\n",
      "Arsenal\n",
      "Bolton\n",
      "Everton\n",
      "Man City\n",
      "Stoke\n",
      "Sunderland\n",
      "Wolves\n",
      "Fulham\n",
      "Norwich\n",
      "QPR\n",
      "Aston Villa\n",
      "Blackburn\n",
      "Bolton\n",
      "Everton\n",
      "Swansea\n",
      "Wolves\n",
      "Fulham\n",
      "Man United\n",
      "Sunderland\n",
      "Tottenham\n",
      "Arsenal\n",
      "Chelsea\n",
      "Liverpool\n",
      "Man City\n",
      "Newcastle\n",
      "Stoke\n",
      "West Brom\n",
      "Wigan\n",
      "QPR\n",
      "Norwich\n",
      "Aston Villa\n",
      "Blackburn\n",
      "Everton\n",
      "Man United\n",
      "Sunderland\n",
      "Wolves\n",
      "Bolton\n",
      "Fulham\n",
      "Swansea\n",
      "Tottenham\n",
      "Chelsea\n",
      "Liverpool\n",
      "Man City\n",
      "Norwich\n",
      "QPR\n",
      "Stoke\n",
      "Wigan\n",
      "Arsenal\n",
      "Newcastle\n",
      "West Brom\n",
      "Aston Villa\n",
      "Bolton\n",
      "Liverpool\n",
      "Newcastle\n",
      "Wolves\n",
      "Arsenal\n",
      "Blackburn\n",
      "Fulham\n",
      "Man United\n",
      "QPR\n",
      "Chelsea\n",
      "Everton\n",
      "Man City\n",
      "Norwich\n",
      "Sunderland\n",
      "Swansea\n",
      "West Brom\n",
      "Wigan\n",
      "Tottenham\n",
      "Stoke\n",
      "Arsenal\n",
      "Aston Villa\n",
      "Blackburn\n",
      "Liverpool\n",
      "Man United\n",
      "Newcastle\n",
      "QPR\n",
      "Bolton\n",
      "Fulham\n",
      "Wolves\n",
      "Everton\n",
      "Man City\n",
      "Norwich\n",
      "Stoke\n",
      "Sunderland\n",
      "Swansea\n",
      "West Brom\n",
      "Wigan\n",
      "Chelsea\n",
      "Tottenham\n",
      "Arsenal\n",
      "Bolton\n",
      "Chelsea\n",
      "Man United\n",
      "Norwich\n",
      "Stoke\n",
      "Sunderland\n",
      "West Brom\n",
      "Liverpool\n",
      "Swansea\n",
      "Aston Villa\n",
      "Blackburn\n",
      "Man City\n",
      "Newcastle\n",
      "QPR\n",
      "Tottenham\n",
      "Wigan\n",
      "Everton\n",
      "Wolves\n",
      "Fulham\n",
      "Arsenal\n",
      "Bolton\n",
      "Liverpool\n",
      "Man United\n",
      "Norwich\n",
      "Swansea\n",
      "West Brom\n",
      "Stoke\n",
      "Sunderland\n",
      "Chelsea\n",
      "Blackburn\n",
      "Everton\n",
      "Fulham\n",
      "Newcastle\n",
      "Wigan\n",
      "Wolves\n",
      "Aston Villa\n",
      "Man City\n",
      "QPR\n",
      "Tottenham\n",
      "Blackburn\n",
      "Wolves\n",
      "Aston Villa\n",
      "Everton\n",
      "Fulham\n",
      "Man City\n",
      "Newcastle\n",
      "QPR\n",
      "Wigan\n",
      "Tottenham\n",
      "Bolton\n",
      "Chelsea\n",
      "Liverpool\n",
      "Man United\n",
      "Stoke\n",
      "Sunderland\n",
      "West Brom\n",
      "Arsenal\n",
      "Norwich\n",
      "Swansea\n",
      "Liverpool\n",
      "Arsenal\n",
      "Bolton\n",
      "Chelsea\n",
      "Man United\n",
      "Norwich\n",
      "Stoke\n",
      "Swansea\n",
      "Sunderland\n",
      "West Brom\n",
      "Aston Villa\n",
      "Blackburn\n",
      "Fulham\n",
      "QPR\n",
      "Wolves\n",
      "Man City\n",
      "Tottenham\n",
      "Wigan\n",
      "Everton\n",
      "Newcastle\n",
      "Tottenham\n",
      "Aston Villa\n",
      "Blackburn\n",
      "Chelsea\n",
      "Liverpool\n",
      "Man United\n",
      "Tottenham\n",
      "West Brom\n",
      "Newcastle\n",
      "Swansea\n",
      "Wigan\n",
      "Bolton\n",
      "Everton\n",
      "Fulham\n",
      "Norwich\n",
      "QPR\n",
      "Stoke\n",
      "Sunderland\n",
      "Wolves\n",
      "Arsenal\n",
      "Man City\n",
      "Everton\n",
      "Man United\n",
      "Swansea\n",
      "Tottenham\n",
      "Wolves\n",
      "Aston Villa\n",
      "Blackburn\n",
      "Bolton\n",
      "Fulham\n",
      "Sunderland\n",
      "Arsenal\n",
      "Man City\n",
      "Norwich\n",
      "QPR\n",
      "Stoke\n",
      "West Brom\n",
      "Wigan\n",
      "Chelsea\n",
      "Newcastle\n",
      "Liverpool\n",
      "Blackburn\n",
      "Bolton\n",
      "Everton\n",
      "Fulham\n",
      "Man United\n",
      "Sunderland\n",
      "Swansea\n",
      "Tottenham\n",
      "Aston Villa\n",
      "Wolves\n",
      "Chelsea\n",
      "Man City\n",
      "Newcastle\n",
      "QPR\n",
      "West Brom\n",
      "Wigan\n",
      "Arsenal\n",
      "Norwich\n",
      "Stoke\n",
      "Blackburn\n",
      "Liverpool\n",
      "Man City\n",
      "QPR\n",
      "Stoke\n",
      "West Brom\n",
      "Wigan\n",
      "Fulham\n",
      "Newcastle\n",
      "Tottenham\n",
      "Aston Villa\n",
      "Bolton\n",
      "Chelsea\n",
      "Everton\n",
      "Sunderland\n",
      "Wolves\n",
      "Man United\n",
      "Norwich\n",
      "Swansea\n",
      "Arsenal\n",
      "Liverpool\n",
      "Fulham\n",
      "Wigan\n",
      "Newcastle\n",
      "Wolves\n",
      "Blackburn\n",
      "Everton\n",
      "Man City\n",
      "QPR\n",
      "Tottenham\n",
      "Arsenal\n",
      "Bolton\n",
      "Chelsea\n",
      "Liverpool\n",
      "Norwich\n",
      "Stoke\n",
      "Sunderland\n",
      "Swansea\n",
      "West Brom\n",
      "Man United\n",
      "Aston Villa\n",
      "Everton\n",
      "Fulham\n",
      "Man City\n",
      "QPR\n",
      "Wigan\n",
      "Wolves\n",
      "Newcastle\n",
      "Tottenham\n",
      "Blackburn\n",
      "Swansea\n",
      "Bolton\n",
      "Chelsea\n",
      "Liverpool\n",
      "Norwich\n",
      "Stoke\n",
      "Sunderland\n",
      "West Brom\n",
      "Arsenal\n",
      "Man United\n",
      "Aston Villa\n",
      "Everton\n",
      "Fulham\n",
      "Newcastle\n",
      "Tottenham\n",
      "Blackburn\n",
      "Man City\n",
      "QPR\n",
      "Wigan\n",
      "Wolves\n",
      "Norwich\n",
      "Sunderland\n",
      "Swansea\n",
      "West Brom\n",
      "Man United\n",
      "Arsenal\n",
      "Arsenal\n",
      "Aston Villa\n",
      "Blackburn\n",
      "Bolton\n",
      "Fulham\n",
      "Newcastle\n",
      "QPR\n",
      "Liverpool\n",
      "Man United\n",
      "Wolves\n",
      "Aston Villa\n",
      "Everton\n",
      "Norwich\n",
      "Stoke\n",
      "Sunderland\n",
      "Swansea\n",
      "West Brom\n",
      "Wigan\n",
      "Chelsea\n",
      "Tottenham\n",
      "Man City\n",
      "Liverpool\n",
      "Stoke\n",
      "Bolton\n",
      "Chelsea\n",
      "Arsenal\n",
      "Aston Villa\n",
      "Bolton\n",
      "Fulham\n",
      "Man United\n",
      "Newcastle\n",
      "QPR\n",
      "Wolves\n",
      "Blackburn\n",
      "Liverpool\n",
      "Chelsea\n",
      "Everton\n",
      "Man City\n",
      "Norwich\n",
      "Stoke\n",
      "Sunderland\n",
      "Swansea\n",
      "Tottenham\n",
      "West Brom\n",
      "Wigan\n"
     ]
    }
   ],
   "source": [
    "for team in teams_matches:\n",
    "    if team in missing_teams:\n",
    "        print(team)"
   ]
  },
  {
   "cell_type": "markdown",
   "metadata": {},
   "source": [
    "# Team Stats - SQL Queries and Pandas"
   ]
  },
  {
   "cell_type": "code",
   "execution_count": 28,
   "metadata": {
    "ExecuteTime": {
     "end_time": "2019-10-23T09:29:09.149289Z",
     "start_time": "2019-10-23T09:29:09.136300Z"
    }
   },
   "outputs": [
    {
     "name": "stdout",
     "output_type": "stream",
     "text": [
      "(56, 3)\n"
     ]
    },
    {
     "data": {
      "text/html": [
       "<div>\n",
       "<style scoped>\n",
       "    .dataframe tbody tr th:only-of-type {\n",
       "        vertical-align: middle;\n",
       "    }\n",
       "\n",
       "    .dataframe tbody tr th {\n",
       "        vertical-align: top;\n",
       "    }\n",
       "\n",
       "    .dataframe thead th {\n",
       "        text-align: right;\n",
       "    }\n",
       "</style>\n",
       "<table border=\"1\" class=\"dataframe\">\n",
       "  <thead>\n",
       "    <tr style=\"text-align: right;\">\n",
       "      <th></th>\n",
       "      <th>HomeTeam</th>\n",
       "      <th>home_wins</th>\n",
       "      <th>SUM(fthg)</th>\n",
       "    </tr>\n",
       "  </thead>\n",
       "  <tbody>\n",
       "    <tr>\n",
       "      <td>0</td>\n",
       "      <td>Aachen</td>\n",
       "      <td>4</td>\n",
       "      <td>8</td>\n",
       "    </tr>\n",
       "    <tr>\n",
       "      <td>1</td>\n",
       "      <td>Arsenal</td>\n",
       "      <td>12</td>\n",
       "      <td>32</td>\n",
       "    </tr>\n",
       "    <tr>\n",
       "      <td>2</td>\n",
       "      <td>Aston Villa</td>\n",
       "      <td>4</td>\n",
       "      <td>9</td>\n",
       "    </tr>\n",
       "    <tr>\n",
       "      <td>3</td>\n",
       "      <td>Augsburg</td>\n",
       "      <td>6</td>\n",
       "      <td>11</td>\n",
       "    </tr>\n",
       "    <tr>\n",
       "      <td>4</td>\n",
       "      <td>Bayern Munich</td>\n",
       "      <td>14</td>\n",
       "      <td>49</td>\n",
       "    </tr>\n",
       "  </tbody>\n",
       "</table>\n",
       "</div>"
      ],
      "text/plain": [
       "        HomeTeam  home_wins  SUM(fthg)\n",
       "0         Aachen          4          8\n",
       "1        Arsenal         12         32\n",
       "2    Aston Villa          4          9\n",
       "3       Augsburg          6         11\n",
       "4  Bayern Munich         14         49"
      ]
     },
     "execution_count": 28,
     "metadata": {},
     "output_type": "execute_result"
    }
   ],
   "source": [
    "# extracting wins and goals for those games for hometeams in 2011 season\n",
    "c.execute(\"\"\"SELECT DISTINCT(hometeam), COUNT(ftr) as home_wins, SUM(fthg)   \n",
    "                    FROM matches WHERE season = 2011 AND ftr = 'H' \n",
    "                    GROUP BY 1 ORDER BY 1;\"\"\")\n",
    "home_w_g = pd.DataFrame(c.fetchall())\n",
    "home_w_g.columns = [x[0] for x in c.description]\n",
    "print(home_w_g.shape)\n",
    "home_w_g.head()"
   ]
  },
  {
   "cell_type": "code",
   "execution_count": 29,
   "metadata": {
    "ExecuteTime": {
     "end_time": "2019-10-23T09:29:09.164233Z",
     "start_time": "2019-10-23T09:29:09.151480Z"
    },
    "scrolled": true
   },
   "outputs": [
    {
     "name": "stdout",
     "output_type": "stream",
     "text": [
      "(54, 3)\n"
     ]
    },
    {
     "data": {
      "text/html": [
       "<div>\n",
       "<style scoped>\n",
       "    .dataframe tbody tr th:only-of-type {\n",
       "        vertical-align: middle;\n",
       "    }\n",
       "\n",
       "    .dataframe tbody tr th {\n",
       "        vertical-align: top;\n",
       "    }\n",
       "\n",
       "    .dataframe thead th {\n",
       "        text-align: right;\n",
       "    }\n",
       "</style>\n",
       "<table border=\"1\" class=\"dataframe\">\n",
       "  <thead>\n",
       "    <tr style=\"text-align: right;\">\n",
       "      <th></th>\n",
       "      <th>HomeTeam</th>\n",
       "      <th>home_loss</th>\n",
       "      <th>SUM(fthg)</th>\n",
       "    </tr>\n",
       "  </thead>\n",
       "  <tbody>\n",
       "    <tr>\n",
       "      <td>0</td>\n",
       "      <td>Aachen</td>\n",
       "      <td>7</td>\n",
       "      <td>2</td>\n",
       "    </tr>\n",
       "    <tr>\n",
       "      <td>1</td>\n",
       "      <td>Arsenal</td>\n",
       "      <td>3</td>\n",
       "      <td>2</td>\n",
       "    </tr>\n",
       "    <tr>\n",
       "      <td>2</td>\n",
       "      <td>Aston Villa</td>\n",
       "      <td>8</td>\n",
       "      <td>5</td>\n",
       "    </tr>\n",
       "    <tr>\n",
       "      <td>3</td>\n",
       "      <td>Augsburg</td>\n",
       "      <td>4</td>\n",
       "      <td>3</td>\n",
       "    </tr>\n",
       "    <tr>\n",
       "      <td>4</td>\n",
       "      <td>Bayern Munich</td>\n",
       "      <td>2</td>\n",
       "      <td>0</td>\n",
       "    </tr>\n",
       "  </tbody>\n",
       "</table>\n",
       "</div>"
      ],
      "text/plain": [
       "        HomeTeam  home_loss  SUM(fthg)\n",
       "0         Aachen          7          2\n",
       "1        Arsenal          3          2\n",
       "2    Aston Villa          8          5\n",
       "3       Augsburg          4          3\n",
       "4  Bayern Munich          2          0"
      ]
     },
     "execution_count": 29,
     "metadata": {},
     "output_type": "execute_result"
    }
   ],
   "source": [
    "# extracting losses and goals for those games for hometeams in 2011 season\n",
    "c.execute(\"\"\"SELECT DISTINCT(hometeam), COUNT(ftr) as home_loss, SUM(fthg)   \n",
    "                    FROM matches WHERE season = 2011 AND ftr = 'A' \n",
    "                    GROUP BY 1 ORDER BY 1;\"\"\")\n",
    "home_l_g = pd.DataFrame(c.fetchall())\n",
    "home_l_g.columns = [x[0] for x in c.description]\n",
    "print(home_l_g.shape)\n",
    "home_l_g.head()"
   ]
  },
  {
   "cell_type": "markdown",
   "metadata": {},
   "source": [
    "**Note:** there are 2 home teams that have no losses, as evidenced above by the fact that the wins table has 56 teams and the losses table has 54 teams."
   ]
  },
  {
   "cell_type": "code",
   "execution_count": 30,
   "metadata": {
    "ExecuteTime": {
     "end_time": "2019-10-23T09:29:09.186474Z",
     "start_time": "2019-10-23T09:29:09.166064Z"
    }
   },
   "outputs": [
    {
     "name": "stdout",
     "output_type": "stream",
     "text": [
      "(56, 3)\n"
     ]
    },
    {
     "data": {
      "text/html": [
       "<div>\n",
       "<style scoped>\n",
       "    .dataframe tbody tr th:only-of-type {\n",
       "        vertical-align: middle;\n",
       "    }\n",
       "\n",
       "    .dataframe tbody tr th {\n",
       "        vertical-align: top;\n",
       "    }\n",
       "\n",
       "    .dataframe thead th {\n",
       "        text-align: right;\n",
       "    }\n",
       "</style>\n",
       "<table border=\"1\" class=\"dataframe\">\n",
       "  <thead>\n",
       "    <tr style=\"text-align: right;\">\n",
       "      <th></th>\n",
       "      <th>AwayTeam</th>\n",
       "      <th>away_wins</th>\n",
       "      <th>SUM(ftag)</th>\n",
       "    </tr>\n",
       "  </thead>\n",
       "  <tbody>\n",
       "    <tr>\n",
       "      <td>0</td>\n",
       "      <td>Aachen</td>\n",
       "      <td>2</td>\n",
       "      <td>4</td>\n",
       "    </tr>\n",
       "    <tr>\n",
       "      <td>1</td>\n",
       "      <td>Arsenal</td>\n",
       "      <td>9</td>\n",
       "      <td>24</td>\n",
       "    </tr>\n",
       "    <tr>\n",
       "      <td>2</td>\n",
       "      <td>Aston Villa</td>\n",
       "      <td>3</td>\n",
       "      <td>8</td>\n",
       "    </tr>\n",
       "    <tr>\n",
       "      <td>3</td>\n",
       "      <td>Augsburg</td>\n",
       "      <td>2</td>\n",
       "      <td>3</td>\n",
       "    </tr>\n",
       "    <tr>\n",
       "      <td>4</td>\n",
       "      <td>Bayern Munich</td>\n",
       "      <td>9</td>\n",
       "      <td>23</td>\n",
       "    </tr>\n",
       "  </tbody>\n",
       "</table>\n",
       "</div>"
      ],
      "text/plain": [
       "        AwayTeam  away_wins  SUM(ftag)\n",
       "0         Aachen          2          4\n",
       "1        Arsenal          9         24\n",
       "2    Aston Villa          3          8\n",
       "3       Augsburg          2          3\n",
       "4  Bayern Munich          9         23"
      ]
     },
     "execution_count": 30,
     "metadata": {},
     "output_type": "execute_result"
    }
   ],
   "source": [
    "# extracting wins and goals for those games for awayteams in 2011 season\n",
    "c.execute(\"\"\"SELECT DISTINCT(awayteam), COUNT(ftr) as away_wins, SUM(ftag)   \n",
    "                    FROM matches WHERE season = 2011 AND ftr = 'A' \n",
    "                    GROUP BY 1 ORDER BY 1;\"\"\")\n",
    "away_w_g = pd.DataFrame(c.fetchall())\n",
    "away_w_g.columns = [x[0] for x in c.description]\n",
    "print(away_w_g.shape)\n",
    "away_w_g.head()"
   ]
  },
  {
   "cell_type": "code",
   "execution_count": 31,
   "metadata": {
    "ExecuteTime": {
     "end_time": "2019-10-23T09:29:09.204842Z",
     "start_time": "2019-10-23T09:29:09.189400Z"
    }
   },
   "outputs": [
    {
     "name": "stdout",
     "output_type": "stream",
     "text": [
      "(56, 3)\n"
     ]
    },
    {
     "data": {
      "text/html": [
       "<div>\n",
       "<style scoped>\n",
       "    .dataframe tbody tr th:only-of-type {\n",
       "        vertical-align: middle;\n",
       "    }\n",
       "\n",
       "    .dataframe tbody tr th {\n",
       "        vertical-align: top;\n",
       "    }\n",
       "\n",
       "    .dataframe thead th {\n",
       "        text-align: right;\n",
       "    }\n",
       "</style>\n",
       "<table border=\"1\" class=\"dataframe\">\n",
       "  <thead>\n",
       "    <tr style=\"text-align: right;\">\n",
       "      <th></th>\n",
       "      <th>AwayTeam</th>\n",
       "      <th>away_loss</th>\n",
       "      <th>SUM(ftag)</th>\n",
       "    </tr>\n",
       "  </thead>\n",
       "  <tbody>\n",
       "    <tr>\n",
       "      <td>0</td>\n",
       "      <td>Aachen</td>\n",
       "      <td>8</td>\n",
       "      <td>5</td>\n",
       "    </tr>\n",
       "    <tr>\n",
       "      <td>1</td>\n",
       "      <td>Arsenal</td>\n",
       "      <td>7</td>\n",
       "      <td>10</td>\n",
       "    </tr>\n",
       "    <tr>\n",
       "      <td>2</td>\n",
       "      <td>Aston Villa</td>\n",
       "      <td>6</td>\n",
       "      <td>2</td>\n",
       "    </tr>\n",
       "    <tr>\n",
       "      <td>3</td>\n",
       "      <td>Augsburg</td>\n",
       "      <td>8</td>\n",
       "      <td>4</td>\n",
       "    </tr>\n",
       "    <tr>\n",
       "      <td>4</td>\n",
       "      <td>Bayern Munich</td>\n",
       "      <td>5</td>\n",
       "      <td>4</td>\n",
       "    </tr>\n",
       "  </tbody>\n",
       "</table>\n",
       "</div>"
      ],
      "text/plain": [
       "        AwayTeam  away_loss  SUM(ftag)\n",
       "0         Aachen          8          5\n",
       "1        Arsenal          7         10\n",
       "2    Aston Villa          6          2\n",
       "3       Augsburg          8          4\n",
       "4  Bayern Munich          5          4"
      ]
     },
     "execution_count": 31,
     "metadata": {},
     "output_type": "execute_result"
    }
   ],
   "source": [
    "# extracting losses and goals for those games for awayteams in 2011 season\n",
    "c.execute(\"\"\"SELECT DISTINCT(awayteam), COUNT(ftr) as away_loss, SUM(ftag)   \n",
    "                    FROM matches WHERE season = 2011 AND ftr = 'H' \n",
    "                    GROUP BY 1 ORDER BY 1;\"\"\")\n",
    "away_l_g = pd.DataFrame(c.fetchall())\n",
    "away_l_g.columns = [x[0] for x in c.description]\n",
    "print(away_l_g.shape)\n",
    "away_l_g.head()"
   ]
  },
  {
   "cell_type": "code",
   "execution_count": 32,
   "metadata": {
    "ExecuteTime": {
     "end_time": "2019-10-23T09:29:09.220767Z",
     "start_time": "2019-10-23T09:29:09.206790Z"
    }
   },
   "outputs": [
    {
     "data": {
      "text/html": [
       "<div>\n",
       "<style scoped>\n",
       "    .dataframe tbody tr th:only-of-type {\n",
       "        vertical-align: middle;\n",
       "    }\n",
       "\n",
       "    .dataframe tbody tr th {\n",
       "        vertical-align: top;\n",
       "    }\n",
       "\n",
       "    .dataframe thead th {\n",
       "        text-align: right;\n",
       "    }\n",
       "</style>\n",
       "<table border=\"1\" class=\"dataframe\">\n",
       "  <thead>\n",
       "    <tr style=\"text-align: right;\">\n",
       "      <th></th>\n",
       "      <th>HomeTeam</th>\n",
       "      <th>home_wins</th>\n",
       "      <th>SUM(fthg)</th>\n",
       "      <th>AwayTeam</th>\n",
       "      <th>away_wins</th>\n",
       "      <th>SUM(ftag)</th>\n",
       "    </tr>\n",
       "  </thead>\n",
       "  <tbody>\n",
       "    <tr>\n",
       "      <td>0</td>\n",
       "      <td>Aachen</td>\n",
       "      <td>4</td>\n",
       "      <td>8</td>\n",
       "      <td>Aachen</td>\n",
       "      <td>2</td>\n",
       "      <td>4</td>\n",
       "    </tr>\n",
       "    <tr>\n",
       "      <td>1</td>\n",
       "      <td>Arsenal</td>\n",
       "      <td>12</td>\n",
       "      <td>32</td>\n",
       "      <td>Arsenal</td>\n",
       "      <td>9</td>\n",
       "      <td>24</td>\n",
       "    </tr>\n",
       "    <tr>\n",
       "      <td>2</td>\n",
       "      <td>Aston Villa</td>\n",
       "      <td>4</td>\n",
       "      <td>9</td>\n",
       "      <td>Aston Villa</td>\n",
       "      <td>3</td>\n",
       "      <td>8</td>\n",
       "    </tr>\n",
       "    <tr>\n",
       "      <td>3</td>\n",
       "      <td>Augsburg</td>\n",
       "      <td>6</td>\n",
       "      <td>11</td>\n",
       "      <td>Augsburg</td>\n",
       "      <td>2</td>\n",
       "      <td>3</td>\n",
       "    </tr>\n",
       "    <tr>\n",
       "      <td>4</td>\n",
       "      <td>Bayern Munich</td>\n",
       "      <td>14</td>\n",
       "      <td>49</td>\n",
       "      <td>Bayern Munich</td>\n",
       "      <td>9</td>\n",
       "      <td>23</td>\n",
       "    </tr>\n",
       "  </tbody>\n",
       "</table>\n",
       "</div>"
      ],
      "text/plain": [
       "        HomeTeam  home_wins  SUM(fthg)       AwayTeam  away_wins  SUM(ftag)\n",
       "0         Aachen          4          8         Aachen          2          4\n",
       "1        Arsenal         12         32        Arsenal          9         24\n",
       "2    Aston Villa          4          9    Aston Villa          3          8\n",
       "3       Augsburg          6         11       Augsburg          2          3\n",
       "4  Bayern Munich         14         49  Bayern Munich          9         23"
      ]
     },
     "execution_count": 32,
     "metadata": {},
     "output_type": "execute_result"
    }
   ],
   "source": [
    "# merging wins and goals per team\n",
    "wins = pd.merge(home_w_g, away_w_g, left_on='HomeTeam', right_on=\"AwayTeam\")\n",
    "wins.head()"
   ]
  },
  {
   "cell_type": "code",
   "execution_count": 33,
   "metadata": {
    "ExecuteTime": {
     "end_time": "2019-10-23T09:29:09.237196Z",
     "start_time": "2019-10-23T09:29:09.223016Z"
    },
    "scrolled": true
   },
   "outputs": [
    {
     "data": {
      "text/html": [
       "<div>\n",
       "<style scoped>\n",
       "    .dataframe tbody tr th:only-of-type {\n",
       "        vertical-align: middle;\n",
       "    }\n",
       "\n",
       "    .dataframe tbody tr th {\n",
       "        vertical-align: top;\n",
       "    }\n",
       "\n",
       "    .dataframe thead th {\n",
       "        text-align: right;\n",
       "    }\n",
       "</style>\n",
       "<table border=\"1\" class=\"dataframe\">\n",
       "  <thead>\n",
       "    <tr style=\"text-align: right;\">\n",
       "      <th></th>\n",
       "      <th>HomeTeam</th>\n",
       "      <th>home_wins</th>\n",
       "      <th>SUM(fthg)</th>\n",
       "      <th>AwayTeam</th>\n",
       "      <th>away_wins</th>\n",
       "      <th>SUM(ftag)</th>\n",
       "      <th>total_wins</th>\n",
       "      <th>total_w_goals</th>\n",
       "    </tr>\n",
       "  </thead>\n",
       "  <tbody>\n",
       "    <tr>\n",
       "      <td>0</td>\n",
       "      <td>Aachen</td>\n",
       "      <td>4</td>\n",
       "      <td>8</td>\n",
       "      <td>Aachen</td>\n",
       "      <td>2</td>\n",
       "      <td>4</td>\n",
       "      <td>6</td>\n",
       "      <td>12</td>\n",
       "    </tr>\n",
       "    <tr>\n",
       "      <td>1</td>\n",
       "      <td>Arsenal</td>\n",
       "      <td>12</td>\n",
       "      <td>32</td>\n",
       "      <td>Arsenal</td>\n",
       "      <td>9</td>\n",
       "      <td>24</td>\n",
       "      <td>21</td>\n",
       "      <td>56</td>\n",
       "    </tr>\n",
       "    <tr>\n",
       "      <td>2</td>\n",
       "      <td>Aston Villa</td>\n",
       "      <td>4</td>\n",
       "      <td>9</td>\n",
       "      <td>Aston Villa</td>\n",
       "      <td>3</td>\n",
       "      <td>8</td>\n",
       "      <td>7</td>\n",
       "      <td>17</td>\n",
       "    </tr>\n",
       "    <tr>\n",
       "      <td>3</td>\n",
       "      <td>Augsburg</td>\n",
       "      <td>6</td>\n",
       "      <td>11</td>\n",
       "      <td>Augsburg</td>\n",
       "      <td>2</td>\n",
       "      <td>3</td>\n",
       "      <td>8</td>\n",
       "      <td>14</td>\n",
       "    </tr>\n",
       "    <tr>\n",
       "      <td>4</td>\n",
       "      <td>Bayern Munich</td>\n",
       "      <td>14</td>\n",
       "      <td>49</td>\n",
       "      <td>Bayern Munich</td>\n",
       "      <td>9</td>\n",
       "      <td>23</td>\n",
       "      <td>23</td>\n",
       "      <td>72</td>\n",
       "    </tr>\n",
       "  </tbody>\n",
       "</table>\n",
       "</div>"
      ],
      "text/plain": [
       "        HomeTeam  home_wins  SUM(fthg)       AwayTeam  away_wins  SUM(ftag)  \\\n",
       "0         Aachen          4          8         Aachen          2          4   \n",
       "1        Arsenal         12         32        Arsenal          9         24   \n",
       "2    Aston Villa          4          9    Aston Villa          3          8   \n",
       "3       Augsburg          6         11       Augsburg          2          3   \n",
       "4  Bayern Munich         14         49  Bayern Munich          9         23   \n",
       "\n",
       "   total_wins  total_w_goals  \n",
       "0           6             12  \n",
       "1          21             56  \n",
       "2           7             17  \n",
       "3           8             14  \n",
       "4          23             72  "
      ]
     },
     "execution_count": 33,
     "metadata": {},
     "output_type": "execute_result"
    }
   ],
   "source": [
    "wins['total_wins'] = wins['home_wins'] + wins['away_wins']\n",
    "wins['total_w_goals'] = wins['SUM(fthg)'] + wins[\"SUM(ftag)\"]\n",
    "wins.head()"
   ]
  },
  {
   "cell_type": "code",
   "execution_count": 34,
   "metadata": {
    "ExecuteTime": {
     "end_time": "2019-10-23T09:29:09.243009Z",
     "start_time": "2019-10-23T09:29:09.239349Z"
    }
   },
   "outputs": [
    {
     "data": {
      "text/plain": [
       "(56, 8)"
      ]
     },
     "execution_count": 34,
     "metadata": {},
     "output_type": "execute_result"
    }
   ],
   "source": [
    "wins.shape"
   ]
  },
  {
   "cell_type": "markdown",
   "metadata": {},
   "source": [
    "the above shows total wins and total goals scored in winning games for each team. **WE NEED TO ADD GOALS SCORED DURING LOST GAMES TO THIS.**"
   ]
  },
  {
   "cell_type": "code",
   "execution_count": 35,
   "metadata": {
    "ExecuteTime": {
     "end_time": "2019-10-23T09:29:09.250141Z",
     "start_time": "2019-10-23T09:29:09.244811Z"
    },
    "scrolled": false
   },
   "outputs": [],
   "source": [
    "# performing a right merge because there are two home teams without losses. AwayTeams are more comprehensive\n",
    "losses = pd.merge(home_l_g, away_l_g, left_on=\"HomeTeam\", right_on=\"AwayTeam\", how=\"right\")"
   ]
  },
  {
   "cell_type": "markdown",
   "metadata": {},
   "source": [
    "Let's check the number of null values given the merge above."
   ]
  },
  {
   "cell_type": "code",
   "execution_count": 36,
   "metadata": {
    "ExecuteTime": {
     "end_time": "2019-10-23T09:29:09.258177Z",
     "start_time": "2019-10-23T09:29:09.252260Z"
    },
    "scrolled": true
   },
   "outputs": [
    {
     "data": {
      "text/plain": [
       "HomeTeam     2\n",
       "home_loss    2\n",
       "SUM(fthg)    2\n",
       "AwayTeam     0\n",
       "away_loss    0\n",
       "SUM(ftag)    0\n",
       "dtype: int64"
      ]
     },
     "execution_count": 36,
     "metadata": {},
     "output_type": "execute_result"
    }
   ],
   "source": [
    "losses.isna().sum()"
   ]
  },
  {
   "cell_type": "markdown",
   "metadata": {},
   "source": [
    "We will fill correctly assign a value of 0 to the counts of losses and goals."
   ]
  },
  {
   "cell_type": "code",
   "execution_count": 37,
   "metadata": {
    "ExecuteTime": {
     "end_time": "2019-10-23T09:29:09.266830Z",
     "start_time": "2019-10-23T09:29:09.260113Z"
    },
    "scrolled": true
   },
   "outputs": [
    {
     "data": {
      "text/plain": [
       "HomeTeam     2\n",
       "home_loss    0\n",
       "SUM(fthg)    0\n",
       "AwayTeam     0\n",
       "away_loss    0\n",
       "SUM(ftag)    0\n",
       "dtype: int64"
      ]
     },
     "execution_count": 37,
     "metadata": {},
     "output_type": "execute_result"
    }
   ],
   "source": [
    "losses['home_loss'].fillna(0, inplace=True)\n",
    "losses['SUM(fthg)'].fillna(0, inplace=True)\n",
    "losses.isna().sum()"
   ]
  },
  {
   "cell_type": "code",
   "execution_count": 38,
   "metadata": {
    "ExecuteTime": {
     "end_time": "2019-10-23T09:29:09.284489Z",
     "start_time": "2019-10-23T09:29:09.268822Z"
    }
   },
   "outputs": [
    {
     "name": "stdout",
     "output_type": "stream",
     "text": [
      "(56, 8)\n"
     ]
    },
    {
     "data": {
      "text/html": [
       "<div>\n",
       "<style scoped>\n",
       "    .dataframe tbody tr th:only-of-type {\n",
       "        vertical-align: middle;\n",
       "    }\n",
       "\n",
       "    .dataframe tbody tr th {\n",
       "        vertical-align: top;\n",
       "    }\n",
       "\n",
       "    .dataframe thead th {\n",
       "        text-align: right;\n",
       "    }\n",
       "</style>\n",
       "<table border=\"1\" class=\"dataframe\">\n",
       "  <thead>\n",
       "    <tr style=\"text-align: right;\">\n",
       "      <th></th>\n",
       "      <th>HomeTeam</th>\n",
       "      <th>home_loss</th>\n",
       "      <th>SUM(fthg)</th>\n",
       "      <th>AwayTeam</th>\n",
       "      <th>away_loss</th>\n",
       "      <th>SUM(ftag)</th>\n",
       "      <th>total_losses</th>\n",
       "      <th>total_l_goals</th>\n",
       "    </tr>\n",
       "  </thead>\n",
       "  <tbody>\n",
       "    <tr>\n",
       "      <td>0</td>\n",
       "      <td>Aachen</td>\n",
       "      <td>7.0</td>\n",
       "      <td>2.0</td>\n",
       "      <td>Aachen</td>\n",
       "      <td>8</td>\n",
       "      <td>5</td>\n",
       "      <td>15.0</td>\n",
       "      <td>7.0</td>\n",
       "    </tr>\n",
       "    <tr>\n",
       "      <td>1</td>\n",
       "      <td>Arsenal</td>\n",
       "      <td>3.0</td>\n",
       "      <td>2.0</td>\n",
       "      <td>Arsenal</td>\n",
       "      <td>7</td>\n",
       "      <td>10</td>\n",
       "      <td>10.0</td>\n",
       "      <td>12.0</td>\n",
       "    </tr>\n",
       "    <tr>\n",
       "      <td>2</td>\n",
       "      <td>Aston Villa</td>\n",
       "      <td>8.0</td>\n",
       "      <td>5.0</td>\n",
       "      <td>Aston Villa</td>\n",
       "      <td>6</td>\n",
       "      <td>2</td>\n",
       "      <td>14.0</td>\n",
       "      <td>7.0</td>\n",
       "    </tr>\n",
       "    <tr>\n",
       "      <td>3</td>\n",
       "      <td>Augsburg</td>\n",
       "      <td>4.0</td>\n",
       "      <td>3.0</td>\n",
       "      <td>Augsburg</td>\n",
       "      <td>8</td>\n",
       "      <td>4</td>\n",
       "      <td>12.0</td>\n",
       "      <td>7.0</td>\n",
       "    </tr>\n",
       "    <tr>\n",
       "      <td>4</td>\n",
       "      <td>Bayern Munich</td>\n",
       "      <td>2.0</td>\n",
       "      <td>0.0</td>\n",
       "      <td>Bayern Munich</td>\n",
       "      <td>5</td>\n",
       "      <td>4</td>\n",
       "      <td>7.0</td>\n",
       "      <td>4.0</td>\n",
       "    </tr>\n",
       "  </tbody>\n",
       "</table>\n",
       "</div>"
      ],
      "text/plain": [
       "        HomeTeam  home_loss  SUM(fthg)       AwayTeam  away_loss  SUM(ftag)  \\\n",
       "0         Aachen        7.0        2.0         Aachen          8          5   \n",
       "1        Arsenal        3.0        2.0        Arsenal          7         10   \n",
       "2    Aston Villa        8.0        5.0    Aston Villa          6          2   \n",
       "3       Augsburg        4.0        3.0       Augsburg          8          4   \n",
       "4  Bayern Munich        2.0        0.0  Bayern Munich          5          4   \n",
       "\n",
       "   total_losses  total_l_goals  \n",
       "0          15.0            7.0  \n",
       "1          10.0           12.0  \n",
       "2          14.0            7.0  \n",
       "3          12.0            7.0  \n",
       "4           7.0            4.0  "
      ]
     },
     "execution_count": 38,
     "metadata": {},
     "output_type": "execute_result"
    }
   ],
   "source": [
    "losses['total_losses'] = losses['home_loss'] + losses['away_loss']\n",
    "losses['total_l_goals'] = losses[\"SUM(fthg)\"] + losses[\"SUM(ftag)\"]\n",
    "print(losses.shape)\n",
    "losses.head()"
   ]
  },
  {
   "cell_type": "code",
   "execution_count": 39,
   "metadata": {
    "ExecuteTime": {
     "end_time": "2019-10-23T09:29:09.292387Z",
     "start_time": "2019-10-23T09:29:09.286588Z"
    }
   },
   "outputs": [
    {
     "data": {
      "text/plain": [
       "HomeTeam         2\n",
       "home_loss        0\n",
       "SUM(fthg)        0\n",
       "AwayTeam         0\n",
       "away_loss        0\n",
       "SUM(ftag)        0\n",
       "total_losses     0\n",
       "total_l_goals    0\n",
       "dtype: int64"
      ]
     },
     "execution_count": 39,
     "metadata": {},
     "output_type": "execute_result"
    }
   ],
   "source": [
    "losses.isna().sum()"
   ]
  },
  {
   "cell_type": "markdown",
   "metadata": {},
   "source": [
    "**Note**: we have 56 teams in the wins table and only 54 teams in the loss table. This is likely because 2 teams have not lost any games."
   ]
  },
  {
   "cell_type": "code",
   "execution_count": 40,
   "metadata": {
    "ExecuteTime": {
     "end_time": "2019-10-23T09:29:09.304011Z",
     "start_time": "2019-10-23T09:29:09.294230Z"
    },
    "scrolled": true
   },
   "outputs": [
    {
     "data": {
      "text/html": [
       "<div>\n",
       "<style scoped>\n",
       "    .dataframe tbody tr th:only-of-type {\n",
       "        vertical-align: middle;\n",
       "    }\n",
       "\n",
       "    .dataframe tbody tr th {\n",
       "        vertical-align: top;\n",
       "    }\n",
       "\n",
       "    .dataframe thead th {\n",
       "        text-align: right;\n",
       "    }\n",
       "</style>\n",
       "<table border=\"1\" class=\"dataframe\">\n",
       "  <thead>\n",
       "    <tr style=\"text-align: right;\">\n",
       "      <th></th>\n",
       "      <th>HomeTeam</th>\n",
       "      <th>total_wins</th>\n",
       "      <th>total_w_goals</th>\n",
       "    </tr>\n",
       "  </thead>\n",
       "  <tbody>\n",
       "    <tr>\n",
       "      <td>0</td>\n",
       "      <td>Aachen</td>\n",
       "      <td>6</td>\n",
       "      <td>12</td>\n",
       "    </tr>\n",
       "    <tr>\n",
       "      <td>1</td>\n",
       "      <td>Arsenal</td>\n",
       "      <td>21</td>\n",
       "      <td>56</td>\n",
       "    </tr>\n",
       "    <tr>\n",
       "      <td>2</td>\n",
       "      <td>Aston Villa</td>\n",
       "      <td>7</td>\n",
       "      <td>17</td>\n",
       "    </tr>\n",
       "    <tr>\n",
       "      <td>3</td>\n",
       "      <td>Augsburg</td>\n",
       "      <td>8</td>\n",
       "      <td>14</td>\n",
       "    </tr>\n",
       "    <tr>\n",
       "      <td>4</td>\n",
       "      <td>Bayern Munich</td>\n",
       "      <td>23</td>\n",
       "      <td>72</td>\n",
       "    </tr>\n",
       "  </tbody>\n",
       "</table>\n",
       "</div>"
      ],
      "text/plain": [
       "        HomeTeam  total_wins  total_w_goals\n",
       "0         Aachen           6             12\n",
       "1        Arsenal          21             56\n",
       "2    Aston Villa           7             17\n",
       "3       Augsburg           8             14\n",
       "4  Bayern Munich          23             72"
      ]
     },
     "execution_count": 40,
     "metadata": {},
     "output_type": "execute_result"
    }
   ],
   "source": [
    "wins_simple = wins.drop(['home_wins', 'SUM(fthg)', 'away_wins', 'SUM(ftag)', 'AwayTeam'], axis=1)\n",
    "wins_simple.head()"
   ]
  },
  {
   "cell_type": "code",
   "execution_count": 41,
   "metadata": {
    "ExecuteTime": {
     "end_time": "2019-10-23T09:29:09.315535Z",
     "start_time": "2019-10-23T09:29:09.305917Z"
    }
   },
   "outputs": [
    {
     "data": {
      "text/html": [
       "<div>\n",
       "<style scoped>\n",
       "    .dataframe tbody tr th:only-of-type {\n",
       "        vertical-align: middle;\n",
       "    }\n",
       "\n",
       "    .dataframe tbody tr th {\n",
       "        vertical-align: top;\n",
       "    }\n",
       "\n",
       "    .dataframe thead th {\n",
       "        text-align: right;\n",
       "    }\n",
       "</style>\n",
       "<table border=\"1\" class=\"dataframe\">\n",
       "  <thead>\n",
       "    <tr style=\"text-align: right;\">\n",
       "      <th></th>\n",
       "      <th>AwayTeam</th>\n",
       "      <th>total_losses</th>\n",
       "      <th>total_l_goals</th>\n",
       "    </tr>\n",
       "  </thead>\n",
       "  <tbody>\n",
       "    <tr>\n",
       "      <td>0</td>\n",
       "      <td>Aachen</td>\n",
       "      <td>15.0</td>\n",
       "      <td>7.0</td>\n",
       "    </tr>\n",
       "    <tr>\n",
       "      <td>1</td>\n",
       "      <td>Arsenal</td>\n",
       "      <td>10.0</td>\n",
       "      <td>12.0</td>\n",
       "    </tr>\n",
       "    <tr>\n",
       "      <td>2</td>\n",
       "      <td>Aston Villa</td>\n",
       "      <td>14.0</td>\n",
       "      <td>7.0</td>\n",
       "    </tr>\n",
       "    <tr>\n",
       "      <td>3</td>\n",
       "      <td>Augsburg</td>\n",
       "      <td>12.0</td>\n",
       "      <td>7.0</td>\n",
       "    </tr>\n",
       "    <tr>\n",
       "      <td>4</td>\n",
       "      <td>Bayern Munich</td>\n",
       "      <td>7.0</td>\n",
       "      <td>4.0</td>\n",
       "    </tr>\n",
       "  </tbody>\n",
       "</table>\n",
       "</div>"
      ],
      "text/plain": [
       "        AwayTeam  total_losses  total_l_goals\n",
       "0         Aachen          15.0            7.0\n",
       "1        Arsenal          10.0           12.0\n",
       "2    Aston Villa          14.0            7.0\n",
       "3       Augsburg          12.0            7.0\n",
       "4  Bayern Munich           7.0            4.0"
      ]
     },
     "execution_count": 41,
     "metadata": {},
     "output_type": "execute_result"
    }
   ],
   "source": [
    "#drop HomeTeam here because we know that in the losses table there are two hometeams that have no data.\n",
    "losses_simple = losses.drop(['home_loss', 'SUM(fthg)', 'away_loss', 'SUM(ftag)', 'HomeTeam'], axis=1)\n",
    "losses_simple.head()"
   ]
  },
  {
   "cell_type": "code",
   "execution_count": 42,
   "metadata": {
    "ExecuteTime": {
     "end_time": "2019-10-23T09:29:09.330746Z",
     "start_time": "2019-10-23T09:29:09.317255Z"
    },
    "scrolled": true
   },
   "outputs": [
    {
     "data": {
      "text/html": [
       "<div>\n",
       "<style scoped>\n",
       "    .dataframe tbody tr th:only-of-type {\n",
       "        vertical-align: middle;\n",
       "    }\n",
       "\n",
       "    .dataframe tbody tr th {\n",
       "        vertical-align: top;\n",
       "    }\n",
       "\n",
       "    .dataframe thead th {\n",
       "        text-align: right;\n",
       "    }\n",
       "</style>\n",
       "<table border=\"1\" class=\"dataframe\">\n",
       "  <thead>\n",
       "    <tr style=\"text-align: right;\">\n",
       "      <th></th>\n",
       "      <th>HomeTeam</th>\n",
       "      <th>total_wins</th>\n",
       "      <th>total_w_goals</th>\n",
       "      <th>AwayTeam</th>\n",
       "      <th>total_losses</th>\n",
       "      <th>total_l_goals</th>\n",
       "    </tr>\n",
       "  </thead>\n",
       "  <tbody>\n",
       "    <tr>\n",
       "      <td>0</td>\n",
       "      <td>Aachen</td>\n",
       "      <td>6</td>\n",
       "      <td>12</td>\n",
       "      <td>Aachen</td>\n",
       "      <td>15.0</td>\n",
       "      <td>7.0</td>\n",
       "    </tr>\n",
       "    <tr>\n",
       "      <td>1</td>\n",
       "      <td>Arsenal</td>\n",
       "      <td>21</td>\n",
       "      <td>56</td>\n",
       "      <td>Arsenal</td>\n",
       "      <td>10.0</td>\n",
       "      <td>12.0</td>\n",
       "    </tr>\n",
       "    <tr>\n",
       "      <td>2</td>\n",
       "      <td>Aston Villa</td>\n",
       "      <td>7</td>\n",
       "      <td>17</td>\n",
       "      <td>Aston Villa</td>\n",
       "      <td>14.0</td>\n",
       "      <td>7.0</td>\n",
       "    </tr>\n",
       "    <tr>\n",
       "      <td>3</td>\n",
       "      <td>Augsburg</td>\n",
       "      <td>8</td>\n",
       "      <td>14</td>\n",
       "      <td>Augsburg</td>\n",
       "      <td>12.0</td>\n",
       "      <td>7.0</td>\n",
       "    </tr>\n",
       "    <tr>\n",
       "      <td>4</td>\n",
       "      <td>Bayern Munich</td>\n",
       "      <td>23</td>\n",
       "      <td>72</td>\n",
       "      <td>Bayern Munich</td>\n",
       "      <td>7.0</td>\n",
       "      <td>4.0</td>\n",
       "    </tr>\n",
       "  </tbody>\n",
       "</table>\n",
       "</div>"
      ],
      "text/plain": [
       "        HomeTeam  total_wins  total_w_goals       AwayTeam  total_losses  \\\n",
       "0         Aachen           6             12         Aachen          15.0   \n",
       "1        Arsenal          21             56        Arsenal          10.0   \n",
       "2    Aston Villa           7             17    Aston Villa          14.0   \n",
       "3       Augsburg           8             14       Augsburg          12.0   \n",
       "4  Bayern Munich          23             72  Bayern Munich           7.0   \n",
       "\n",
       "   total_l_goals  \n",
       "0            7.0  \n",
       "1           12.0  \n",
       "2            7.0  \n",
       "3            7.0  \n",
       "4            4.0  "
      ]
     },
     "execution_count": 42,
     "metadata": {},
     "output_type": "execute_result"
    }
   ],
   "source": [
    "wins_losses_goals = pd.merge(wins_simple, losses_simple, left_on=\"HomeTeam\", right_on=\"AwayTeam\")\n",
    "wins_losses_goals.head()"
   ]
  },
  {
   "cell_type": "code",
   "execution_count": 43,
   "metadata": {
    "ExecuteTime": {
     "end_time": "2019-10-23T09:29:09.336478Z",
     "start_time": "2019-10-23T09:29:09.332668Z"
    }
   },
   "outputs": [
    {
     "data": {
      "text/plain": [
       "(56, 6)"
      ]
     },
     "execution_count": 43,
     "metadata": {},
     "output_type": "execute_result"
    }
   ],
   "source": [
    "wins_losses_goals.shape"
   ]
  },
  {
   "cell_type": "markdown",
   "metadata": {},
   "source": [
    "### wins, losses, and goals per team in 2011"
   ]
  },
  {
   "cell_type": "code",
   "execution_count": 44,
   "metadata": {
    "ExecuteTime": {
     "end_time": "2019-10-23T09:29:09.351239Z",
     "start_time": "2019-10-23T09:29:09.338306Z"
    }
   },
   "outputs": [
    {
     "data": {
      "text/html": [
       "<div>\n",
       "<style scoped>\n",
       "    .dataframe tbody tr th:only-of-type {\n",
       "        vertical-align: middle;\n",
       "    }\n",
       "\n",
       "    .dataframe tbody tr th {\n",
       "        vertical-align: top;\n",
       "    }\n",
       "\n",
       "    .dataframe thead th {\n",
       "        text-align: right;\n",
       "    }\n",
       "</style>\n",
       "<table border=\"1\" class=\"dataframe\">\n",
       "  <thead>\n",
       "    <tr style=\"text-align: right;\">\n",
       "      <th></th>\n",
       "      <th>HomeTeam</th>\n",
       "      <th>total_wins</th>\n",
       "      <th>total_w_goals</th>\n",
       "      <th>AwayTeam</th>\n",
       "      <th>total_losses</th>\n",
       "      <th>total_l_goals</th>\n",
       "      <th>total_goals</th>\n",
       "    </tr>\n",
       "  </thead>\n",
       "  <tbody>\n",
       "    <tr>\n",
       "      <td>0</td>\n",
       "      <td>Aachen</td>\n",
       "      <td>6</td>\n",
       "      <td>12</td>\n",
       "      <td>Aachen</td>\n",
       "      <td>15.0</td>\n",
       "      <td>7.0</td>\n",
       "      <td>19.0</td>\n",
       "    </tr>\n",
       "    <tr>\n",
       "      <td>1</td>\n",
       "      <td>Arsenal</td>\n",
       "      <td>21</td>\n",
       "      <td>56</td>\n",
       "      <td>Arsenal</td>\n",
       "      <td>10.0</td>\n",
       "      <td>12.0</td>\n",
       "      <td>68.0</td>\n",
       "    </tr>\n",
       "    <tr>\n",
       "      <td>2</td>\n",
       "      <td>Aston Villa</td>\n",
       "      <td>7</td>\n",
       "      <td>17</td>\n",
       "      <td>Aston Villa</td>\n",
       "      <td>14.0</td>\n",
       "      <td>7.0</td>\n",
       "      <td>24.0</td>\n",
       "    </tr>\n",
       "    <tr>\n",
       "      <td>3</td>\n",
       "      <td>Augsburg</td>\n",
       "      <td>8</td>\n",
       "      <td>14</td>\n",
       "      <td>Augsburg</td>\n",
       "      <td>12.0</td>\n",
       "      <td>7.0</td>\n",
       "      <td>21.0</td>\n",
       "    </tr>\n",
       "    <tr>\n",
       "      <td>4</td>\n",
       "      <td>Bayern Munich</td>\n",
       "      <td>23</td>\n",
       "      <td>72</td>\n",
       "      <td>Bayern Munich</td>\n",
       "      <td>7.0</td>\n",
       "      <td>4.0</td>\n",
       "      <td>76.0</td>\n",
       "    </tr>\n",
       "  </tbody>\n",
       "</table>\n",
       "</div>"
      ],
      "text/plain": [
       "        HomeTeam  total_wins  total_w_goals       AwayTeam  total_losses  \\\n",
       "0         Aachen           6             12         Aachen          15.0   \n",
       "1        Arsenal          21             56        Arsenal          10.0   \n",
       "2    Aston Villa           7             17    Aston Villa          14.0   \n",
       "3       Augsburg           8             14       Augsburg          12.0   \n",
       "4  Bayern Munich          23             72  Bayern Munich           7.0   \n",
       "\n",
       "   total_l_goals  total_goals  \n",
       "0            7.0         19.0  \n",
       "1           12.0         68.0  \n",
       "2            7.0         24.0  \n",
       "3            7.0         21.0  \n",
       "4            4.0         76.0  "
      ]
     },
     "execution_count": 44,
     "metadata": {},
     "output_type": "execute_result"
    }
   ],
   "source": [
    "wins_losses_goals['total_goals'] = wins_losses_goals['total_w_goals'] + wins_losses_goals['total_l_goals']\n",
    "wins_losses_goals.head()"
   ]
  },
  {
   "cell_type": "code",
   "execution_count": 45,
   "metadata": {
    "ExecuteTime": {
     "end_time": "2019-10-23T09:29:09.356916Z",
     "start_time": "2019-10-23T09:29:09.353459Z"
    }
   },
   "outputs": [
    {
     "data": {
      "text/plain": [
       "(56, 7)"
      ]
     },
     "execution_count": 45,
     "metadata": {},
     "output_type": "execute_result"
    }
   ],
   "source": [
    "wins_losses_goals.shape"
   ]
  },
  {
   "cell_type": "code",
   "execution_count": 46,
   "metadata": {
    "ExecuteTime": {
     "end_time": "2019-10-23T09:29:09.364929Z",
     "start_time": "2019-10-23T09:29:09.358988Z"
    }
   },
   "outputs": [
    {
     "data": {
      "text/plain": [
       "HomeTeam         0\n",
       "total_wins       0\n",
       "total_w_goals    0\n",
       "AwayTeam         0\n",
       "total_losses     0\n",
       "total_l_goals    0\n",
       "total_goals      0\n",
       "dtype: int64"
      ]
     },
     "execution_count": 46,
     "metadata": {},
     "output_type": "execute_result"
    }
   ],
   "source": [
    "wins_losses_goals.isna().sum()"
   ]
  },
  {
   "cell_type": "code",
   "execution_count": 47,
   "metadata": {
    "ExecuteTime": {
     "end_time": "2019-10-23T09:29:09.379785Z",
     "start_time": "2019-10-23T09:29:09.366910Z"
    },
    "scrolled": true
   },
   "outputs": [
    {
     "data": {
      "text/html": [
       "<div>\n",
       "<style scoped>\n",
       "    .dataframe tbody tr th:only-of-type {\n",
       "        vertical-align: middle;\n",
       "    }\n",
       "\n",
       "    .dataframe tbody tr th {\n",
       "        vertical-align: top;\n",
       "    }\n",
       "\n",
       "    .dataframe thead th {\n",
       "        text-align: right;\n",
       "    }\n",
       "</style>\n",
       "<table border=\"1\" class=\"dataframe\">\n",
       "  <thead>\n",
       "    <tr style=\"text-align: right;\">\n",
       "      <th></th>\n",
       "      <th>total_wins</th>\n",
       "      <th>total_w_goals</th>\n",
       "      <th>Team</th>\n",
       "      <th>total_losses</th>\n",
       "      <th>total_l_goals</th>\n",
       "      <th>total_goals</th>\n",
       "    </tr>\n",
       "  </thead>\n",
       "  <tbody>\n",
       "    <tr>\n",
       "      <td>0</td>\n",
       "      <td>6</td>\n",
       "      <td>12</td>\n",
       "      <td>Aachen</td>\n",
       "      <td>15.0</td>\n",
       "      <td>7.0</td>\n",
       "      <td>19.0</td>\n",
       "    </tr>\n",
       "    <tr>\n",
       "      <td>1</td>\n",
       "      <td>21</td>\n",
       "      <td>56</td>\n",
       "      <td>Arsenal</td>\n",
       "      <td>10.0</td>\n",
       "      <td>12.0</td>\n",
       "      <td>68.0</td>\n",
       "    </tr>\n",
       "    <tr>\n",
       "      <td>2</td>\n",
       "      <td>7</td>\n",
       "      <td>17</td>\n",
       "      <td>Aston Villa</td>\n",
       "      <td>14.0</td>\n",
       "      <td>7.0</td>\n",
       "      <td>24.0</td>\n",
       "    </tr>\n",
       "    <tr>\n",
       "      <td>3</td>\n",
       "      <td>8</td>\n",
       "      <td>14</td>\n",
       "      <td>Augsburg</td>\n",
       "      <td>12.0</td>\n",
       "      <td>7.0</td>\n",
       "      <td>21.0</td>\n",
       "    </tr>\n",
       "    <tr>\n",
       "      <td>4</td>\n",
       "      <td>23</td>\n",
       "      <td>72</td>\n",
       "      <td>Bayern Munich</td>\n",
       "      <td>7.0</td>\n",
       "      <td>4.0</td>\n",
       "      <td>76.0</td>\n",
       "    </tr>\n",
       "  </tbody>\n",
       "</table>\n",
       "</div>"
      ],
      "text/plain": [
       "   total_wins  total_w_goals           Team  total_losses  total_l_goals  \\\n",
       "0           6             12         Aachen          15.0            7.0   \n",
       "1          21             56        Arsenal          10.0           12.0   \n",
       "2           7             17    Aston Villa          14.0            7.0   \n",
       "3           8             14       Augsburg          12.0            7.0   \n",
       "4          23             72  Bayern Munich           7.0            4.0   \n",
       "\n",
       "   total_goals  \n",
       "0         19.0  \n",
       "1         68.0  \n",
       "2         24.0  \n",
       "3         21.0  \n",
       "4         76.0  "
      ]
     },
     "execution_count": 47,
     "metadata": {},
     "output_type": "execute_result"
    }
   ],
   "source": [
    "# let's clean up the table - rename the column\n",
    "w_l_g = wins_losses_goals.rename({'AwayTeam': 'Team'}, axis=1)\n",
    "w_l_g = w_l_g.drop(\"HomeTeam\", axis=1)\n",
    "w_l_g.head()"
   ]
  },
  {
   "cell_type": "code",
   "execution_count": 48,
   "metadata": {
    "ExecuteTime": {
     "end_time": "2019-10-23T09:29:09.391650Z",
     "start_time": "2019-10-23T09:29:09.381670Z"
    }
   },
   "outputs": [
    {
     "data": {
      "text/html": [
       "<div>\n",
       "<style scoped>\n",
       "    .dataframe tbody tr th:only-of-type {\n",
       "        vertical-align: middle;\n",
       "    }\n",
       "\n",
       "    .dataframe tbody tr th {\n",
       "        vertical-align: top;\n",
       "    }\n",
       "\n",
       "    .dataframe thead th {\n",
       "        text-align: right;\n",
       "    }\n",
       "</style>\n",
       "<table border=\"1\" class=\"dataframe\">\n",
       "  <thead>\n",
       "    <tr style=\"text-align: right;\">\n",
       "      <th></th>\n",
       "      <th>Team</th>\n",
       "      <th>total_wins</th>\n",
       "      <th>total_losses</th>\n",
       "      <th>total_goals</th>\n",
       "    </tr>\n",
       "  </thead>\n",
       "  <tbody>\n",
       "    <tr>\n",
       "      <td>0</td>\n",
       "      <td>Aachen</td>\n",
       "      <td>6</td>\n",
       "      <td>15.0</td>\n",
       "      <td>19.0</td>\n",
       "    </tr>\n",
       "    <tr>\n",
       "      <td>1</td>\n",
       "      <td>Arsenal</td>\n",
       "      <td>21</td>\n",
       "      <td>10.0</td>\n",
       "      <td>68.0</td>\n",
       "    </tr>\n",
       "    <tr>\n",
       "      <td>2</td>\n",
       "      <td>Aston Villa</td>\n",
       "      <td>7</td>\n",
       "      <td>14.0</td>\n",
       "      <td>24.0</td>\n",
       "    </tr>\n",
       "    <tr>\n",
       "      <td>3</td>\n",
       "      <td>Augsburg</td>\n",
       "      <td>8</td>\n",
       "      <td>12.0</td>\n",
       "      <td>21.0</td>\n",
       "    </tr>\n",
       "    <tr>\n",
       "      <td>4</td>\n",
       "      <td>Bayern Munich</td>\n",
       "      <td>23</td>\n",
       "      <td>7.0</td>\n",
       "      <td>76.0</td>\n",
       "    </tr>\n",
       "  </tbody>\n",
       "</table>\n",
       "</div>"
      ],
      "text/plain": [
       "            Team  total_wins  total_losses  total_goals\n",
       "0         Aachen           6          15.0         19.0\n",
       "1        Arsenal          21          10.0         68.0\n",
       "2    Aston Villa           7          14.0         24.0\n",
       "3       Augsburg           8          12.0         21.0\n",
       "4  Bayern Munich          23           7.0         76.0"
      ]
     },
     "execution_count": 48,
     "metadata": {},
     "output_type": "execute_result"
    }
   ],
   "source": [
    "wlg = w_l_g[['Team', 'total_wins', 'total_losses', 'total_goals']]\n",
    "wlg.head()"
   ]
  },
  {
   "cell_type": "code",
   "execution_count": 49,
   "metadata": {
    "ExecuteTime": {
     "end_time": "2019-10-23T09:29:09.399621Z",
     "start_time": "2019-10-23T09:29:09.393728Z"
    }
   },
   "outputs": [
    {
     "name": "stdout",
     "output_type": "stream",
     "text": [
      "<class 'pandas.core.frame.DataFrame'>\n",
      "Int64Index: 56 entries, 0 to 55\n",
      "Data columns (total 4 columns):\n",
      "Team            56 non-null object\n",
      "total_wins      56 non-null int64\n",
      "total_losses    56 non-null float64\n",
      "total_goals     56 non-null float64\n",
      "dtypes: float64(2), int64(1), object(1)\n",
      "memory usage: 2.2+ KB\n"
     ]
    }
   ],
   "source": [
    "wlg.info()"
   ]
  },
  {
   "cell_type": "markdown",
   "metadata": {},
   "source": [
    "### Unique Teams"
   ]
  },
  {
   "cell_type": "code",
   "execution_count": 50,
   "metadata": {
    "ExecuteTime": {
     "end_time": "2019-10-23T09:29:09.406849Z",
     "start_time": "2019-10-23T09:29:09.402079Z"
    },
    "scrolled": true
   },
   "outputs": [
    {
     "data": {
      "text/plain": [
       "['Aachen',\n",
       " 'Arsenal',\n",
       " 'Aston Villa',\n",
       " 'Augsburg',\n",
       " 'Bayern Munich',\n",
       " 'Blackburn',\n",
       " 'Bochum',\n",
       " 'Bolton',\n",
       " 'Braunschweig',\n",
       " 'Chelsea',\n",
       " 'Cottbus',\n",
       " 'Dortmund',\n",
       " 'Dresden',\n",
       " 'Duisburg',\n",
       " 'Ein Frankfurt',\n",
       " 'Erzgebirge Aue',\n",
       " 'Everton',\n",
       " 'FC Koln',\n",
       " 'Fortuna Dusseldorf',\n",
       " 'Frankfurt FSV',\n",
       " 'Freiburg',\n",
       " 'Fulham',\n",
       " 'Greuther Furth',\n",
       " 'Hamburg',\n",
       " 'Hannover',\n",
       " 'Hansa Rostock',\n",
       " 'Hertha',\n",
       " 'Hoffenheim',\n",
       " 'Ingolstadt',\n",
       " 'Kaiserslautern',\n",
       " 'Karlsruhe',\n",
       " 'Leverkusen',\n",
       " 'Liverpool',\n",
       " \"M'gladbach\",\n",
       " 'Mainz',\n",
       " 'Man City',\n",
       " 'Man United',\n",
       " 'Munich 1860',\n",
       " 'Newcastle',\n",
       " 'Norwich',\n",
       " 'Nurnberg',\n",
       " 'Paderborn',\n",
       " 'QPR',\n",
       " 'Schalke 04',\n",
       " 'St Pauli',\n",
       " 'Stoke',\n",
       " 'Stuttgart',\n",
       " 'Sunderland',\n",
       " 'Swansea',\n",
       " 'Tottenham',\n",
       " 'Union Berlin',\n",
       " 'Werder Bremen',\n",
       " 'West Brom',\n",
       " 'Wigan',\n",
       " 'Wolfsburg',\n",
       " 'Wolves']"
      ]
     },
     "execution_count": 50,
     "metadata": {},
     "output_type": "execute_result"
    }
   ],
   "source": [
    "all_teams = wlg['Team'].unique()\n",
    "all_teams.tolist()"
   ]
  },
  {
   "cell_type": "code",
   "execution_count": 51,
   "metadata": {
    "ExecuteTime": {
     "end_time": "2019-10-23T09:29:09.411759Z",
     "start_time": "2019-10-23T09:29:09.408752Z"
    },
    "scrolled": true
   },
   "outputs": [
    {
     "name": "stdout",
     "output_type": "stream",
     "text": [
      "Number of unique teams in 2011 season: 56\n"
     ]
    }
   ],
   "source": [
    "print(\"Number of unique teams in 2011 season: {}\".format(len(all_teams)))"
   ]
  },
  {
   "cell_type": "markdown",
   "metadata": {},
   "source": [
    "### Unique Dates of Matches"
   ]
  },
  {
   "cell_type": "code",
   "execution_count": 52,
   "metadata": {
    "ExecuteTime": {
     "end_time": "2019-10-23T09:29:09.417018Z",
     "start_time": "2019-10-23T09:29:09.413516Z"
    }
   },
   "outputs": [
    {
     "name": "stdout",
     "output_type": "stream",
     "text": [
      "Number of unique match dates in 2011 season: 165\n"
     ]
    }
   ],
   "source": [
    "# extracting dates to use for checking whether it rained on that game day or not\n",
    "unique_match_dates = matches2011_df.Date.unique()\n",
    "print(\"Number of unique match dates in 2011 season: {}\".format(len(unique_match_dates)))"
   ]
  },
  {
   "cell_type": "markdown",
   "metadata": {},
   "source": [
    "# Weather - DarkSky API"
   ]
  },
  {
   "cell_type": "markdown",
   "metadata": {},
   "source": [
    "## Exploring DarkSky API - initial requests"
   ]
  },
  {
   "cell_type": "code",
   "execution_count": 53,
   "metadata": {
    "ExecuteTime": {
     "end_time": "2019-10-23T09:29:09.421682Z",
     "start_time": "2019-10-23T09:29:09.418789Z"
    }
   },
   "outputs": [],
   "source": [
    "import json\n",
    "def get_keys(path):\n",
    "    with open(path) as f:\n",
    "        return json.load(f)"
   ]
  },
  {
   "cell_type": "code",
   "execution_count": 54,
   "metadata": {
    "ExecuteTime": {
     "end_time": "2019-10-23T09:29:09.427166Z",
     "start_time": "2019-10-23T09:29:09.423527Z"
    }
   },
   "outputs": [],
   "source": [
    "keys = get_keys(\"/Users/serenaquiroga/.secret/darksky_api/darksky_api.json\")\n",
    "api_key = keys[\"api_key\"]"
   ]
  },
  {
   "cell_type": "code",
   "execution_count": 55,
   "metadata": {
    "ExecuteTime": {
     "end_time": "2019-10-23T09:29:09.651006Z",
     "start_time": "2019-10-23T09:29:09.428849Z"
    }
   },
   "outputs": [],
   "source": [
    "import requests"
   ]
  },
  {
   "cell_type": "markdown",
   "metadata": {},
   "source": [
    "The API url to call:\n",
    "`url = https://api.darksky.net/forecast/[key]/[latitude],[longitude],[time]`"
   ]
  },
  {
   "cell_type": "markdown",
   "metadata": {},
   "source": [
    "### Example Request & Initial Exploration"
   ]
  },
  {
   "cell_type": "code",
   "execution_count": 56,
   "metadata": {
    "ExecuteTime": {
     "end_time": "2019-10-23T09:29:11.519341Z",
     "start_time": "2019-10-23T09:29:09.653090Z"
    }
   },
   "outputs": [],
   "source": [
    "# example request from API documentation with minor modification to params\n",
    "response = requests.get(\"https://api.darksky.net/forecast/9f869e447b89508641fadf5541ec4e36/37.8267,-122.4233,255657600?exclude=currently,alerts,minutely,hourly\")"
   ]
  },
  {
   "cell_type": "code",
   "execution_count": 57,
   "metadata": {
    "ExecuteTime": {
     "end_time": "2019-10-23T09:29:11.524769Z",
     "start_time": "2019-10-23T09:29:11.521283Z"
    }
   },
   "outputs": [
    {
     "data": {
      "text/plain": [
       "True"
      ]
     },
     "execution_count": 57,
     "metadata": {},
     "output_type": "execute_result"
    }
   ],
   "source": [
    "response.status_code == requests.codes.ok"
   ]
  },
  {
   "cell_type": "code",
   "execution_count": 58,
   "metadata": {
    "ExecuteTime": {
     "end_time": "2019-10-23T09:29:11.529390Z",
     "start_time": "2019-10-23T09:29:11.526565Z"
    }
   },
   "outputs": [
    {
     "name": "stdout",
     "output_type": "stream",
     "text": [
      "{\"latitude\":37.8267,\"longitude\":-122.4233,\"timezone\":\"America/Los_Angeles\",\"daily\":{\"data\":[{\"time\":255600000,\"summary\":\"Rain in the morning.\",\"icon\":\"rain\",\"sunriseTime\":255625832,\"sunsetTime\":255663586,\"moonPhase\":0.98,\"precipIntensity\":0.0193,\"precipIntensityMax\":0.1692,\"precipIntensityMaxTime\":255625200,\"precipProbability\":1,\"precipType\":\"rain\",\"temperatureHigh\":61.66,\"temperatureHighTime\":255650400,\"temperatureLow\":54.4,\"temperatureLowTime\":255715200,\"apparentTemperatureHigh\":60.99,\"apparentTemperatureHighTime\":255650400,\"apparentTemperatureLow\":55.05,\"apparentTemperatureLowTime\":255715200,\"dewPoint\":51.96,\"humidity\":0.83,\"pressure\":1009.13,\"windSpeed\":12.3,\"windBearing\":186,\"cloudCover\":0.84,\"uvIndex\":3,\"uvIndexTime\":255643200,\"visibility\":8.493,\"temperatureMin\":53.35,\"temperatureMinTime\":255603600,\"temperatureMax\":61.66,\"temperatureMaxTime\":255650400,\"apparentTemperatureMin\":54,\"apparentTemperatureMinTime\":255603600,\"apparentTemperatureMax\":60.99,\"apparentTemperatureMaxTime\":255650400}]},\"flags\":{\"sources\":[\"cmc\",\"gfs\",\"hrrr\",\"icon\",\"isd\",\"madis\",\"nam\",\"sref\"],\"nearest-station\":2.24,\"units\":\"us\"},\"offset\":-8}\n",
      "\n"
     ]
    }
   ],
   "source": [
    "print(response.text)"
   ]
  },
  {
   "cell_type": "code",
   "execution_count": 59,
   "metadata": {
    "ExecuteTime": {
     "end_time": "2019-10-23T09:29:11.535162Z",
     "start_time": "2019-10-23T09:29:11.531152Z"
    },
    "scrolled": true
   },
   "outputs": [
    {
     "data": {
      "text/plain": [
       "{'Date': 'Wed, 23 Oct 2019 09:29:11 GMT',\n",
       " 'Content-Type': 'application/json; charset=utf-8',\n",
       " 'Transfer-Encoding': 'chunked',\n",
       " 'Connection': 'keep-alive',\n",
       " 'X-Authentication-Time': '67ms',\n",
       " 'X-Forecast-API-Calls': '168',\n",
       " 'Cache-Control': 'max-age=86400',\n",
       " 'Expires': 'Thu, 24 Oct 2019 09:29:11 +0000',\n",
       " 'X-Response-Time': '321.639ms',\n",
       " 'Vary': 'Accept-Encoding',\n",
       " 'Content-Encoding': 'gzip'}"
      ]
     },
     "execution_count": 59,
     "metadata": {},
     "output_type": "execute_result"
    }
   ],
   "source": [
    "dict(response.headers)"
   ]
  },
  {
   "cell_type": "code",
   "execution_count": 60,
   "metadata": {
    "ExecuteTime": {
     "end_time": "2019-10-23T09:29:11.541065Z",
     "start_time": "2019-10-23T09:29:11.537031Z"
    }
   },
   "outputs": [
    {
     "data": {
      "text/plain": [
       "dict_keys(['latitude', 'longitude', 'timezone', 'daily', 'flags', 'offset'])"
      ]
     },
     "execution_count": 60,
     "metadata": {},
     "output_type": "execute_result"
    }
   ],
   "source": [
    "response.json().keys()"
   ]
  },
  {
   "cell_type": "code",
   "execution_count": 61,
   "metadata": {
    "ExecuteTime": {
     "end_time": "2019-10-23T09:29:11.547746Z",
     "start_time": "2019-10-23T09:29:11.542786Z"
    },
    "scrolled": true
   },
   "outputs": [
    {
     "data": {
      "text/plain": [
       "{'data': [{'time': 255600000,\n",
       "   'summary': 'Rain in the morning.',\n",
       "   'icon': 'rain',\n",
       "   'sunriseTime': 255625832,\n",
       "   'sunsetTime': 255663586,\n",
       "   'moonPhase': 0.98,\n",
       "   'precipIntensity': 0.0193,\n",
       "   'precipIntensityMax': 0.1692,\n",
       "   'precipIntensityMaxTime': 255625200,\n",
       "   'precipProbability': 1,\n",
       "   'precipType': 'rain',\n",
       "   'temperatureHigh': 61.66,\n",
       "   'temperatureHighTime': 255650400,\n",
       "   'temperatureLow': 54.4,\n",
       "   'temperatureLowTime': 255715200,\n",
       "   'apparentTemperatureHigh': 60.99,\n",
       "   'apparentTemperatureHighTime': 255650400,\n",
       "   'apparentTemperatureLow': 55.05,\n",
       "   'apparentTemperatureLowTime': 255715200,\n",
       "   'dewPoint': 51.96,\n",
       "   'humidity': 0.83,\n",
       "   'pressure': 1009.13,\n",
       "   'windSpeed': 12.3,\n",
       "   'windBearing': 186,\n",
       "   'cloudCover': 0.84,\n",
       "   'uvIndex': 3,\n",
       "   'uvIndexTime': 255643200,\n",
       "   'visibility': 8.493,\n",
       "   'temperatureMin': 53.35,\n",
       "   'temperatureMinTime': 255603600,\n",
       "   'temperatureMax': 61.66,\n",
       "   'temperatureMaxTime': 255650400,\n",
       "   'apparentTemperatureMin': 54,\n",
       "   'apparentTemperatureMinTime': 255603600,\n",
       "   'apparentTemperatureMax': 60.99,\n",
       "   'apparentTemperatureMaxTime': 255650400}]}"
      ]
     },
     "execution_count": 61,
     "metadata": {},
     "output_type": "execute_result"
    }
   ],
   "source": [
    "#looking at the daily header dictionaries \n",
    "response.json()['daily']"
   ]
  },
  {
   "cell_type": "markdown",
   "metadata": {},
   "source": [
    "From above, we will want to extract the 'icon' key-value pair for our model, as this indicates whether there was rain that day. "
   ]
  },
  {
   "cell_type": "markdown",
   "metadata": {},
   "source": [
    "## Refactoring"
   ]
  },
  {
   "cell_type": "code",
   "execution_count": 62,
   "metadata": {
    "ExecuteTime": {
     "end_time": "2019-10-23T09:29:11.560933Z",
     "start_time": "2019-10-23T09:29:11.549622Z"
    }
   },
   "outputs": [],
   "source": [
    "class WeatherGetter(object):\n",
    "    \n",
    "    def __init__(self):\n",
    "        self.secret_key = # insert secret API key here\n",
    "        self.berlin_lat = \"52.520008\"\n",
    "        self.berlin_long = \"13.404954\"\n",
    "        self.url_base = \"https://api.darksky.net/forecast\"\n",
    "        self.exclude = 'currently,flags,minutely,hourly,alerts' #we only want the 'daily' parameter\n",
    "    \n",
    "    def get_weather_data_for_date(self, datetime_string, verbose=True):\n",
    "        year, month, day = self.format_datetime(datetime_string)\n",
    "        datetime = \"{}-{}-{}T12:00:00\".format(year, month, day)\n",
    "        full_url = \"{}/{}/{},{},{}?exclude={}\".format(self.url_base, self.secret_key,\n",
    "                                                     self.berlin_lat, self.berlin_long, \n",
    "                                                     datetime, self.exclude)\n",
    "        \n",
    "        response = requests.get(full_url)\n",
    "        if response.status_code == 200:\n",
    "            if verbose:\n",
    "                print(response.status_code)\n",
    "            return response\n",
    "        else:\n",
    "            raise ValueError(\"Error getting data from DarkSky API: Response Code {}\".format(response.status_code))\n",
    "    \n",
    "    def was_raining(self, response, verbose=True):\n",
    "        data = json.loads(response.text)\n",
    "        daily = data['daily']\n",
    "        data = daily['data']\n",
    "        data = data[0]\n",
    "        if data['icon'] == 'rain':\n",
    "            if verbose:\n",
    "                print(data['icon'])\n",
    "            return True\n",
    "        else:\n",
    "            if verbose:\n",
    "                print(data['icon'])\n",
    "            return False\n",
    "        \n",
    "    def format_datetime(self, datetime_string):\n",
    "        year = datetime_string[:4]\n",
    "        month = datetime_string[5:7]\n",
    "        day = datetime_string[8:]\n",
    "        \n",
    "        return year, month, day\n",
    "    \n",
    "    def did_rain_on_date(self, datetime_string):\n",
    "        \n",
    "        response = self.get_weather_data_for_date(datetime_string, verbose=False)\n",
    "        did_rain = self.was_raining(response, verbose=False)\n",
    "        \n",
    "        return did_rain\n",
    "    \n",
    "    def get_weather_for_all_dates(self, dates_list):\n",
    "        \"\"\"returns a dictionary where each date is the key, with rainy days as True\"\"\"\n",
    "        weather_dict = {}\n",
    "        \n",
    "        for date in dates_list:\n",
    "            weather_dict[date] = self.did_rain_on_date(date)\n",
    "            \n",
    "        return weather_dict"
   ]
  },
  {
   "cell_type": "code",
   "execution_count": 63,
   "metadata": {
    "ExecuteTime": {
     "end_time": "2019-10-23T09:29:11.565485Z",
     "start_time": "2019-10-23T09:29:11.562838Z"
    }
   },
   "outputs": [],
   "source": [
    "wg = WeatherGetter()"
   ]
  },
  {
   "cell_type": "code",
   "execution_count": 64,
   "metadata": {
    "ExecuteTime": {
     "end_time": "2019-10-23T09:29:12.679714Z",
     "start_time": "2019-10-23T09:29:11.567490Z"
    }
   },
   "outputs": [
    {
     "data": {
      "text/plain": [
       "False"
      ]
     },
     "execution_count": 64,
     "metadata": {},
     "output_type": "execute_result"
    }
   ],
   "source": [
    "# testing on a single date\n",
    "wg.did_rain_on_date('2019-10-19')"
   ]
  },
  {
   "cell_type": "markdown",
   "metadata": {},
   "source": [
    "### Rainy Games"
   ]
  },
  {
   "cell_type": "code",
   "execution_count": 65,
   "metadata": {
    "ExecuteTime": {
     "end_time": "2019-10-23T09:33:24.688215Z",
     "start_time": "2019-10-23T09:29:12.681921Z"
    }
   },
   "outputs": [],
   "source": [
    "rain_dates = wg.get_weather_for_all_dates(unique_match_dates)"
   ]
  },
  {
   "cell_type": "code",
   "execution_count": 66,
   "metadata": {
    "ExecuteTime": {
     "end_time": "2019-10-23T09:33:24.698617Z",
     "start_time": "2019-10-23T09:33:24.691109Z"
    }
   },
   "outputs": [
    {
     "data": {
      "text/plain": [
       "{'2012-03-31': True,\n",
       " '2011-12-11': False,\n",
       " '2011-08-13': False,\n",
       " '2011-11-27': False,\n",
       " '2012-02-18': False,\n",
       " '2012-01-20': True,\n",
       " '2012-02-04': False,\n",
       " '2012-04-21': False,\n",
       " '2011-09-18': True,\n",
       " '2011-10-23': True,\n",
       " '2011-10-01': False,\n",
       " '2012-03-03': False,\n",
       " '2011-08-27': True,\n",
       " '2012-03-17': False,\n",
       " '2011-11-06': True,\n",
       " '2012-05-05': True,\n",
       " '2012-04-11': False,\n",
       " '2011-12-17': True,\n",
       " '2012-02-03': False,\n",
       " '2011-10-29': False,\n",
       " '2012-01-22': True,\n",
       " '2011-12-03': True,\n",
       " '2012-04-14': False,\n",
       " '2012-03-25': False,\n",
       " '2012-03-10': False,\n",
       " '2012-04-07': False,\n",
       " '2011-11-19': False,\n",
       " '2011-10-14': False,\n",
       " '2011-09-24': False,\n",
       " '2012-04-28': False,\n",
       " '2011-12-18': True,\n",
       " '2012-03-02': False,\n",
       " '2012-03-16': False,\n",
       " '2012-02-17': True,\n",
       " '2011-08-06': True,\n",
       " '2011-11-04': False,\n",
       " '2011-09-16': False,\n",
       " '2011-07-15': False,\n",
       " '2012-05-06': True,\n",
       " '2012-02-11': False,\n",
       " '2011-10-02': False,\n",
       " '2012-03-30': False,\n",
       " '2011-10-22': False,\n",
       " '2011-08-26': True,\n",
       " '2011-08-07': True,\n",
       " '2012-02-24': True,\n",
       " '2011-07-17': True,\n",
       " '2012-02-12': False,\n",
       " '2011-08-22': False,\n",
       " '2011-09-09': True,\n",
       " '2012-04-01': False,\n",
       " '2011-09-25': False,\n",
       " '2012-04-20': False,\n",
       " '2011-11-25': True,\n",
       " '2012-03-09': False,\n",
       " '2011-11-07': False,\n",
       " '2011-09-10': True,\n",
       " '2011-08-21': False,\n",
       " '2011-09-26': False,\n",
       " '2012-03-26': False,\n",
       " '2011-10-30': True,\n",
       " '2012-02-13': False,\n",
       " '2012-02-26': False,\n",
       " '2011-12-19': False,\n",
       " '2012-03-11': False,\n",
       " '2011-11-26': True,\n",
       " '2012-04-23': False,\n",
       " '2011-12-16': True,\n",
       " '2011-11-05': True,\n",
       " '2012-04-10': False,\n",
       " '2012-04-15': False,\n",
       " '2012-02-05': False,\n",
       " '2012-03-04': False,\n",
       " '2011-09-17': False,\n",
       " '2012-01-21': False,\n",
       " '2012-03-18': False,\n",
       " '2012-04-22': False,\n",
       " '2011-08-20': False,\n",
       " '2012-02-10': False,\n",
       " '2012-02-25': False,\n",
       " '2011-12-10': True,\n",
       " '2012-01-29': False,\n",
       " '2011-10-16': True,\n",
       " '2011-08-05': True,\n",
       " '2012-03-23': False,\n",
       " '2011-09-23': False,\n",
       " '2012-01-28': False,\n",
       " '2011-10-15': False,\n",
       " '2012-03-24': False,\n",
       " '2011-11-18': True,\n",
       " '2012-04-29': False,\n",
       " '2011-12-09': True,\n",
       " '2012-04-08': False,\n",
       " '2012-03-12': True,\n",
       " '2011-07-23': True,\n",
       " '2011-10-28': False,\n",
       " '2012-01-27': False,\n",
       " '2011-12-04': False,\n",
       " '2011-09-11': True,\n",
       " '2011-09-30': False,\n",
       " '2012-02-19': True,\n",
       " '2012-04-13': False,\n",
       " '2011-10-21': False,\n",
       " '2011-08-14': True,\n",
       " '2011-09-12': True,\n",
       " '2011-07-18': True,\n",
       " '2011-08-08': True,\n",
       " '2011-07-24': False,\n",
       " '2011-12-13': True,\n",
       " '2011-08-28': False,\n",
       " '2011-08-19': True,\n",
       " '2012-03-14': False,\n",
       " '2011-08-12': True,\n",
       " '2012-03-05': False,\n",
       " '2011-12-02': True,\n",
       " '2011-09-19': True,\n",
       " '2011-07-25': False,\n",
       " '2012-04-02': True,\n",
       " '2012-02-06': False,\n",
       " '2011-11-21': False,\n",
       " '2011-07-22': True,\n",
       " '2011-08-29': True,\n",
       " '2012-04-05': False,\n",
       " '2011-11-28': False,\n",
       " '2011-12-12': True,\n",
       " '2011-11-20': False,\n",
       " '2012-02-27': True,\n",
       " '2011-07-16': False,\n",
       " '2011-10-31': False,\n",
       " '2012-02-20': False,\n",
       " '2011-10-17': False,\n",
       " '2011-12-05': False,\n",
       " '2012-04-16': False,\n",
       " '2011-10-03': False,\n",
       " '2012-03-19': False,\n",
       " '2011-08-15': True,\n",
       " '2011-12-20': False,\n",
       " '2011-12-21': True,\n",
       " '2011-12-22': False,\n",
       " '2011-12-26': True,\n",
       " '2011-12-27': False,\n",
       " '2011-12-30': True,\n",
       " '2011-12-31': False,\n",
       " '2012-01-01': True,\n",
       " '2012-01-02': True,\n",
       " '2012-01-03': True,\n",
       " '2012-01-04': True,\n",
       " '2012-01-11': False,\n",
       " '2012-01-14': False,\n",
       " '2012-01-15': False,\n",
       " '2012-01-16': True,\n",
       " '2012-01-31': False,\n",
       " '2012-02-01': False,\n",
       " '2012-03-13': False,\n",
       " '2012-03-20': False,\n",
       " '2012-03-21': False,\n",
       " '2012-04-06': False,\n",
       " '2012-04-09': False,\n",
       " '2012-04-24': True,\n",
       " '2012-04-30': False,\n",
       " '2012-05-01': False,\n",
       " '2012-05-02': False,\n",
       " '2012-05-07': False,\n",
       " '2012-05-08': False,\n",
       " '2012-05-13': False}"
      ]
     },
     "execution_count": 66,
     "metadata": {},
     "output_type": "execute_result"
    }
   ],
   "source": [
    "rain_dates"
   ]
  },
  {
   "cell_type": "code",
   "execution_count": 67,
   "metadata": {
    "ExecuteTime": {
     "end_time": "2019-10-23T09:33:24.721301Z",
     "start_time": "2019-10-23T09:33:24.700837Z"
    },
    "scrolled": true
   },
   "outputs": [
    {
     "data": {
      "text/html": [
       "<div>\n",
       "<style scoped>\n",
       "    .dataframe tbody tr th:only-of-type {\n",
       "        vertical-align: middle;\n",
       "    }\n",
       "\n",
       "    .dataframe tbody tr th {\n",
       "        vertical-align: top;\n",
       "    }\n",
       "\n",
       "    .dataframe thead th {\n",
       "        text-align: right;\n",
       "    }\n",
       "</style>\n",
       "<table border=\"1\" class=\"dataframe\">\n",
       "  <thead>\n",
       "    <tr style=\"text-align: right;\">\n",
       "      <th></th>\n",
       "      <th>Match_ID</th>\n",
       "      <th>Div</th>\n",
       "      <th>Season</th>\n",
       "      <th>Date</th>\n",
       "      <th>HomeTeam</th>\n",
       "      <th>AwayTeam</th>\n",
       "      <th>FTHG</th>\n",
       "      <th>FTAG</th>\n",
       "      <th>FTR</th>\n",
       "      <th>Rain_Game</th>\n",
       "    </tr>\n",
       "  </thead>\n",
       "  <tbody>\n",
       "    <tr>\n",
       "      <td>0</td>\n",
       "      <td>1092</td>\n",
       "      <td>D1</td>\n",
       "      <td>2011</td>\n",
       "      <td>2012-03-31</td>\n",
       "      <td>Nurnberg</td>\n",
       "      <td>Bayern Munich</td>\n",
       "      <td>0</td>\n",
       "      <td>1</td>\n",
       "      <td>A</td>\n",
       "      <td>True</td>\n",
       "    </tr>\n",
       "    <tr>\n",
       "      <td>1</td>\n",
       "      <td>1093</td>\n",
       "      <td>D1</td>\n",
       "      <td>2011</td>\n",
       "      <td>2011-12-11</td>\n",
       "      <td>Stuttgart</td>\n",
       "      <td>Bayern Munich</td>\n",
       "      <td>1</td>\n",
       "      <td>2</td>\n",
       "      <td>A</td>\n",
       "      <td>False</td>\n",
       "    </tr>\n",
       "    <tr>\n",
       "      <td>2</td>\n",
       "      <td>1094</td>\n",
       "      <td>D1</td>\n",
       "      <td>2011</td>\n",
       "      <td>2011-08-13</td>\n",
       "      <td>Wolfsburg</td>\n",
       "      <td>Bayern Munich</td>\n",
       "      <td>0</td>\n",
       "      <td>1</td>\n",
       "      <td>A</td>\n",
       "      <td>False</td>\n",
       "    </tr>\n",
       "    <tr>\n",
       "      <td>3</td>\n",
       "      <td>1095</td>\n",
       "      <td>D1</td>\n",
       "      <td>2011</td>\n",
       "      <td>2011-11-27</td>\n",
       "      <td>Mainz</td>\n",
       "      <td>Bayern Munich</td>\n",
       "      <td>3</td>\n",
       "      <td>2</td>\n",
       "      <td>H</td>\n",
       "      <td>False</td>\n",
       "    </tr>\n",
       "    <tr>\n",
       "      <td>4</td>\n",
       "      <td>1096</td>\n",
       "      <td>D1</td>\n",
       "      <td>2011</td>\n",
       "      <td>2012-02-18</td>\n",
       "      <td>Freiburg</td>\n",
       "      <td>Bayern Munich</td>\n",
       "      <td>0</td>\n",
       "      <td>0</td>\n",
       "      <td>D</td>\n",
       "      <td>False</td>\n",
       "    </tr>\n",
       "  </tbody>\n",
       "</table>\n",
       "</div>"
      ],
      "text/plain": [
       "   Match_ID Div  Season        Date   HomeTeam       AwayTeam  FTHG  FTAG FTR  \\\n",
       "0      1092  D1    2011  2012-03-31   Nurnberg  Bayern Munich     0     1   A   \n",
       "1      1093  D1    2011  2011-12-11  Stuttgart  Bayern Munich     1     2   A   \n",
       "2      1094  D1    2011  2011-08-13  Wolfsburg  Bayern Munich     0     1   A   \n",
       "3      1095  D1    2011  2011-11-27      Mainz  Bayern Munich     3     2   H   \n",
       "4      1096  D1    2011  2012-02-18   Freiburg  Bayern Munich     0     0   D   \n",
       "\n",
       "   Rain_Game  \n",
       "0       True  \n",
       "1      False  \n",
       "2      False  \n",
       "3      False  \n",
       "4      False  "
      ]
     },
     "execution_count": 67,
     "metadata": {},
     "output_type": "execute_result"
    }
   ],
   "source": [
    "rainy_game = []\n",
    "for date in matches2011_df.Date:\n",
    "    rainy_game.append(rain_dates[date])\n",
    "    \n",
    "matches2011_df['Rain_Game'] = rainy_game\n",
    "matches2011_df.head()"
   ]
  },
  {
   "cell_type": "markdown",
   "metadata": {},
   "source": [
    "#### Win % on Rainy Days"
   ]
  },
  {
   "cell_type": "code",
   "execution_count": 68,
   "metadata": {
    "ExecuteTime": {
     "end_time": "2019-10-23T09:33:24.752072Z",
     "start_time": "2019-10-23T09:33:24.742524Z"
    }
   },
   "outputs": [
    {
     "name": "stdout",
     "output_type": "stream",
     "text": [
      "<class 'pandas.core.frame.DataFrame'>\n",
      "RangeIndex: 992 entries, 0 to 991\n",
      "Data columns (total 10 columns):\n",
      "Match_ID     992 non-null int64\n",
      "Div          992 non-null object\n",
      "Season       992 non-null int64\n",
      "Date         992 non-null object\n",
      "HomeTeam     992 non-null object\n",
      "AwayTeam     992 non-null object\n",
      "FTHG         992 non-null int64\n",
      "FTAG         992 non-null int64\n",
      "FTR          992 non-null object\n",
      "Rain_Game    992 non-null bool\n",
      "dtypes: bool(1), int64(4), object(5)\n",
      "memory usage: 70.8+ KB\n"
     ]
    }
   ],
   "source": [
    "matches2011_df.info()"
   ]
  },
  {
   "cell_type": "code",
   "execution_count": 69,
   "metadata": {
    "ExecuteTime": {
     "end_time": "2019-10-23T09:33:24.769910Z",
     "start_time": "2019-10-23T09:33:24.761061Z"
    }
   },
   "outputs": [
    {
     "data": {
      "text/plain": [
       "count         992\n",
       "unique         56\n",
       "top       Chelsea\n",
       "freq           19\n",
       "Name: AwayTeam, dtype: object"
      ]
     },
     "execution_count": 69,
     "metadata": {},
     "output_type": "execute_result"
    }
   ],
   "source": [
    "matches2011_df['AwayTeam'].describe()"
   ]
  },
  {
   "cell_type": "code",
   "execution_count": 70,
   "metadata": {
    "ExecuteTime": {
     "end_time": "2019-10-23T09:33:24.785401Z",
     "start_time": "2019-10-23T09:33:24.771959Z"
    }
   },
   "outputs": [
    {
     "data": {
      "text/html": [
       "<div>\n",
       "<style scoped>\n",
       "    .dataframe tbody tr th:only-of-type {\n",
       "        vertical-align: middle;\n",
       "    }\n",
       "\n",
       "    .dataframe tbody tr th {\n",
       "        vertical-align: top;\n",
       "    }\n",
       "\n",
       "    .dataframe thead th {\n",
       "        text-align: right;\n",
       "    }\n",
       "</style>\n",
       "<table border=\"1\" class=\"dataframe\">\n",
       "  <thead>\n",
       "    <tr style=\"text-align: right;\">\n",
       "      <th></th>\n",
       "      <th>Match_ID</th>\n",
       "      <th>Div</th>\n",
       "      <th>Season</th>\n",
       "      <th>Date</th>\n",
       "      <th>HomeTeam</th>\n",
       "      <th>AwayTeam</th>\n",
       "      <th>FTHG</th>\n",
       "      <th>FTAG</th>\n",
       "      <th>FTR</th>\n",
       "      <th>Rain_Game</th>\n",
       "    </tr>\n",
       "  </thead>\n",
       "  <tbody>\n",
       "    <tr>\n",
       "      <td>0</td>\n",
       "      <td>1092</td>\n",
       "      <td>D1</td>\n",
       "      <td>2011</td>\n",
       "      <td>2012-03-31</td>\n",
       "      <td>Nurnberg</td>\n",
       "      <td>Bayern Munich</td>\n",
       "      <td>0</td>\n",
       "      <td>1</td>\n",
       "      <td>A</td>\n",
       "      <td>True</td>\n",
       "    </tr>\n",
       "    <tr>\n",
       "      <td>5</td>\n",
       "      <td>1097</td>\n",
       "      <td>D1</td>\n",
       "      <td>2011</td>\n",
       "      <td>2012-01-20</td>\n",
       "      <td>M'gladbach</td>\n",
       "      <td>Bayern Munich</td>\n",
       "      <td>3</td>\n",
       "      <td>1</td>\n",
       "      <td>H</td>\n",
       "      <td>True</td>\n",
       "    </tr>\n",
       "    <tr>\n",
       "      <td>8</td>\n",
       "      <td>1100</td>\n",
       "      <td>D1</td>\n",
       "      <td>2011</td>\n",
       "      <td>2011-09-18</td>\n",
       "      <td>Schalke 04</td>\n",
       "      <td>Bayern Munich</td>\n",
       "      <td>0</td>\n",
       "      <td>2</td>\n",
       "      <td>A</td>\n",
       "      <td>True</td>\n",
       "    </tr>\n",
       "    <tr>\n",
       "      <td>9</td>\n",
       "      <td>1101</td>\n",
       "      <td>D1</td>\n",
       "      <td>2011</td>\n",
       "      <td>2011-10-23</td>\n",
       "      <td>Hannover</td>\n",
       "      <td>Bayern Munich</td>\n",
       "      <td>2</td>\n",
       "      <td>1</td>\n",
       "      <td>H</td>\n",
       "      <td>True</td>\n",
       "    </tr>\n",
       "    <tr>\n",
       "      <td>12</td>\n",
       "      <td>1104</td>\n",
       "      <td>D1</td>\n",
       "      <td>2011</td>\n",
       "      <td>2011-08-27</td>\n",
       "      <td>Kaiserslautern</td>\n",
       "      <td>Bayern Munich</td>\n",
       "      <td>0</td>\n",
       "      <td>3</td>\n",
       "      <td>A</td>\n",
       "      <td>True</td>\n",
       "    </tr>\n",
       "  </tbody>\n",
       "</table>\n",
       "</div>"
      ],
      "text/plain": [
       "    Match_ID Div  Season        Date        HomeTeam       AwayTeam  FTHG  \\\n",
       "0       1092  D1    2011  2012-03-31        Nurnberg  Bayern Munich     0   \n",
       "5       1097  D1    2011  2012-01-20      M'gladbach  Bayern Munich     3   \n",
       "8       1100  D1    2011  2011-09-18      Schalke 04  Bayern Munich     0   \n",
       "9       1101  D1    2011  2011-10-23        Hannover  Bayern Munich     2   \n",
       "12      1104  D1    2011  2011-08-27  Kaiserslautern  Bayern Munich     0   \n",
       "\n",
       "    FTAG FTR  Rain_Game  \n",
       "0      1   A       True  \n",
       "5      1   H       True  \n",
       "8      2   A       True  \n",
       "9      1   H       True  \n",
       "12     3   A       True  "
      ]
     },
     "execution_count": 70,
     "metadata": {},
     "output_type": "execute_result"
    }
   ],
   "source": [
    "rainy_games_df = matches2011_df.loc[matches2011_df['Rain_Game'] == True]\n",
    "rainy_games_df.head()"
   ]
  },
  {
   "cell_type": "code",
   "execution_count": 71,
   "metadata": {
    "ExecuteTime": {
     "end_time": "2019-10-23T09:33:24.794366Z",
     "start_time": "2019-10-23T09:33:24.787378Z"
    }
   },
   "outputs": [
    {
     "name": "stdout",
     "output_type": "stream",
     "text": [
      "<class 'pandas.core.frame.DataFrame'>\n",
      "Int64Index: 333 entries, 0 to 979\n",
      "Data columns (total 10 columns):\n",
      "Match_ID     333 non-null int64\n",
      "Div          333 non-null object\n",
      "Season       333 non-null int64\n",
      "Date         333 non-null object\n",
      "HomeTeam     333 non-null object\n",
      "AwayTeam     333 non-null object\n",
      "FTHG         333 non-null int64\n",
      "FTAG         333 non-null int64\n",
      "FTR          333 non-null object\n",
      "Rain_Game    333 non-null bool\n",
      "dtypes: bool(1), int64(4), object(5)\n",
      "memory usage: 26.3+ KB\n"
     ]
    }
   ],
   "source": [
    "rainy_games_df.info()"
   ]
  },
  {
   "cell_type": "code",
   "execution_count": 72,
   "metadata": {
    "ExecuteTime": {
     "end_time": "2019-10-23T09:33:24.814194Z",
     "start_time": "2019-10-23T09:33:24.796488Z"
    }
   },
   "outputs": [
    {
     "data": {
      "text/html": [
       "<div>\n",
       "<style scoped>\n",
       "    .dataframe tbody tr th:only-of-type {\n",
       "        vertical-align: middle;\n",
       "    }\n",
       "\n",
       "    .dataframe tbody tr th {\n",
       "        vertical-align: top;\n",
       "    }\n",
       "\n",
       "    .dataframe thead th {\n",
       "        text-align: right;\n",
       "    }\n",
       "</style>\n",
       "<table border=\"1\" class=\"dataframe\">\n",
       "  <thead>\n",
       "    <tr style=\"text-align: right;\">\n",
       "      <th></th>\n",
       "      <th>FTR</th>\n",
       "    </tr>\n",
       "    <tr>\n",
       "      <th>HomeTeam</th>\n",
       "      <th></th>\n",
       "    </tr>\n",
       "  </thead>\n",
       "  <tbody>\n",
       "    <tr>\n",
       "      <td>Aachen</td>\n",
       "      <td>1</td>\n",
       "    </tr>\n",
       "    <tr>\n",
       "      <td>Arsenal</td>\n",
       "      <td>6</td>\n",
       "    </tr>\n",
       "    <tr>\n",
       "      <td>Aston Villa</td>\n",
       "      <td>1</td>\n",
       "    </tr>\n",
       "    <tr>\n",
       "      <td>Augsburg</td>\n",
       "      <td>4</td>\n",
       "    </tr>\n",
       "    <tr>\n",
       "      <td>Bayern Munich</td>\n",
       "      <td>3</td>\n",
       "    </tr>\n",
       "  </tbody>\n",
       "</table>\n",
       "</div>"
      ],
      "text/plain": [
       "               FTR\n",
       "HomeTeam          \n",
       "Aachen           1\n",
       "Arsenal          6\n",
       "Aston Villa      1\n",
       "Augsburg         4\n",
       "Bayern Munich    3"
      ]
     },
     "execution_count": 72,
     "metadata": {},
     "output_type": "execute_result"
    }
   ],
   "source": [
    "home_wins_rainy = rainy_games_df[rainy_games_df.FTR == 'H'].pivot_table(index='HomeTeam', values='FTR', aggfunc='count')\n",
    "home_wins_rainy.head()"
   ]
  },
  {
   "cell_type": "code",
   "execution_count": 73,
   "metadata": {
    "ExecuteTime": {
     "end_time": "2019-10-23T09:33:24.830234Z",
     "start_time": "2019-10-23T09:33:24.818226Z"
    },
    "scrolled": true
   },
   "outputs": [
    {
     "data": {
      "text/html": [
       "<div>\n",
       "<style scoped>\n",
       "    .dataframe tbody tr th:only-of-type {\n",
       "        vertical-align: middle;\n",
       "    }\n",
       "\n",
       "    .dataframe tbody tr th {\n",
       "        vertical-align: top;\n",
       "    }\n",
       "\n",
       "    .dataframe thead th {\n",
       "        text-align: right;\n",
       "    }\n",
       "</style>\n",
       "<table border=\"1\" class=\"dataframe\">\n",
       "  <thead>\n",
       "    <tr style=\"text-align: right;\">\n",
       "      <th></th>\n",
       "      <th>Wins</th>\n",
       "    </tr>\n",
       "    <tr>\n",
       "      <th>HomeTeam</th>\n",
       "      <th></th>\n",
       "    </tr>\n",
       "  </thead>\n",
       "  <tbody>\n",
       "    <tr>\n",
       "      <td>Aachen</td>\n",
       "      <td>1</td>\n",
       "    </tr>\n",
       "    <tr>\n",
       "      <td>Arsenal</td>\n",
       "      <td>6</td>\n",
       "    </tr>\n",
       "    <tr>\n",
       "      <td>Aston Villa</td>\n",
       "      <td>1</td>\n",
       "    </tr>\n",
       "    <tr>\n",
       "      <td>Augsburg</td>\n",
       "      <td>4</td>\n",
       "    </tr>\n",
       "    <tr>\n",
       "      <td>Bayern Munich</td>\n",
       "      <td>3</td>\n",
       "    </tr>\n",
       "  </tbody>\n",
       "</table>\n",
       "</div>"
      ],
      "text/plain": [
       "               Wins\n",
       "HomeTeam           \n",
       "Aachen            1\n",
       "Arsenal           6\n",
       "Aston Villa       1\n",
       "Augsburg          4\n",
       "Bayern Munich     3"
      ]
     },
     "execution_count": 73,
     "metadata": {},
     "output_type": "execute_result"
    }
   ],
   "source": [
    "h = home_wins_rainy.rename({\"FTR\": \"Wins\"}, axis=1)\n",
    "h.head()"
   ]
  },
  {
   "cell_type": "code",
   "execution_count": 74,
   "metadata": {
    "ExecuteTime": {
     "end_time": "2019-10-23T09:33:24.837814Z",
     "start_time": "2019-10-23T09:33:24.833079Z"
    }
   },
   "outputs": [
    {
     "data": {
      "text/plain": [
       "51"
      ]
     },
     "execution_count": 74,
     "metadata": {},
     "output_type": "execute_result"
    }
   ],
   "source": [
    "len(h)"
   ]
  },
  {
   "cell_type": "code",
   "execution_count": 75,
   "metadata": {
    "ExecuteTime": {
     "end_time": "2019-10-23T09:33:24.856859Z",
     "start_time": "2019-10-23T09:33:24.839945Z"
    }
   },
   "outputs": [
    {
     "data": {
      "text/html": [
       "<div>\n",
       "<style scoped>\n",
       "    .dataframe tbody tr th:only-of-type {\n",
       "        vertical-align: middle;\n",
       "    }\n",
       "\n",
       "    .dataframe tbody tr th {\n",
       "        vertical-align: top;\n",
       "    }\n",
       "\n",
       "    .dataframe thead th {\n",
       "        text-align: right;\n",
       "    }\n",
       "</style>\n",
       "<table border=\"1\" class=\"dataframe\">\n",
       "  <thead>\n",
       "    <tr style=\"text-align: right;\">\n",
       "      <th></th>\n",
       "      <th>FTR</th>\n",
       "    </tr>\n",
       "    <tr>\n",
       "      <th>AwayTeam</th>\n",
       "      <th></th>\n",
       "    </tr>\n",
       "  </thead>\n",
       "  <tbody>\n",
       "    <tr>\n",
       "      <td>Aachen</td>\n",
       "      <td>2</td>\n",
       "    </tr>\n",
       "    <tr>\n",
       "      <td>Arsenal</td>\n",
       "      <td>2</td>\n",
       "    </tr>\n",
       "    <tr>\n",
       "      <td>Aston Villa</td>\n",
       "      <td>1</td>\n",
       "    </tr>\n",
       "    <tr>\n",
       "      <td>Bayern Munich</td>\n",
       "      <td>5</td>\n",
       "    </tr>\n",
       "    <tr>\n",
       "      <td>Bochum</td>\n",
       "      <td>2</td>\n",
       "    </tr>\n",
       "  </tbody>\n",
       "</table>\n",
       "</div>"
      ],
      "text/plain": [
       "               FTR\n",
       "AwayTeam          \n",
       "Aachen           2\n",
       "Arsenal          2\n",
       "Aston Villa      1\n",
       "Bayern Munich    5\n",
       "Bochum           2"
      ]
     },
     "execution_count": 75,
     "metadata": {},
     "output_type": "execute_result"
    }
   ],
   "source": [
    "away_wins_rainy = rainy_games_df[rainy_games_df.FTR == 'A'].pivot_table(index='AwayTeam', \n",
    "                                                                        values='FTR', aggfunc='count')\n",
    "away_wins_rainy.head()"
   ]
  },
  {
   "cell_type": "code",
   "execution_count": 76,
   "metadata": {
    "ExecuteTime": {
     "end_time": "2019-10-23T09:33:24.862983Z",
     "start_time": "2019-10-23T09:33:24.858981Z"
    }
   },
   "outputs": [
    {
     "data": {
      "text/plain": [
       "46"
      ]
     },
     "execution_count": 76,
     "metadata": {},
     "output_type": "execute_result"
    }
   ],
   "source": [
    "len(away_wins_rainy)"
   ]
  },
  {
   "cell_type": "code",
   "execution_count": 77,
   "metadata": {
    "ExecuteTime": {
     "end_time": "2019-10-23T09:33:24.870225Z",
     "start_time": "2019-10-23T09:33:24.865256Z"
    }
   },
   "outputs": [
    {
     "data": {
      "text/plain": [
       "51"
      ]
     },
     "execution_count": 77,
     "metadata": {},
     "output_type": "execute_result"
    }
   ],
   "source": [
    "len(home_wins_rainy)"
   ]
  },
  {
   "cell_type": "code",
   "execution_count": 78,
   "metadata": {
    "ExecuteTime": {
     "end_time": "2019-10-23T09:33:24.882314Z",
     "start_time": "2019-10-23T09:33:24.872465Z"
    }
   },
   "outputs": [
    {
     "data": {
      "text/html": [
       "<div>\n",
       "<style scoped>\n",
       "    .dataframe tbody tr th:only-of-type {\n",
       "        vertical-align: middle;\n",
       "    }\n",
       "\n",
       "    .dataframe tbody tr th {\n",
       "        vertical-align: top;\n",
       "    }\n",
       "\n",
       "    .dataframe thead th {\n",
       "        text-align: right;\n",
       "    }\n",
       "</style>\n",
       "<table border=\"1\" class=\"dataframe\">\n",
       "  <thead>\n",
       "    <tr style=\"text-align: right;\">\n",
       "      <th></th>\n",
       "      <th>Wins</th>\n",
       "      <th>FTR</th>\n",
       "    </tr>\n",
       "    <tr>\n",
       "      <th>HomeTeam</th>\n",
       "      <th></th>\n",
       "      <th></th>\n",
       "    </tr>\n",
       "  </thead>\n",
       "  <tbody>\n",
       "    <tr>\n",
       "      <td>Aachen</td>\n",
       "      <td>1</td>\n",
       "      <td>2.0</td>\n",
       "    </tr>\n",
       "    <tr>\n",
       "      <td>Arsenal</td>\n",
       "      <td>6</td>\n",
       "      <td>2.0</td>\n",
       "    </tr>\n",
       "    <tr>\n",
       "      <td>Aston Villa</td>\n",
       "      <td>1</td>\n",
       "      <td>1.0</td>\n",
       "    </tr>\n",
       "    <tr>\n",
       "      <td>Augsburg</td>\n",
       "      <td>4</td>\n",
       "      <td>NaN</td>\n",
       "    </tr>\n",
       "    <tr>\n",
       "      <td>Bayern Munich</td>\n",
       "      <td>3</td>\n",
       "      <td>5.0</td>\n",
       "    </tr>\n",
       "  </tbody>\n",
       "</table>\n",
       "</div>"
      ],
      "text/plain": [
       "               Wins  FTR\n",
       "HomeTeam                \n",
       "Aachen            1  2.0\n",
       "Arsenal           6  2.0\n",
       "Aston Villa       1  1.0\n",
       "Augsburg          4  NaN\n",
       "Bayern Munich     3  5.0"
      ]
     },
     "execution_count": 78,
     "metadata": {},
     "output_type": "execute_result"
    }
   ],
   "source": [
    "rainy_wins = h.merge(away_wins_rainy, how=\"left\", left_index=True, right_index=True)\n",
    "rainy_wins.head()"
   ]
  },
  {
   "cell_type": "code",
   "execution_count": 79,
   "metadata": {
    "ExecuteTime": {
     "end_time": "2019-10-23T09:33:24.888695Z",
     "start_time": "2019-10-23T09:33:24.884433Z"
    },
    "scrolled": true
   },
   "outputs": [
    {
     "data": {
      "text/plain": [
       "51"
      ]
     },
     "execution_count": 79,
     "metadata": {},
     "output_type": "execute_result"
    }
   ],
   "source": [
    "len(rainy_wins)"
   ]
  },
  {
   "cell_type": "code",
   "execution_count": 80,
   "metadata": {
    "ExecuteTime": {
     "end_time": "2019-10-23T09:33:24.896278Z",
     "start_time": "2019-10-23T09:33:24.890630Z"
    }
   },
   "outputs": [
    {
     "data": {
      "text/plain": [
       "Index(['Wins', 'FTR', 'rain_wins'], dtype='object')"
      ]
     },
     "execution_count": 80,
     "metadata": {},
     "output_type": "execute_result"
    }
   ],
   "source": [
    "rainy_wins['rain_wins'] = rainy_wins['Wins'] + rainy_wins['FTR']\n",
    "rainy_wins.columns"
   ]
  },
  {
   "cell_type": "code",
   "execution_count": 81,
   "metadata": {
    "ExecuteTime": {
     "end_time": "2019-10-23T09:33:24.910828Z",
     "start_time": "2019-10-23T09:33:24.898557Z"
    }
   },
   "outputs": [
    {
     "data": {
      "text/html": [
       "<div>\n",
       "<style scoped>\n",
       "    .dataframe tbody tr th:only-of-type {\n",
       "        vertical-align: middle;\n",
       "    }\n",
       "\n",
       "    .dataframe tbody tr th {\n",
       "        vertical-align: top;\n",
       "    }\n",
       "\n",
       "    .dataframe thead th {\n",
       "        text-align: right;\n",
       "    }\n",
       "</style>\n",
       "<table border=\"1\" class=\"dataframe\">\n",
       "  <thead>\n",
       "    <tr style=\"text-align: right;\">\n",
       "      <th></th>\n",
       "      <th>HomeTeam</th>\n",
       "      <th>Wins</th>\n",
       "      <th>FTR</th>\n",
       "      <th>rain_wins</th>\n",
       "    </tr>\n",
       "  </thead>\n",
       "  <tbody>\n",
       "    <tr>\n",
       "      <td>0</td>\n",
       "      <td>Aachen</td>\n",
       "      <td>1</td>\n",
       "      <td>2.0</td>\n",
       "      <td>3.0</td>\n",
       "    </tr>\n",
       "    <tr>\n",
       "      <td>1</td>\n",
       "      <td>Arsenal</td>\n",
       "      <td>6</td>\n",
       "      <td>2.0</td>\n",
       "      <td>8.0</td>\n",
       "    </tr>\n",
       "    <tr>\n",
       "      <td>2</td>\n",
       "      <td>Aston Villa</td>\n",
       "      <td>1</td>\n",
       "      <td>1.0</td>\n",
       "      <td>2.0</td>\n",
       "    </tr>\n",
       "    <tr>\n",
       "      <td>3</td>\n",
       "      <td>Augsburg</td>\n",
       "      <td>4</td>\n",
       "      <td>NaN</td>\n",
       "      <td>NaN</td>\n",
       "    </tr>\n",
       "    <tr>\n",
       "      <td>4</td>\n",
       "      <td>Bayern Munich</td>\n",
       "      <td>3</td>\n",
       "      <td>5.0</td>\n",
       "      <td>8.0</td>\n",
       "    </tr>\n",
       "  </tbody>\n",
       "</table>\n",
       "</div>"
      ],
      "text/plain": [
       "        HomeTeam  Wins  FTR  rain_wins\n",
       "0         Aachen     1  2.0        3.0\n",
       "1        Arsenal     6  2.0        8.0\n",
       "2    Aston Villa     1  1.0        2.0\n",
       "3       Augsburg     4  NaN        NaN\n",
       "4  Bayern Munich     3  5.0        8.0"
      ]
     },
     "execution_count": 81,
     "metadata": {},
     "output_type": "execute_result"
    }
   ],
   "source": [
    "# resetting the index so i can merge this df with wlg on teamname\n",
    "rainy_wins.reset_index(inplace=True)\n",
    "rainy_wins.head()"
   ]
  },
  {
   "cell_type": "code",
   "execution_count": 82,
   "metadata": {
    "ExecuteTime": {
     "end_time": "2019-10-23T09:33:24.924987Z",
     "start_time": "2019-10-23T09:33:24.913126Z"
    }
   },
   "outputs": [
    {
     "data": {
      "text/html": [
       "<div>\n",
       "<style scoped>\n",
       "    .dataframe tbody tr th:only-of-type {\n",
       "        vertical-align: middle;\n",
       "    }\n",
       "\n",
       "    .dataframe tbody tr th {\n",
       "        vertical-align: top;\n",
       "    }\n",
       "\n",
       "    .dataframe thead th {\n",
       "        text-align: right;\n",
       "    }\n",
       "</style>\n",
       "<table border=\"1\" class=\"dataframe\">\n",
       "  <thead>\n",
       "    <tr style=\"text-align: right;\">\n",
       "      <th></th>\n",
       "      <th>HomeTeam</th>\n",
       "      <th>rain_wins</th>\n",
       "    </tr>\n",
       "  </thead>\n",
       "  <tbody>\n",
       "    <tr>\n",
       "      <td>0</td>\n",
       "      <td>Aachen</td>\n",
       "      <td>3.0</td>\n",
       "    </tr>\n",
       "    <tr>\n",
       "      <td>1</td>\n",
       "      <td>Arsenal</td>\n",
       "      <td>8.0</td>\n",
       "    </tr>\n",
       "    <tr>\n",
       "      <td>2</td>\n",
       "      <td>Aston Villa</td>\n",
       "      <td>2.0</td>\n",
       "    </tr>\n",
       "    <tr>\n",
       "      <td>3</td>\n",
       "      <td>Augsburg</td>\n",
       "      <td>NaN</td>\n",
       "    </tr>\n",
       "    <tr>\n",
       "      <td>4</td>\n",
       "      <td>Bayern Munich</td>\n",
       "      <td>8.0</td>\n",
       "    </tr>\n",
       "  </tbody>\n",
       "</table>\n",
       "</div>"
      ],
      "text/plain": [
       "        HomeTeam  rain_wins\n",
       "0         Aachen        3.0\n",
       "1        Arsenal        8.0\n",
       "2    Aston Villa        2.0\n",
       "3       Augsburg        NaN\n",
       "4  Bayern Munich        8.0"
      ]
     },
     "execution_count": 82,
     "metadata": {},
     "output_type": "execute_result"
    }
   ],
   "source": [
    "rainy_wins.drop(['Wins', 'FTR'], axis=1, inplace=True)\n",
    "rainy_wins.head()"
   ]
  },
  {
   "cell_type": "code",
   "execution_count": 83,
   "metadata": {
    "ExecuteTime": {
     "end_time": "2019-10-23T09:33:24.930747Z",
     "start_time": "2019-10-23T09:33:24.926995Z"
    }
   },
   "outputs": [
    {
     "data": {
      "text/plain": [
       "56"
      ]
     },
     "execution_count": 83,
     "metadata": {},
     "output_type": "execute_result"
    }
   ],
   "source": [
    "len(wlg)"
   ]
  },
  {
   "cell_type": "code",
   "execution_count": 84,
   "metadata": {
    "ExecuteTime": {
     "end_time": "2019-10-23T09:33:24.937712Z",
     "start_time": "2019-10-23T09:33:24.933709Z"
    }
   },
   "outputs": [
    {
     "data": {
      "text/plain": [
       "Index(['Team', 'total_wins', 'total_losses', 'total_goals'], dtype='object')"
      ]
     },
     "execution_count": 84,
     "metadata": {},
     "output_type": "execute_result"
    }
   ],
   "source": [
    "wlg.columns"
   ]
  },
  {
   "cell_type": "code",
   "execution_count": 85,
   "metadata": {
    "ExecuteTime": {
     "end_time": "2019-10-23T09:33:24.956854Z",
     "start_time": "2019-10-23T09:33:24.939605Z"
    }
   },
   "outputs": [
    {
     "data": {
      "text/html": [
       "<div>\n",
       "<style scoped>\n",
       "    .dataframe tbody tr th:only-of-type {\n",
       "        vertical-align: middle;\n",
       "    }\n",
       "\n",
       "    .dataframe tbody tr th {\n",
       "        vertical-align: top;\n",
       "    }\n",
       "\n",
       "    .dataframe thead th {\n",
       "        text-align: right;\n",
       "    }\n",
       "</style>\n",
       "<table border=\"1\" class=\"dataframe\">\n",
       "  <thead>\n",
       "    <tr style=\"text-align: right;\">\n",
       "      <th></th>\n",
       "      <th>Team</th>\n",
       "      <th>total_wins</th>\n",
       "      <th>total_losses</th>\n",
       "      <th>total_goals</th>\n",
       "      <th>HomeTeam</th>\n",
       "      <th>rain_wins</th>\n",
       "    </tr>\n",
       "  </thead>\n",
       "  <tbody>\n",
       "    <tr>\n",
       "      <td>0</td>\n",
       "      <td>Aachen</td>\n",
       "      <td>6</td>\n",
       "      <td>15.0</td>\n",
       "      <td>19.0</td>\n",
       "      <td>Aachen</td>\n",
       "      <td>3.0</td>\n",
       "    </tr>\n",
       "    <tr>\n",
       "      <td>1</td>\n",
       "      <td>Arsenal</td>\n",
       "      <td>21</td>\n",
       "      <td>10.0</td>\n",
       "      <td>68.0</td>\n",
       "      <td>Arsenal</td>\n",
       "      <td>8.0</td>\n",
       "    </tr>\n",
       "    <tr>\n",
       "      <td>2</td>\n",
       "      <td>Aston Villa</td>\n",
       "      <td>7</td>\n",
       "      <td>14.0</td>\n",
       "      <td>24.0</td>\n",
       "      <td>Aston Villa</td>\n",
       "      <td>2.0</td>\n",
       "    </tr>\n",
       "    <tr>\n",
       "      <td>3</td>\n",
       "      <td>Augsburg</td>\n",
       "      <td>8</td>\n",
       "      <td>12.0</td>\n",
       "      <td>21.0</td>\n",
       "      <td>Augsburg</td>\n",
       "      <td>NaN</td>\n",
       "    </tr>\n",
       "    <tr>\n",
       "      <td>4</td>\n",
       "      <td>Bayern Munich</td>\n",
       "      <td>23</td>\n",
       "      <td>7.0</td>\n",
       "      <td>76.0</td>\n",
       "      <td>Bayern Munich</td>\n",
       "      <td>8.0</td>\n",
       "    </tr>\n",
       "  </tbody>\n",
       "</table>\n",
       "</div>"
      ],
      "text/plain": [
       "            Team  total_wins  total_losses  total_goals       HomeTeam  \\\n",
       "0         Aachen           6          15.0         19.0         Aachen   \n",
       "1        Arsenal          21          10.0         68.0        Arsenal   \n",
       "2    Aston Villa           7          14.0         24.0    Aston Villa   \n",
       "3       Augsburg           8          12.0         21.0       Augsburg   \n",
       "4  Bayern Munich          23           7.0         76.0  Bayern Munich   \n",
       "\n",
       "   rain_wins  \n",
       "0        3.0  \n",
       "1        8.0  \n",
       "2        2.0  \n",
       "3        NaN  \n",
       "4        8.0  "
      ]
     },
     "execution_count": 85,
     "metadata": {},
     "output_type": "execute_result"
    }
   ],
   "source": [
    "wlg_rain_df = pd.merge(wlg, rainy_wins, left_on=\"Team\", right_on=\"HomeTeam\", how=\"left\")\n",
    "wlg_rain_df.head()"
   ]
  },
  {
   "cell_type": "code",
   "execution_count": 86,
   "metadata": {
    "ExecuteTime": {
     "end_time": "2019-10-23T09:33:24.971006Z",
     "start_time": "2019-10-23T09:33:24.962040Z"
    }
   },
   "outputs": [],
   "source": [
    "wlg_rain_df.drop('HomeTeam', axis=1, inplace=True)"
   ]
  },
  {
   "cell_type": "code",
   "execution_count": 87,
   "metadata": {
    "ExecuteTime": {
     "end_time": "2019-10-23T09:33:24.987489Z",
     "start_time": "2019-10-23T09:33:24.975680Z"
    }
   },
   "outputs": [
    {
     "data": {
      "text/html": [
       "<div>\n",
       "<style scoped>\n",
       "    .dataframe tbody tr th:only-of-type {\n",
       "        vertical-align: middle;\n",
       "    }\n",
       "\n",
       "    .dataframe tbody tr th {\n",
       "        vertical-align: top;\n",
       "    }\n",
       "\n",
       "    .dataframe thead th {\n",
       "        text-align: right;\n",
       "    }\n",
       "</style>\n",
       "<table border=\"1\" class=\"dataframe\">\n",
       "  <thead>\n",
       "    <tr style=\"text-align: right;\">\n",
       "      <th></th>\n",
       "      <th>Team</th>\n",
       "      <th>total_wins</th>\n",
       "      <th>total_losses</th>\n",
       "      <th>total_goals</th>\n",
       "      <th>rain_wins</th>\n",
       "    </tr>\n",
       "  </thead>\n",
       "  <tbody>\n",
       "    <tr>\n",
       "      <td>0</td>\n",
       "      <td>Aachen</td>\n",
       "      <td>6</td>\n",
       "      <td>15.0</td>\n",
       "      <td>19.0</td>\n",
       "      <td>3.0</td>\n",
       "    </tr>\n",
       "    <tr>\n",
       "      <td>1</td>\n",
       "      <td>Arsenal</td>\n",
       "      <td>21</td>\n",
       "      <td>10.0</td>\n",
       "      <td>68.0</td>\n",
       "      <td>8.0</td>\n",
       "    </tr>\n",
       "    <tr>\n",
       "      <td>2</td>\n",
       "      <td>Aston Villa</td>\n",
       "      <td>7</td>\n",
       "      <td>14.0</td>\n",
       "      <td>24.0</td>\n",
       "      <td>2.0</td>\n",
       "    </tr>\n",
       "    <tr>\n",
       "      <td>3</td>\n",
       "      <td>Augsburg</td>\n",
       "      <td>8</td>\n",
       "      <td>12.0</td>\n",
       "      <td>21.0</td>\n",
       "      <td>NaN</td>\n",
       "    </tr>\n",
       "    <tr>\n",
       "      <td>4</td>\n",
       "      <td>Bayern Munich</td>\n",
       "      <td>23</td>\n",
       "      <td>7.0</td>\n",
       "      <td>76.0</td>\n",
       "      <td>8.0</td>\n",
       "    </tr>\n",
       "  </tbody>\n",
       "</table>\n",
       "</div>"
      ],
      "text/plain": [
       "            Team  total_wins  total_losses  total_goals  rain_wins\n",
       "0         Aachen           6          15.0         19.0        3.0\n",
       "1        Arsenal          21          10.0         68.0        8.0\n",
       "2    Aston Villa           7          14.0         24.0        2.0\n",
       "3       Augsburg           8          12.0         21.0        NaN\n",
       "4  Bayern Munich          23           7.0         76.0        8.0"
      ]
     },
     "execution_count": 87,
     "metadata": {},
     "output_type": "execute_result"
    }
   ],
   "source": [
    "wlg_rain_df.head()"
   ]
  },
  {
   "cell_type": "code",
   "execution_count": 88,
   "metadata": {
    "ExecuteTime": {
     "end_time": "2019-10-23T09:33:25.000582Z",
     "start_time": "2019-10-23T09:33:24.990133Z"
    }
   },
   "outputs": [
    {
     "data": {
      "text/plain": [
       "Team            0\n",
       "total_wins      0\n",
       "total_losses    0\n",
       "total_goals     0\n",
       "rain_wins       0\n",
       "dtype: int64"
      ]
     },
     "execution_count": 88,
     "metadata": {},
     "output_type": "execute_result"
    }
   ],
   "source": [
    "wlg_rain_df['rain_wins'].fillna(0, inplace=True)\n",
    "wlg_rain_df.isna().sum()"
   ]
  },
  {
   "cell_type": "code",
   "execution_count": 89,
   "metadata": {
    "ExecuteTime": {
     "end_time": "2019-10-23T09:33:25.017837Z",
     "start_time": "2019-10-23T09:33:25.003074Z"
    }
   },
   "outputs": [
    {
     "data": {
      "text/html": [
       "<div>\n",
       "<style scoped>\n",
       "    .dataframe tbody tr th:only-of-type {\n",
       "        vertical-align: middle;\n",
       "    }\n",
       "\n",
       "    .dataframe tbody tr th {\n",
       "        vertical-align: top;\n",
       "    }\n",
       "\n",
       "    .dataframe thead th {\n",
       "        text-align: right;\n",
       "    }\n",
       "</style>\n",
       "<table border=\"1\" class=\"dataframe\">\n",
       "  <thead>\n",
       "    <tr style=\"text-align: right;\">\n",
       "      <th></th>\n",
       "      <th>Team</th>\n",
       "      <th>total_wins</th>\n",
       "      <th>total_losses</th>\n",
       "      <th>total_goals</th>\n",
       "      <th>rain_wins</th>\n",
       "      <th>rain_wins_percent</th>\n",
       "    </tr>\n",
       "  </thead>\n",
       "  <tbody>\n",
       "    <tr>\n",
       "      <td>0</td>\n",
       "      <td>Aachen</td>\n",
       "      <td>6</td>\n",
       "      <td>15.0</td>\n",
       "      <td>19.0</td>\n",
       "      <td>3.0</td>\n",
       "      <td>50.000000</td>\n",
       "    </tr>\n",
       "    <tr>\n",
       "      <td>1</td>\n",
       "      <td>Arsenal</td>\n",
       "      <td>21</td>\n",
       "      <td>10.0</td>\n",
       "      <td>68.0</td>\n",
       "      <td>8.0</td>\n",
       "      <td>38.095238</td>\n",
       "    </tr>\n",
       "    <tr>\n",
       "      <td>2</td>\n",
       "      <td>Aston Villa</td>\n",
       "      <td>7</td>\n",
       "      <td>14.0</td>\n",
       "      <td>24.0</td>\n",
       "      <td>2.0</td>\n",
       "      <td>28.571429</td>\n",
       "    </tr>\n",
       "    <tr>\n",
       "      <td>3</td>\n",
       "      <td>Augsburg</td>\n",
       "      <td>8</td>\n",
       "      <td>12.0</td>\n",
       "      <td>21.0</td>\n",
       "      <td>0.0</td>\n",
       "      <td>0.000000</td>\n",
       "    </tr>\n",
       "    <tr>\n",
       "      <td>4</td>\n",
       "      <td>Bayern Munich</td>\n",
       "      <td>23</td>\n",
       "      <td>7.0</td>\n",
       "      <td>76.0</td>\n",
       "      <td>8.0</td>\n",
       "      <td>34.782609</td>\n",
       "    </tr>\n",
       "  </tbody>\n",
       "</table>\n",
       "</div>"
      ],
      "text/plain": [
       "            Team  total_wins  total_losses  total_goals  rain_wins  \\\n",
       "0         Aachen           6          15.0         19.0        3.0   \n",
       "1        Arsenal          21          10.0         68.0        8.0   \n",
       "2    Aston Villa           7          14.0         24.0        2.0   \n",
       "3       Augsburg           8          12.0         21.0        0.0   \n",
       "4  Bayern Munich          23           7.0         76.0        8.0   \n",
       "\n",
       "   rain_wins_percent  \n",
       "0          50.000000  \n",
       "1          38.095238  \n",
       "2          28.571429  \n",
       "3           0.000000  \n",
       "4          34.782609  "
      ]
     },
     "execution_count": 89,
     "metadata": {},
     "output_type": "execute_result"
    }
   ],
   "source": [
    "# add a columns for % of rainy wins\n",
    "wlg_rain_df['rain_wins_percent'] = (wlg_rain_df['rain_wins'] / wlg_rain_df['total_wins']) * 100\n",
    "wlg_rain_df.head()"
   ]
  },
  {
   "cell_type": "code",
   "execution_count": 90,
   "metadata": {
    "ExecuteTime": {
     "end_time": "2019-10-23T09:33:25.023384Z",
     "start_time": "2019-10-23T09:33:25.020029Z"
    }
   },
   "outputs": [],
   "source": [
    "wlg_rain_df['rain_wins_percent'] = wlg_rain_df['rain_wins_percent'].round(0)"
   ]
  },
  {
   "cell_type": "code",
   "execution_count": 91,
   "metadata": {
    "ExecuteTime": {
     "end_time": "2019-10-23T09:33:25.036045Z",
     "start_time": "2019-10-23T09:33:25.025501Z"
    }
   },
   "outputs": [
    {
     "data": {
      "text/html": [
       "<div>\n",
       "<style scoped>\n",
       "    .dataframe tbody tr th:only-of-type {\n",
       "        vertical-align: middle;\n",
       "    }\n",
       "\n",
       "    .dataframe tbody tr th {\n",
       "        vertical-align: top;\n",
       "    }\n",
       "\n",
       "    .dataframe thead th {\n",
       "        text-align: right;\n",
       "    }\n",
       "</style>\n",
       "<table border=\"1\" class=\"dataframe\">\n",
       "  <thead>\n",
       "    <tr style=\"text-align: right;\">\n",
       "      <th></th>\n",
       "      <th>Team</th>\n",
       "      <th>total_wins</th>\n",
       "      <th>total_losses</th>\n",
       "      <th>total_goals</th>\n",
       "      <th>rain_wins</th>\n",
       "      <th>rain_wins_percent</th>\n",
       "    </tr>\n",
       "  </thead>\n",
       "  <tbody>\n",
       "    <tr>\n",
       "      <td>0</td>\n",
       "      <td>Aachen</td>\n",
       "      <td>6</td>\n",
       "      <td>15.0</td>\n",
       "      <td>19.0</td>\n",
       "      <td>3.0</td>\n",
       "      <td>50.0</td>\n",
       "    </tr>\n",
       "    <tr>\n",
       "      <td>1</td>\n",
       "      <td>Arsenal</td>\n",
       "      <td>21</td>\n",
       "      <td>10.0</td>\n",
       "      <td>68.0</td>\n",
       "      <td>8.0</td>\n",
       "      <td>38.0</td>\n",
       "    </tr>\n",
       "    <tr>\n",
       "      <td>2</td>\n",
       "      <td>Aston Villa</td>\n",
       "      <td>7</td>\n",
       "      <td>14.0</td>\n",
       "      <td>24.0</td>\n",
       "      <td>2.0</td>\n",
       "      <td>29.0</td>\n",
       "    </tr>\n",
       "    <tr>\n",
       "      <td>3</td>\n",
       "      <td>Augsburg</td>\n",
       "      <td>8</td>\n",
       "      <td>12.0</td>\n",
       "      <td>21.0</td>\n",
       "      <td>0.0</td>\n",
       "      <td>0.0</td>\n",
       "    </tr>\n",
       "    <tr>\n",
       "      <td>4</td>\n",
       "      <td>Bayern Munich</td>\n",
       "      <td>23</td>\n",
       "      <td>7.0</td>\n",
       "      <td>76.0</td>\n",
       "      <td>8.0</td>\n",
       "      <td>35.0</td>\n",
       "    </tr>\n",
       "  </tbody>\n",
       "</table>\n",
       "</div>"
      ],
      "text/plain": [
       "            Team  total_wins  total_losses  total_goals  rain_wins  \\\n",
       "0         Aachen           6          15.0         19.0        3.0   \n",
       "1        Arsenal          21          10.0         68.0        8.0   \n",
       "2    Aston Villa           7          14.0         24.0        2.0   \n",
       "3       Augsburg           8          12.0         21.0        0.0   \n",
       "4  Bayern Munich          23           7.0         76.0        8.0   \n",
       "\n",
       "   rain_wins_percent  \n",
       "0               50.0  \n",
       "1               38.0  \n",
       "2               29.0  \n",
       "3                0.0  \n",
       "4               35.0  "
      ]
     },
     "execution_count": 91,
     "metadata": {},
     "output_type": "execute_result"
    }
   ],
   "source": [
    "wlg_rain_df.head()"
   ]
  },
  {
   "cell_type": "markdown",
   "metadata": {},
   "source": [
    "# Data Visualization"
   ]
  },
  {
   "cell_type": "markdown",
   "metadata": {},
   "source": [
    "### Testing Visualization Process"
   ]
  },
  {
   "cell_type": "code",
   "execution_count": 92,
   "metadata": {
    "ExecuteTime": {
     "end_time": "2019-10-23T09:33:25.041921Z",
     "start_time": "2019-10-23T09:33:25.037908Z"
    },
    "scrolled": true
   },
   "outputs": [
    {
     "data": {
      "text/plain": [
       "Index(['Team', 'total_wins', 'total_losses', 'total_goals', 'rain_wins',\n",
       "       'rain_wins_percent'],\n",
       "      dtype='object')"
      ]
     },
     "execution_count": 92,
     "metadata": {},
     "output_type": "execute_result"
    }
   ],
   "source": [
    "wlg_rain_df.columns"
   ]
  },
  {
   "cell_type": "code",
   "execution_count": 93,
   "metadata": {
    "ExecuteTime": {
     "end_time": "2019-10-23T09:33:25.053702Z",
     "start_time": "2019-10-23T09:33:25.043543Z"
    }
   },
   "outputs": [
    {
     "data": {
      "text/html": [
       "<div>\n",
       "<style scoped>\n",
       "    .dataframe tbody tr th:only-of-type {\n",
       "        vertical-align: middle;\n",
       "    }\n",
       "\n",
       "    .dataframe tbody tr th {\n",
       "        vertical-align: top;\n",
       "    }\n",
       "\n",
       "    .dataframe thead th {\n",
       "        text-align: right;\n",
       "    }\n",
       "</style>\n",
       "<table border=\"1\" class=\"dataframe\">\n",
       "  <thead>\n",
       "    <tr style=\"text-align: right;\">\n",
       "      <th></th>\n",
       "      <th>Team</th>\n",
       "      <th>total_wins</th>\n",
       "      <th>total_losses</th>\n",
       "      <th>total_goals</th>\n",
       "      <th>rain_wins</th>\n",
       "      <th>rain_wins_percent</th>\n",
       "    </tr>\n",
       "  </thead>\n",
       "  <tbody>\n",
       "    <tr>\n",
       "      <td>0</td>\n",
       "      <td>Aachen</td>\n",
       "      <td>6</td>\n",
       "      <td>15.0</td>\n",
       "      <td>19.0</td>\n",
       "      <td>3.0</td>\n",
       "      <td>50.0</td>\n",
       "    </tr>\n",
       "    <tr>\n",
       "      <td>1</td>\n",
       "      <td>Arsenal</td>\n",
       "      <td>21</td>\n",
       "      <td>10.0</td>\n",
       "      <td>68.0</td>\n",
       "      <td>8.0</td>\n",
       "      <td>38.0</td>\n",
       "    </tr>\n",
       "    <tr>\n",
       "      <td>2</td>\n",
       "      <td>Aston Villa</td>\n",
       "      <td>7</td>\n",
       "      <td>14.0</td>\n",
       "      <td>24.0</td>\n",
       "      <td>2.0</td>\n",
       "      <td>29.0</td>\n",
       "    </tr>\n",
       "    <tr>\n",
       "      <td>3</td>\n",
       "      <td>Augsburg</td>\n",
       "      <td>8</td>\n",
       "      <td>12.0</td>\n",
       "      <td>21.0</td>\n",
       "      <td>0.0</td>\n",
       "      <td>0.0</td>\n",
       "    </tr>\n",
       "    <tr>\n",
       "      <td>4</td>\n",
       "      <td>Bayern Munich</td>\n",
       "      <td>23</td>\n",
       "      <td>7.0</td>\n",
       "      <td>76.0</td>\n",
       "      <td>8.0</td>\n",
       "      <td>35.0</td>\n",
       "    </tr>\n",
       "  </tbody>\n",
       "</table>\n",
       "</div>"
      ],
      "text/plain": [
       "            Team  total_wins  total_losses  total_goals  rain_wins  \\\n",
       "0         Aachen           6          15.0         19.0        3.0   \n",
       "1        Arsenal          21          10.0         68.0        8.0   \n",
       "2    Aston Villa           7          14.0         24.0        2.0   \n",
       "3       Augsburg           8          12.0         21.0        0.0   \n",
       "4  Bayern Munich          23           7.0         76.0        8.0   \n",
       "\n",
       "   rain_wins_percent  \n",
       "0               50.0  \n",
       "1               38.0  \n",
       "2               29.0  \n",
       "3                0.0  \n",
       "4               35.0  "
      ]
     },
     "execution_count": 93,
     "metadata": {},
     "output_type": "execute_result"
    }
   ],
   "source": [
    "wlgr_test = wlg_rain_df.copy()\n",
    "wlgr_test.head()"
   ]
  },
  {
   "cell_type": "code",
   "execution_count": 94,
   "metadata": {
    "ExecuteTime": {
     "end_time": "2019-10-23T09:33:25.065487Z",
     "start_time": "2019-10-23T09:33:25.055540Z"
    }
   },
   "outputs": [
    {
     "data": {
      "text/html": [
       "<div>\n",
       "<style scoped>\n",
       "    .dataframe tbody tr th:only-of-type {\n",
       "        vertical-align: middle;\n",
       "    }\n",
       "\n",
       "    .dataframe tbody tr th {\n",
       "        vertical-align: top;\n",
       "    }\n",
       "\n",
       "    .dataframe thead th {\n",
       "        text-align: right;\n",
       "    }\n",
       "</style>\n",
       "<table border=\"1\" class=\"dataframe\">\n",
       "  <thead>\n",
       "    <tr style=\"text-align: right;\">\n",
       "      <th></th>\n",
       "      <th>total_wins</th>\n",
       "      <th>total_losses</th>\n",
       "      <th>total_goals</th>\n",
       "      <th>rain_wins</th>\n",
       "      <th>rain_wins_percent</th>\n",
       "    </tr>\n",
       "    <tr>\n",
       "      <th>Team</th>\n",
       "      <th></th>\n",
       "      <th></th>\n",
       "      <th></th>\n",
       "      <th></th>\n",
       "      <th></th>\n",
       "    </tr>\n",
       "  </thead>\n",
       "  <tbody>\n",
       "    <tr>\n",
       "      <td>Aachen</td>\n",
       "      <td>6</td>\n",
       "      <td>15.0</td>\n",
       "      <td>19.0</td>\n",
       "      <td>3.0</td>\n",
       "      <td>50.0</td>\n",
       "    </tr>\n",
       "    <tr>\n",
       "      <td>Arsenal</td>\n",
       "      <td>21</td>\n",
       "      <td>10.0</td>\n",
       "      <td>68.0</td>\n",
       "      <td>8.0</td>\n",
       "      <td>38.0</td>\n",
       "    </tr>\n",
       "    <tr>\n",
       "      <td>Aston Villa</td>\n",
       "      <td>7</td>\n",
       "      <td>14.0</td>\n",
       "      <td>24.0</td>\n",
       "      <td>2.0</td>\n",
       "      <td>29.0</td>\n",
       "    </tr>\n",
       "    <tr>\n",
       "      <td>Augsburg</td>\n",
       "      <td>8</td>\n",
       "      <td>12.0</td>\n",
       "      <td>21.0</td>\n",
       "      <td>0.0</td>\n",
       "      <td>0.0</td>\n",
       "    </tr>\n",
       "    <tr>\n",
       "      <td>Bayern Munich</td>\n",
       "      <td>23</td>\n",
       "      <td>7.0</td>\n",
       "      <td>76.0</td>\n",
       "      <td>8.0</td>\n",
       "      <td>35.0</td>\n",
       "    </tr>\n",
       "  </tbody>\n",
       "</table>\n",
       "</div>"
      ],
      "text/plain": [
       "               total_wins  total_losses  total_goals  rain_wins  \\\n",
       "Team                                                              \n",
       "Aachen                  6          15.0         19.0        3.0   \n",
       "Arsenal                21          10.0         68.0        8.0   \n",
       "Aston Villa             7          14.0         24.0        2.0   \n",
       "Augsburg                8          12.0         21.0        0.0   \n",
       "Bayern Munich          23           7.0         76.0        8.0   \n",
       "\n",
       "               rain_wins_percent  \n",
       "Team                              \n",
       "Aachen                      50.0  \n",
       "Arsenal                     38.0  \n",
       "Aston Villa                 29.0  \n",
       "Augsburg                     0.0  \n",
       "Bayern Munich               35.0  "
      ]
     },
     "execution_count": 94,
     "metadata": {},
     "output_type": "execute_result"
    }
   ],
   "source": [
    "wlgr_test.set_index('Team', inplace=True)\n",
    "wlgr_test.head()"
   ]
  },
  {
   "cell_type": "code",
   "execution_count": 95,
   "metadata": {
    "ExecuteTime": {
     "end_time": "2019-10-23T09:33:25.074004Z",
     "start_time": "2019-10-23T09:33:25.067279Z"
    }
   },
   "outputs": [
    {
     "data": {
      "text/plain": [
       "total_wins      21.0\n",
       "total_losses    10.0\n",
       "Name: Arsenal, dtype: float64"
      ]
     },
     "execution_count": 95,
     "metadata": {},
     "output_type": "execute_result"
    }
   ],
   "source": [
    "arsenal = wlgr_test.loc['Arsenal', 'total_wins':'total_losses']\n",
    "arsenal"
   ]
  },
  {
   "cell_type": "code",
   "execution_count": 96,
   "metadata": {
    "ExecuteTime": {
     "end_time": "2019-10-23T09:33:25.234717Z",
     "start_time": "2019-10-23T09:33:25.075746Z"
    }
   },
   "outputs": [
    {
     "data": {
      "text/plain": [
       "<matplotlib.axes._subplots.AxesSubplot at 0x11674fc18>"
      ]
     },
     "execution_count": 96,
     "metadata": {},
     "output_type": "execute_result"
    },
    {
     "data": {
      "image/png": "[encoded data removed]",
      "text/plain": [
       "<Figure size 432x288 with 1 Axes>"
      ]
     },
     "metadata": {
      "needs_background": "light"
     },
     "output_type": "display_data"
    }
   ],
   "source": [
    "arsenal.plot.bar()"
   ]
  },
  {
   "cell_type": "markdown",
   "metadata": {},
   "source": [
    "### Visualization function"
   ]
  },
  {
   "cell_type": "markdown",
   "metadata": {},
   "source": [
    "Now I'm making a final df to work with, where we will have the index be the unique team names while retaining the `Team` column as well."
   ]
  },
  {
   "cell_type": "code",
   "execution_count": 97,
   "metadata": {
    "ExecuteTime": {
     "end_time": "2019-10-23T09:33:25.247773Z",
     "start_time": "2019-10-23T09:33:25.236667Z"
    }
   },
   "outputs": [
    {
     "data": {
      "text/html": [
       "<div>\n",
       "<style scoped>\n",
       "    .dataframe tbody tr th:only-of-type {\n",
       "        vertical-align: middle;\n",
       "    }\n",
       "\n",
       "    .dataframe tbody tr th {\n",
       "        vertical-align: top;\n",
       "    }\n",
       "\n",
       "    .dataframe thead th {\n",
       "        text-align: right;\n",
       "    }\n",
       "</style>\n",
       "<table border=\"1\" class=\"dataframe\">\n",
       "  <thead>\n",
       "    <tr style=\"text-align: right;\">\n",
       "      <th></th>\n",
       "      <th>Team</th>\n",
       "      <th>total_wins</th>\n",
       "      <th>total_losses</th>\n",
       "      <th>total_goals</th>\n",
       "      <th>rain_wins</th>\n",
       "      <th>rain_wins_percent</th>\n",
       "      <th>unique_team</th>\n",
       "    </tr>\n",
       "  </thead>\n",
       "  <tbody>\n",
       "    <tr>\n",
       "      <td>0</td>\n",
       "      <td>Aachen</td>\n",
       "      <td>6</td>\n",
       "      <td>15.0</td>\n",
       "      <td>19.0</td>\n",
       "      <td>3.0</td>\n",
       "      <td>50.0</td>\n",
       "      <td>Aachen</td>\n",
       "    </tr>\n",
       "    <tr>\n",
       "      <td>1</td>\n",
       "      <td>Arsenal</td>\n",
       "      <td>21</td>\n",
       "      <td>10.0</td>\n",
       "      <td>68.0</td>\n",
       "      <td>8.0</td>\n",
       "      <td>38.0</td>\n",
       "      <td>Arsenal</td>\n",
       "    </tr>\n",
       "    <tr>\n",
       "      <td>2</td>\n",
       "      <td>Aston Villa</td>\n",
       "      <td>7</td>\n",
       "      <td>14.0</td>\n",
       "      <td>24.0</td>\n",
       "      <td>2.0</td>\n",
       "      <td>29.0</td>\n",
       "      <td>Aston Villa</td>\n",
       "    </tr>\n",
       "    <tr>\n",
       "      <td>3</td>\n",
       "      <td>Augsburg</td>\n",
       "      <td>8</td>\n",
       "      <td>12.0</td>\n",
       "      <td>21.0</td>\n",
       "      <td>0.0</td>\n",
       "      <td>0.0</td>\n",
       "      <td>Augsburg</td>\n",
       "    </tr>\n",
       "    <tr>\n",
       "      <td>4</td>\n",
       "      <td>Bayern Munich</td>\n",
       "      <td>23</td>\n",
       "      <td>7.0</td>\n",
       "      <td>76.0</td>\n",
       "      <td>8.0</td>\n",
       "      <td>35.0</td>\n",
       "      <td>Bayern Munich</td>\n",
       "    </tr>\n",
       "  </tbody>\n",
       "</table>\n",
       "</div>"
      ],
      "text/plain": [
       "            Team  total_wins  total_losses  total_goals  rain_wins  \\\n",
       "0         Aachen           6          15.0         19.0        3.0   \n",
       "1        Arsenal          21          10.0         68.0        8.0   \n",
       "2    Aston Villa           7          14.0         24.0        2.0   \n",
       "3       Augsburg           8          12.0         21.0        0.0   \n",
       "4  Bayern Munich          23           7.0         76.0        8.0   \n",
       "\n",
       "   rain_wins_percent    unique_team  \n",
       "0               50.0         Aachen  \n",
       "1               38.0        Arsenal  \n",
       "2               29.0    Aston Villa  \n",
       "3                0.0       Augsburg  \n",
       "4               35.0  Bayern Munich  "
      ]
     },
     "execution_count": 97,
     "metadata": {},
     "output_type": "execute_result"
    }
   ],
   "source": [
    "wlgr = wlg_rain_df.copy()\n",
    "wlgr['unique_team'] = wlgr['Team']\n",
    "wlgr.head()"
   ]
  },
  {
   "cell_type": "code",
   "execution_count": 98,
   "metadata": {
    "ExecuteTime": {
     "end_time": "2019-10-23T09:33:25.259471Z",
     "start_time": "2019-10-23T09:33:25.249622Z"
    }
   },
   "outputs": [
    {
     "data": {
      "text/html": [
       "<div>\n",
       "<style scoped>\n",
       "    .dataframe tbody tr th:only-of-type {\n",
       "        vertical-align: middle;\n",
       "    }\n",
       "\n",
       "    .dataframe tbody tr th {\n",
       "        vertical-align: top;\n",
       "    }\n",
       "\n",
       "    .dataframe thead th {\n",
       "        text-align: right;\n",
       "    }\n",
       "</style>\n",
       "<table border=\"1\" class=\"dataframe\">\n",
       "  <thead>\n",
       "    <tr style=\"text-align: right;\">\n",
       "      <th></th>\n",
       "      <th>Team</th>\n",
       "      <th>total_wins</th>\n",
       "      <th>total_losses</th>\n",
       "      <th>total_goals</th>\n",
       "      <th>rain_wins</th>\n",
       "      <th>rain_wins_percent</th>\n",
       "    </tr>\n",
       "    <tr>\n",
       "      <th>unique_team</th>\n",
       "      <th></th>\n",
       "      <th></th>\n",
       "      <th></th>\n",
       "      <th></th>\n",
       "      <th></th>\n",
       "      <th></th>\n",
       "    </tr>\n",
       "  </thead>\n",
       "  <tbody>\n",
       "    <tr>\n",
       "      <td>Aachen</td>\n",
       "      <td>Aachen</td>\n",
       "      <td>6</td>\n",
       "      <td>15.0</td>\n",
       "      <td>19.0</td>\n",
       "      <td>3.0</td>\n",
       "      <td>50.0</td>\n",
       "    </tr>\n",
       "    <tr>\n",
       "      <td>Arsenal</td>\n",
       "      <td>Arsenal</td>\n",
       "      <td>21</td>\n",
       "      <td>10.0</td>\n",
       "      <td>68.0</td>\n",
       "      <td>8.0</td>\n",
       "      <td>38.0</td>\n",
       "    </tr>\n",
       "    <tr>\n",
       "      <td>Aston Villa</td>\n",
       "      <td>Aston Villa</td>\n",
       "      <td>7</td>\n",
       "      <td>14.0</td>\n",
       "      <td>24.0</td>\n",
       "      <td>2.0</td>\n",
       "      <td>29.0</td>\n",
       "    </tr>\n",
       "    <tr>\n",
       "      <td>Augsburg</td>\n",
       "      <td>Augsburg</td>\n",
       "      <td>8</td>\n",
       "      <td>12.0</td>\n",
       "      <td>21.0</td>\n",
       "      <td>0.0</td>\n",
       "      <td>0.0</td>\n",
       "    </tr>\n",
       "    <tr>\n",
       "      <td>Bayern Munich</td>\n",
       "      <td>Bayern Munich</td>\n",
       "      <td>23</td>\n",
       "      <td>7.0</td>\n",
       "      <td>76.0</td>\n",
       "      <td>8.0</td>\n",
       "      <td>35.0</td>\n",
       "    </tr>\n",
       "  </tbody>\n",
       "</table>\n",
       "</div>"
      ],
      "text/plain": [
       "                        Team  total_wins  total_losses  total_goals  \\\n",
       "unique_team                                                           \n",
       "Aachen                Aachen           6          15.0         19.0   \n",
       "Arsenal              Arsenal          21          10.0         68.0   \n",
       "Aston Villa      Aston Villa           7          14.0         24.0   \n",
       "Augsburg            Augsburg           8          12.0         21.0   \n",
       "Bayern Munich  Bayern Munich          23           7.0         76.0   \n",
       "\n",
       "               rain_wins  rain_wins_percent  \n",
       "unique_team                                  \n",
       "Aachen               3.0               50.0  \n",
       "Arsenal              8.0               38.0  \n",
       "Aston Villa          2.0               29.0  \n",
       "Augsburg             0.0                0.0  \n",
       "Bayern Munich        8.0               35.0  "
      ]
     },
     "execution_count": 98,
     "metadata": {},
     "output_type": "execute_result"
    }
   ],
   "source": [
    "wlgr.set_index('unique_team', inplace=True)\n",
    "wlgr.head()"
   ]
  },
  {
   "cell_type": "code",
   "execution_count": 111,
   "metadata": {
    "ExecuteTime": {
     "end_time": "2019-10-23T10:26:09.614639Z",
     "start_time": "2019-10-23T10:26:09.453311Z"
    }
   },
   "outputs": [
    {
     "data": {
      "image/png": "[encoded data removed]",
      "text/plain": [
       "<Figure size 432x288 with 1 Axes>"
      ]
     },
     "metadata": {
      "needs_background": "light"
     },
     "output_type": "display_data"
    }
   ],
   "source": [
    "def get_plot(team, show_viz=False):\n",
    "    if team in all_teams:\n",
    "        x = wlgr.loc[team, 'total_wins':'total_losses']\n",
    "        x.plot.bar()\n",
    "       # viz = x.plot.bar()\n",
    "        plt.title(team)\n",
    "    \n",
    "    if show_viz:\n",
    "        plt.show\n",
    "    \n",
    "  #  return viz\n",
    "\n",
    "get_plot('Aachen')"
   ]
  },
  {
   "cell_type": "markdown",
   "metadata": {},
   "source": [
    "# Document Store - MongoDB"
   ]
  },
  {
   "cell_type": "markdown",
   "metadata": {},
   "source": [
    "## MongoDB Handler"
   ]
  },
  {
   "cell_type": "code",
   "execution_count": 151,
   "metadata": {
    "ExecuteTime": {
     "end_time": "2019-10-23T10:46:46.638812Z",
     "start_time": "2019-10-23T10:46:46.632643Z"
    }
   },
   "outputs": [],
   "source": [
    "import pymongo\n",
    "\n",
    "class MongodbHandler(object):\n",
    "    \n",
    "    def __init__(self):\n",
    "        self.myclient = pymongo.MongoClient(\"mongodb://127.0.0.1:27017\")\n",
    "        self.mydb = self.myclient['section_16_lab_db']\n",
    "        self.collection = self.mydb['section_16_lab_collection']\n",
    "    \n",
    "    def format_data(self, team_name, goals_2011, wins_2011, losses_2011, visual, rain_win_percent):\n",
    "        data = {\"team_name\": team_name,\n",
    "               \"goals_2011\": goals_2011,\n",
    "               \"wins_2011\": wins_2011,\n",
    "               \"losses_2011\": losses_2011,\n",
    "               \"win_loss_bar\": visual,\n",
    "               \"rain_wins_percent\": rain_wins_percent}\n",
    "        \n",
    "        return data\n",
    "    \n",
    "    def insert_record(self, record):\n",
    "        \n",
    "        return self.collection.insert_one(data)\n",
    "    \n",
    "    def find(mydb):\n",
    "        [p for p in mydb.find({})]"
   ]
  },
  {
   "cell_type": "code",
   "execution_count": 137,
   "metadata": {
    "ExecuteTime": {
     "end_time": "2019-10-23T10:44:52.068211Z",
     "start_time": "2019-10-23T10:44:52.063972Z"
    }
   },
   "outputs": [
    {
     "data": {
      "text/plain": [
       "Index(['Team', 'total_wins', 'total_losses', 'total_goals', 'rain_wins',\n",
       "       'rain_wins_percent'],\n",
       "      dtype='object')"
      ]
     },
     "execution_count": 137,
     "metadata": {},
     "output_type": "execute_result"
    }
   ],
   "source": [
    "wlgr.columns"
   ]
  },
  {
   "cell_type": "code",
   "execution_count": 138,
   "metadata": {
    "ExecuteTime": {
     "end_time": "2019-10-23T10:44:53.732653Z",
     "start_time": "2019-10-23T10:44:53.728270Z"
    }
   },
   "outputs": [],
   "source": [
    "wlgr_dict = wlgr.to_dict('index')"
   ]
  },
  {
   "cell_type": "code",
   "execution_count": 139,
   "metadata": {
    "ExecuteTime": {
     "end_time": "2019-10-23T10:44:55.131105Z",
     "start_time": "2019-10-23T10:44:55.127896Z"
    }
   },
   "outputs": [
    {
     "data": {
      "text/plain": [
       "dict"
      ]
     },
     "execution_count": 139,
     "metadata": {},
     "output_type": "execute_result"
    }
   ],
   "source": [
    "type(wlgr_dict)"
   ]
  },
  {
   "cell_type": "code",
   "execution_count": 140,
   "metadata": {
    "ExecuteTime": {
     "end_time": "2019-10-23T10:44:56.365577Z",
     "start_time": "2019-10-23T10:44:56.355062Z"
    }
   },
   "outputs": [
    {
     "data": {
      "text/plain": [
       "{'Aachen': {'Team': 'Aachen',\n",
       "  'total_wins': 6,\n",
       "  'total_losses': 15.0,\n",
       "  'total_goals': 19.0,\n",
       "  'rain_wins': 3.0,\n",
       "  'rain_wins_percent': 50.0},\n",
       " 'Arsenal': {'Team': 'Arsenal',\n",
       "  'total_wins': 21,\n",
       "  'total_losses': 10.0,\n",
       "  'total_goals': 68.0,\n",
       "  'rain_wins': 8.0,\n",
       "  'rain_wins_percent': 38.0},\n",
       " 'Aston Villa': {'Team': 'Aston Villa',\n",
       "  'total_wins': 7,\n",
       "  'total_losses': 14.0,\n",
       "  'total_goals': 24.0,\n",
       "  'rain_wins': 2.0,\n",
       "  'rain_wins_percent': 29.0},\n",
       " 'Augsburg': {'Team': 'Augsburg',\n",
       "  'total_wins': 8,\n",
       "  'total_losses': 12.0,\n",
       "  'total_goals': 21.0,\n",
       "  'rain_wins': 0.0,\n",
       "  'rain_wins_percent': 0.0},\n",
       " 'Bayern Munich': {'Team': 'Bayern Munich',\n",
       "  'total_wins': 23,\n",
       "  'total_losses': 7.0,\n",
       "  'total_goals': 76.0,\n",
       "  'rain_wins': 8.0,\n",
       "  'rain_wins_percent': 35.0},\n",
       " 'Blackburn': {'Team': 'Blackburn',\n",
       "  'total_wins': 8,\n",
       "  'total_losses': 23.0,\n",
       "  'total_goals': 37.0,\n",
       "  'rain_wins': 0.0,\n",
       "  'rain_wins_percent': 0.0},\n",
       " 'Bochum': {'Team': 'Bochum',\n",
       "  'total_wins': 10,\n",
       "  'total_losses': 17.0,\n",
       "  'total_goals': 37.0,\n",
       "  'rain_wins': 3.0,\n",
       "  'rain_wins_percent': 30.0},\n",
       " 'Bolton': {'Team': 'Bolton',\n",
       "  'total_wins': 10,\n",
       "  'total_losses': 22.0,\n",
       "  'total_goals': 38.0,\n",
       "  'rain_wins': 4.0,\n",
       "  'rain_wins_percent': 40.0},\n",
       " 'Braunschweig': {'Team': 'Braunschweig',\n",
       "  'total_wins': 10,\n",
       "  'total_losses': 9.0,\n",
       "  'total_goals': 28.0,\n",
       "  'rain_wins': 4.0,\n",
       "  'rain_wins_percent': 40.0},\n",
       " 'Chelsea': {'Team': 'Chelsea',\n",
       "  'total_wins': 18,\n",
       "  'total_losses': 10.0,\n",
       "  'total_goals': 57.0,\n",
       "  'rain_wins': 8.0,\n",
       "  'rain_wins_percent': 44.0},\n",
       " 'Cottbus': {'Team': 'Cottbus',\n",
       "  'total_wins': 8,\n",
       "  'total_losses': 15.0,\n",
       "  'total_goals': 20.0,\n",
       "  'rain_wins': 3.0,\n",
       "  'rain_wins_percent': 38.0},\n",
       " 'Dortmund': {'Team': 'Dortmund',\n",
       "  'total_wins': 25,\n",
       "  'total_losses': 3.0,\n",
       "  'total_goals': 73.0,\n",
       "  'rain_wins': 6.0,\n",
       "  'rain_wins_percent': 24.0},\n",
       " 'Dresden': {'Team': 'Dresden',\n",
       "  'total_wins': 12,\n",
       "  'total_losses': 13.0,\n",
       "  'total_goals': 38.0,\n",
       "  'rain_wins': 0.0,\n",
       "  'rain_wins_percent': 0.0},\n",
       " 'Duisburg': {'Team': 'Duisburg',\n",
       "  'total_wins': 10,\n",
       "  'total_losses': 15.0,\n",
       "  'total_goals': 34.0,\n",
       "  'rain_wins': 4.0,\n",
       "  'rain_wins_percent': 40.0},\n",
       " 'Ein Frankfurt': {'Team': 'Ein Frankfurt',\n",
       "  'total_wins': 20,\n",
       "  'total_losses': 6.0,\n",
       "  'total_goals': 68.0,\n",
       "  'rain_wins': 3.0,\n",
       "  'rain_wins_percent': 15.0},\n",
       " 'Erzgebirge Aue': {'Team': 'Erzgebirge Aue',\n",
       "  'total_wins': 8,\n",
       "  'total_losses': 15.0,\n",
       "  'total_goals': 23.0,\n",
       "  'rain_wins': 0.0,\n",
       "  'rain_wins_percent': 0.0},\n",
       " 'Everton': {'Team': 'Everton',\n",
       "  'total_wins': 15,\n",
       "  'total_losses': 12.0,\n",
       "  'total_goals': 35.0,\n",
       "  'rain_wins': 6.0,\n",
       "  'rain_wins_percent': 40.0},\n",
       " 'FC Koln': {'Team': 'FC Koln',\n",
       "  'total_wins': 8,\n",
       "  'total_losses': 20.0,\n",
       "  'total_goals': 32.0,\n",
       "  'rain_wins': 4.0,\n",
       "  'rain_wins_percent': 50.0},\n",
       " 'Fortuna Dusseldorf': {'Team': 'Fortuna Dusseldorf',\n",
       "  'total_wins': 16,\n",
       "  'total_losses': 4.0,\n",
       "  'total_goals': 53.0,\n",
       "  'rain_wins': 5.0,\n",
       "  'rain_wins_percent': 31.0},\n",
       " 'Frankfurt FSV': {'Team': 'Frankfurt FSV',\n",
       "  'total_wins': 7,\n",
       "  'total_losses': 13.0,\n",
       "  'total_goals': 28.0,\n",
       "  'rain_wins': 0.0,\n",
       "  'rain_wins_percent': 0.0},\n",
       " 'Freiburg': {'Team': 'Freiburg',\n",
       "  'total_wins': 10,\n",
       "  'total_losses': 14.0,\n",
       "  'total_goals': 35.0,\n",
       "  'rain_wins': 3.0,\n",
       "  'rain_wins_percent': 30.0},\n",
       " 'Fulham': {'Team': 'Fulham',\n",
       "  'total_wins': 14,\n",
       "  'total_losses': 14.0,\n",
       "  'total_goals': 40.0,\n",
       "  'rain_wins': 0.0,\n",
       "  'rain_wins_percent': 0.0},\n",
       " 'Greuther Furth': {'Team': 'Greuther Furth',\n",
       "  'total_wins': 20,\n",
       "  'total_losses': 4.0,\n",
       "  'total_goals': 64.0,\n",
       "  'rain_wins': 8.0,\n",
       "  'rain_wins_percent': 40.0},\n",
       " 'Hamburg': {'Team': 'Hamburg',\n",
       "  'total_wins': 8,\n",
       "  'total_losses': 14.0,\n",
       "  'total_goals': 23.0,\n",
       "  'rain_wins': 0.0,\n",
       "  'rain_wins_percent': 0.0},\n",
       " 'Hannover': {'Team': 'Hannover',\n",
       "  'total_wins': 12,\n",
       "  'total_losses': 10.0,\n",
       "  'total_goals': 31.0,\n",
       "  'rain_wins': 0.0,\n",
       "  'rain_wins_percent': 0.0},\n",
       " 'Hansa Rostock': {'Team': 'Hansa Rostock',\n",
       "  'total_wins': 5,\n",
       "  'total_losses': 17.0,\n",
       "  'total_goals': 25.0,\n",
       "  'rain_wins': 0.0,\n",
       "  'rain_wins_percent': 0.0},\n",
       " 'Hertha': {'Team': 'Hertha',\n",
       "  'total_wins': 7,\n",
       "  'total_losses': 17.0,\n",
       "  'total_goals': 23.0,\n",
       "  'rain_wins': 3.0,\n",
       "  'rain_wins_percent': 43.0},\n",
       " 'Hoffenheim': {'Team': 'Hoffenheim',\n",
       "  'total_wins': 10,\n",
       "  'total_losses': 13.0,\n",
       "  'total_goals': 32.0,\n",
       "  'rain_wins': 0.0,\n",
       "  'rain_wins_percent': 0.0},\n",
       " 'Ingolstadt': {'Team': 'Ingolstadt',\n",
       "  'total_wins': 8,\n",
       "  'total_losses': 13.0,\n",
       "  'total_goals': 30.0,\n",
       "  'rain_wins': 2.0,\n",
       "  'rain_wins_percent': 25.0},\n",
       " 'Kaiserslautern': {'Team': 'Kaiserslautern',\n",
       "  'total_wins': 4,\n",
       "  'total_losses': 19.0,\n",
       "  'total_goals': 15.0,\n",
       "  'rain_wins': 0.0,\n",
       "  'rain_wins_percent': 0.0},\n",
       " 'Karlsruhe': {'Team': 'Karlsruhe',\n",
       "  'total_wins': 9,\n",
       "  'total_losses': 19.0,\n",
       "  'total_goals': 29.0,\n",
       "  'rain_wins': 4.0,\n",
       "  'rain_wins_percent': 44.0},\n",
       " 'Leverkusen': {'Team': 'Leverkusen',\n",
       "  'total_wins': 15,\n",
       "  'total_losses': 10.0,\n",
       "  'total_goals': 38.0,\n",
       "  'rain_wins': 6.0,\n",
       "  'rain_wins_percent': 40.0},\n",
       " 'Liverpool': {'Team': 'Liverpool',\n",
       "  'total_wins': 14,\n",
       "  'total_losses': 14.0,\n",
       "  'total_goals': 41.0,\n",
       "  'rain_wins': 4.0,\n",
       "  'rain_wins_percent': 29.0},\n",
       " \"M'gladbach\": {'Team': \"M'gladbach\",\n",
       "  'total_wins': 17,\n",
       "  'total_losses': 8.0,\n",
       "  'total_goals': 42.0,\n",
       "  'rain_wins': 8.0,\n",
       "  'rain_wins_percent': 47.0},\n",
       " 'Mainz': {'Team': 'Mainz',\n",
       "  'total_wins': 9,\n",
       "  'total_losses': 13.0,\n",
       "  'total_goals': 37.0,\n",
       "  'rain_wins': 2.0,\n",
       "  'rain_wins_percent': 22.0},\n",
       " 'Man City': {'Team': 'Man City',\n",
       "  'total_wins': 28,\n",
       "  'total_losses': 5.0,\n",
       "  'total_goals': 86.0,\n",
       "  'rain_wins': 11.0,\n",
       "  'rain_wins_percent': 39.0},\n",
       " 'Man United': {'Team': 'Man United',\n",
       "  'total_wins': 28,\n",
       "  'total_losses': 5.0,\n",
       "  'total_goals': 79.0,\n",
       "  'rain_wins': 12.0,\n",
       "  'rain_wins_percent': 43.0},\n",
       " 'Munich 1860': {'Team': 'Munich 1860',\n",
       "  'total_wins': 17,\n",
       "  'total_losses': 11.0,\n",
       "  'total_goals': 54.0,\n",
       "  'rain_wins': 11.0,\n",
       "  'rain_wins_percent': 65.0},\n",
       " 'Newcastle': {'Team': 'Newcastle',\n",
       "  'total_wins': 19,\n",
       "  'total_losses': 11.0,\n",
       "  'total_goals': 49.0,\n",
       "  'rain_wins': 3.0,\n",
       "  'rain_wins_percent': 16.0},\n",
       " 'Norwich': {'Team': 'Norwich',\n",
       "  'total_wins': 12,\n",
       "  'total_losses': 15.0,\n",
       "  'total_goals': 36.0,\n",
       "  'rain_wins': 3.0,\n",
       "  'rain_wins_percent': 25.0},\n",
       " 'Nurnberg': {'Team': 'Nurnberg',\n",
       "  'total_wins': 12,\n",
       "  'total_losses': 16.0,\n",
       "  'total_goals': 29.0,\n",
       "  'rain_wins': 5.0,\n",
       "  'rain_wins_percent': 42.0},\n",
       " 'Paderborn': {'Team': 'Paderborn',\n",
       "  'total_wins': 17,\n",
       "  'total_losses': 7.0,\n",
       "  'total_goals': 42.0,\n",
       "  'rain_wins': 6.0,\n",
       "  'rain_wins_percent': 35.0},\n",
       " 'QPR': {'Team': 'QPR',\n",
       "  'total_wins': 10,\n",
       "  'total_losses': 21.0,\n",
       "  'total_goals': 36.0,\n",
       "  'rain_wins': 0.0,\n",
       "  'rain_wins_percent': 0.0},\n",
       " 'Schalke 04': {'Team': 'Schalke 04',\n",
       "  'total_wins': 20,\n",
       "  'total_losses': 10.0,\n",
       "  'total_goals': 69.0,\n",
       "  'rain_wins': 5.0,\n",
       "  'rain_wins_percent': 25.0},\n",
       " 'St Pauli': {'Team': 'St Pauli',\n",
       "  'total_wins': 18,\n",
       "  'total_losses': 8.0,\n",
       "  'total_goals': 51.0,\n",
       "  'rain_wins': 8.0,\n",
       "  'rain_wins_percent': 44.0},\n",
       " 'Stoke': {'Team': 'Stoke',\n",
       "  'total_wins': 11,\n",
       "  'total_losses': 15.0,\n",
       "  'total_goals': 25.0,\n",
       "  'rain_wins': 4.0,\n",
       "  'rain_wins_percent': 36.0},\n",
       " 'Stuttgart': {'Team': 'Stuttgart',\n",
       "  'total_wins': 15,\n",
       "  'total_losses': 11.0,\n",
       "  'total_goals': 50.0,\n",
       "  'rain_wins': 0.0,\n",
       "  'rain_wins_percent': 0.0},\n",
       " 'Sunderland': {'Team': 'Sunderland',\n",
       "  'total_wins': 11,\n",
       "  'total_losses': 15.0,\n",
       "  'total_goals': 33.0,\n",
       "  'rain_wins': 4.0,\n",
       "  'rain_wins_percent': 36.0},\n",
       " 'Swansea': {'Team': 'Swansea',\n",
       "  'total_wins': 12,\n",
       "  'total_losses': 15.0,\n",
       "  'total_goals': 34.0,\n",
       "  'rain_wins': 2.0,\n",
       "  'rain_wins_percent': 17.0},\n",
       " 'Tottenham': {'Team': 'Tottenham',\n",
       "  'total_wins': 20,\n",
       "  'total_losses': 9.0,\n",
       "  'total_goals': 59.0,\n",
       "  'rain_wins': 9.0,\n",
       "  'rain_wins_percent': 45.0},\n",
       " 'Union Berlin': {'Team': 'Union Berlin',\n",
       "  'total_wins': 14,\n",
       "  'total_losses': 14.0,\n",
       "  'total_goals': 48.0,\n",
       "  'rain_wins': 5.0,\n",
       "  'rain_wins_percent': 36.0},\n",
       " 'Werder Bremen': {'Team': 'Werder Bremen',\n",
       "  'total_wins': 11,\n",
       "  'total_losses': 14.0,\n",
       "  'total_goals': 39.0,\n",
       "  'rain_wins': 5.0,\n",
       "  'rain_wins_percent': 45.0},\n",
       " 'West Brom': {'Team': 'West Brom',\n",
       "  'total_wins': 13,\n",
       "  'total_losses': 17.0,\n",
       "  'total_goals': 38.0,\n",
       "  'rain_wins': 4.0,\n",
       "  'rain_wins_percent': 31.0},\n",
       " 'Wigan': {'Team': 'Wigan',\n",
       "  'total_wins': 11,\n",
       "  'total_losses': 17.0,\n",
       "  'total_goals': 32.0,\n",
       "  'rain_wins': 4.0,\n",
       "  'rain_wins_percent': 36.0},\n",
       " 'Wolfsburg': {'Team': 'Wolfsburg',\n",
       "  'total_wins': 13,\n",
       "  'total_losses': 16.0,\n",
       "  'total_goals': 44.0,\n",
       "  'rain_wins': 4.0,\n",
       "  'rain_wins_percent': 31.0},\n",
       " 'Wolves': {'Team': 'Wolves',\n",
       "  'total_wins': 5,\n",
       "  'total_losses': 23.0,\n",
       "  'total_goals': 27.0,\n",
       "  'rain_wins': 0.0,\n",
       "  'rain_wins_percent': 0.0}}"
      ]
     },
     "execution_count": 140,
     "metadata": {},
     "output_type": "execute_result"
    }
   ],
   "source": [
    "wlgr_dict"
   ]
  },
  {
   "cell_type": "code",
   "execution_count": 141,
   "metadata": {
    "ExecuteTime": {
     "end_time": "2019-10-23T10:44:58.571067Z",
     "start_time": "2019-10-23T10:44:57.914591Z"
    }
   },
   "outputs": [
    {
     "data": {
      "image/png": "[encoded data removed]",
      "text/plain": [
       "<Figure size 432x288 with 1 Axes>"
      ]
     },
     "metadata": {
      "needs_background": "light"
     },
     "output_type": "display_data"
    }
   ],
   "source": [
    "mydb = MongodbHandler()\n",
    "\n",
    "for team, data in wlgr_dict.items():\n",
    "    if data['rain_wins'] == 0:\n",
    "        rain_wins_percent = 'N/A'\n",
    "    else:\n",
    "        rain_wins_percent = str(data['total_wins'] / data['rain_wins'])\n",
    "    \n",
    "    visual = get_plot(team)\n",
    "    \n",
    "    record = mydb.format_data(team, data['total_goals'], data['total_wins'], \n",
    "                            data['total_losses'], visual, 'rain_wins_percent')\n",
    "    mydb.insert_record(record)\n",
    "    del(visual)"
   ]
  },
  {
   "cell_type": "markdown",
   "metadata": {},
   "source": [
    "# Summary\n",
    "\n",
    "In this lab, we dug deep and used everything we've learned so far about python programming, databases, HTTP requests and API calls to ETL data from a SQL database into a MongoDB instance!"
   ]
  }
 ],
 "metadata": {
  "kernelspec": {
   "display_name": "learn-env",
   "language": "python",
   "name": "learn-env"
  },
  "language_info": {
   "codemirror_mode": {
    "name": "ipython",
    "version": 3
   },
   "file_extension": ".py",
   "mimetype": "text/x-python",
   "name": "python",
   "nbconvert_exporter": "python",
   "pygments_lexer": "ipython3",
   "version": "3.6.9"
  },
  "toc": {
   "base_numbering": 1,
   "nav_menu": {},
   "number_sections": true,
   "sideBar": true,
   "skip_h1_title": false,
   "title_cell": "Table of Contents",
   "title_sidebar": "Contents",
   "toc_cell": false,
   "toc_position": {
    "height": "calc(100% - 180px)",
    "left": "10px",
    "top": "150px",
    "width": "288px"
   },
   "toc_section_display": true,
   "toc_window_display": true
  },
  "varInspector": {
   "cols": {
    "lenName": 16,
    "lenType": 16,
    "lenVar": 40
   },
   "kernels_config": {
    "python": {
     "delete_cmd_postfix": "",
     "delete_cmd_prefix": "del ",
     "library": "var_list.py",
     "varRefreshCmd": "print(var_dic_list())"
    },
    "r": {
     "delete_cmd_postfix": ") ",
     "delete_cmd_prefix": "rm(",
     "library": "var_list.r",
     "varRefreshCmd": "cat(var_dic_list()) "
    }
   },
   "types_to_exclude": [
    "module",
    "function",
    "builtin_function_or_method",
    "instance",
    "_Feature"
   ],
   "window_display": true
  }
 },
 "nbformat": 4,
 "nbformat_minor": 2
}
